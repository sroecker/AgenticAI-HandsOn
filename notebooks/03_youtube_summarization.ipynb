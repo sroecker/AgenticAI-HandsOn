{
 "cells": [
  {
   "cell_type": "code",
   "execution_count": null,
   "id": "7c30861b-0ba9-4424-b653-689663b845e2",
   "metadata": {},
   "outputs": [],
   "source": [
    "from agno.agent import Agent\n",
    "from agno.models.ollama import Ollama\n",
    "from agno.tools.youtube import YouTubeTools"
   ]
  },
  {
   "cell_type": "code",
   "execution_count": null,
   "id": "92aef3ea-e380-4832-83a7-e695fccdc4a0",
   "metadata": {},
   "outputs": [],
   "source": [
    "OLLAMA_HOST=\"localhost\"\n",
    "#OLLAMA_HOST=\"ollama.ollama.svc.cluster.local\""
   ]
  },
  {
   "cell_type": "markdown",
   "id": "67ccb9b2-7f75-478e-89b0-adeb0c4cd53e",
   "metadata": {},
   "source": [
    "Again we'll increase the context to have space for the YT captions as the instructions and tool section will already take around 800 tokens."
   ]
  },
  {
   "cell_type": "code",
   "execution_count": null,
   "id": "faef5cc8-147c-43a4-a740-86122916b1cd",
   "metadata": {},
   "outputs": [],
   "source": [
    "agent = Agent(\n",
    "    model=Ollama(id=\"llama3.1:8b-instruct-q8_0\", options={\"num_ctx\": 4096}, host=OLLAMA_HOST),\n",
    "    tools=[YouTubeTools()],\n",
    "    show_tool_calls=True,\n",
    "    description=\"You are a YouTube agent. Obtain the captions of a YouTube video and answer questions.\",\n",
    "    debug_mode=True,\n",
    ")"
   ]
  },
  {
   "cell_type": "markdown",
   "id": "cbdf959f-6831-42de-9cb3-54fd87a3a7ca",
   "metadata": {},
   "source": [
    "This time we've enabled debug_mode to see exactly what the agent is doing."
   ]
  },
  {
   "cell_type": "code",
   "execution_count": null,
   "id": "a59bb0a8-c28e-42df-91c7-7ba00226faa8",
   "metadata": {},
   "outputs": [],
   "source": [
    "result = agent.run(\"Summarize this video https://www.youtube.com/watch?v=98UeougY0zQ\", markdown=True)"
   ]
  },
  {
   "cell_type": "code",
   "execution_count": null,
   "id": "6abe8fa5-6d34-4067-b370-3ef9029c5e1c",
   "metadata": {},
   "outputs": [],
   "source": [
    "print(result.content)"
   ]
  },
  {
   "cell_type": "markdown",
   "id": "6e94733f-ed0e-40bc-be90-a41634b92045",
   "metadata": {},
   "source": [
    "Watch out for hallucinations as only the CEO of Red Hat is mentioned. The video clearly shows Matt Hicks but sometimes the LLM will hallucinate and speak of Paul Cormier, the previous CEO."
   ]
  }
 ],
 "metadata": {
  "kernelspec": {
   "display_name": "Python 3 (ipykernel)",
   "language": "python",
   "name": "python3"
  },
  "language_info": {
   "codemirror_mode": {
    "name": "ipython",
    "version": 3
   },
   "file_extension": ".py",
   "mimetype": "text/x-python",
   "name": "python",
   "nbconvert_exporter": "python",
   "pygments_lexer": "ipython3",
   "version": "3.11.10"
  }
 },
 "nbformat": 4,
 "nbformat_minor": 5
}
