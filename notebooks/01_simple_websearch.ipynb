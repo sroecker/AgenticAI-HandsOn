{
 "cells": [
  {
   "cell_type": "markdown",
   "id": "4af25c6b-1d62-4850-995c-0aa18b21ac01",
   "metadata": {},
   "source": [
    "## Simple web search with Agno and Ollama\n",
    "\n",
    "This script demonstrates the creation and usage of a Web Agent that leverages Ollama with a small language model and the DuckDuckGo search tool to respond to user queries.\n",
    "Let's break down the key components:\n"
   ]
  },
  {
   "cell_type": "markdown",
   "id": "c898cbcc-1b19-4dd6-8800-095e75869bcb",
   "metadata": {},
   "source": [
    "## Overview\n",
    "First we'll import all the necessary packages and modules:\n"
   ]
  },
  {
   "cell_type": "code",
   "execution_count": null,
   "id": "50af1d47-424c-48b7-9c3d-a1334adf04e0",
   "metadata": {},
   "outputs": [],
   "source": [
    "from agno.agent import Agent, RunResponse\n",
    "from agno.models.ollama import Ollama\n",
    "from agno.tools.duckduckgo import DuckDuckGoTools"
   ]
  },
  {
   "cell_type": "markdown",
   "id": "32225d31-80a9-41bc-8345-0a061e4b246d",
   "metadata": {},
   "source": [
    "We are using the Ollama module that supports function through \"model-native native function-calling\" support. We also import the DuckDuckGo tool that provides web and news search functions.\n",
    "\n",
    "Now we are defining an agent, but first we will define the Ollama host to either run Ollama locally or call a remote Ollama server:"
   ]
  },
  {
   "cell_type": "code",
   "execution_count": null,
   "id": "6053a1f8-82b5-4d6c-9b1e-b02e858bdf5f",
   "metadata": {},
   "outputs": [],
   "source": [
    "OLLAMA_HOST=\"localhost\"\n",
    "#OLLAMA_HOST=\"ollama.ollama.svc.cluster.local\""
   ]
  },
  {
   "cell_type": "code",
   "execution_count": null,
   "id": "7a2e9c0c-1229-40fa-bf78-d6907570792e",
   "metadata": {},
   "outputs": [],
   "source": [
    "simple_agent = Agent(\n",
    "    name=\"Simple Agent\",\n",
    "    model=Ollama(id=\"llama3.1:8b-instruct-q8_0\", host=OLLAMA_HOST),\n",
    "    markdown=True,\n",
    ")"
   ]
  },
  {
   "cell_type": "code",
   "execution_count": null,
   "id": "474498b1-2f0f-4616-a43e-99ee9ad3c8d0",
   "metadata": {},
   "outputs": [],
   "source": [
    "simple_agent.print_response(\"What is the latest news from Boeblingen?\", stream=True)"
   ]
  },
  {
   "cell_type": "markdown",
   "id": "0b55bde6-5e9e-4eec-903f-d2089c8a2eff",
   "metadata": {},
   "source": [
    "The best method to avoid hallucinations is to provide the LLM with context, e.g trough a tool to search the web for information. Caveat: This doesn't guarantee that the information will be correct 😉"
   ]
  },
  {
   "cell_type": "code",
   "execution_count": null,
   "id": "12a47f03-1805-4b9d-98ec-7c1f41c5f5ad",
   "metadata": {},
   "outputs": [],
   "source": [
    "web_agent = Agent(\n",
    "    name=\"Web Agent\",\n",
    "    model=Ollama(id=\"llama3.1:8b-instruct-q8_0\", host=OLLAMA_HOST),\n",
    "        tools=[DuckDuckGoTools()],\n",
    "    show_tool_calls=True,\n",
    "    markdown=True,\n",
    "    debug_mode=True,\n",
    ")"
   ]
  },
  {
   "cell_type": "markdown",
   "id": "ad9c46d2-efe1-48ce-ad3d-927bab1c286f",
   "metadata": {},
   "source": [
    "We'll use the Llama 3.1 8B model in Q8 quantization. This model has worked best in our tests with tools/function calling. Feel free to try smaller models like the a 2B or 3B model. However, smaller models and quantizations might not work all the time.\n",
    "\n",
    "Now that the agent is defined and has access to DuckDuckGo web search we can ask it about what's happening in Boeblingen. We set `show_tool_calls` to `True` to see which tools the agent is calling with which parameters."
   ]
  },
  {
   "cell_type": "code",
   "execution_count": null,
   "id": "9bef64d1-38dc-4799-b452-0c4f55fc2508",
   "metadata": {},
   "outputs": [],
   "source": [
    "web_agent.print_response(\"What is the latest news from Boeblingen?\", stream=True)"
   ]
  },
  {
   "cell_type": "markdown",
   "id": "c41e9efc-3ac5-4462-bfb4-68898e499274",
   "metadata": {},
   "source": [
    "Congratulations, you have created your first basic agent with web search."
   ]
  }
 ],
 "metadata": {
  "kernelspec": {
   "display_name": "Python 3 (ipykernel)",
   "language": "python",
   "name": "python3"
  },
  "language_info": {
   "codemirror_mode": {
    "name": "ipython",
    "version": 3
   },
   "file_extension": ".py",
   "mimetype": "text/x-python",
   "name": "python",
   "nbconvert_exporter": "python",
   "pygments_lexer": "ipython3",
   "version": "3.11.10"
  }
 },
 "nbformat": 4,
 "nbformat_minor": 5
}
