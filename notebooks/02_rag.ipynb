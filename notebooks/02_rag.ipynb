{
 "cells": [
  {
   "cell_type": "code",
   "execution_count": null,
   "id": "e60da921-d93a-49d3-9ef2-ea91da0ffad6",
   "metadata": {},
   "outputs": [],
   "source": [
    "from agno.agent import Agent\n",
    "from agno.models.ollama import Ollama\n",
    "from agno.embedder.ollama import OllamaEmbedder\n",
    "from agno.knowledge.pdf_url import PDFUrlKnowledgeBase\n",
    "from agno.vectordb.lancedb import LanceDb, SearchType"
   ]
  },
  {
   "cell_type": "code",
   "execution_count": null,
   "id": "3ee61d09-57a6-4d4c-b8cd-1b896567a4d2",
   "metadata": {},
   "outputs": [],
   "source": [
    "OLLAMA_HOST=\"localhost\"\n",
    "#OLLAMA_HOST=\"ollama.ollama.svc.cluster.local\""
   ]
  },
  {
   "cell_type": "code",
   "execution_count": null,
   "id": "080f2999-0e42-4f97-9660-dfb959b72717",
   "metadata": {},
   "outputs": [],
   "source": [
    "# Define the database URL where the vector database will be stored\n",
    "db_url = \"/tmp/lancedb\"\n",
    "\n",
    "# Configure the language model\n",
    "# It's import to increase the context size from the Ollama default of 2048, otherwise the input will be truncated\n",
    "model = Ollama(id=\"llama3.1:8b-instruct-q8_0\", options={\"num_ctx\": 4096}, host=OLLAMA_HOST)\n",
    "\n",
    "# Create Ollama embedder\n",
    "embedder = OllamaEmbedder(id=\"nomic-embed-text\", dimensions=768)\n",
    "\n",
    "# Create the vector database\n",
    "vector_db = LanceDb(\n",
    "    table_name=\"recipes\",  # Table name in the vector database\n",
    "    uri=db_url,  # Location to initiate/create the vector database\n",
    "    embedder=embedder,  # Without using this, it will use OpenAIChat embeddings by default\n",
    ")\n"
   ]
  },
  {
   "cell_type": "code",
   "execution_count": null,
   "id": "7cc8e560-92ca-4d83-882f-f427de61fbd5",
   "metadata": {},
   "outputs": [],
   "source": [
    "# Create a knowledge base from a PDF\n",
    "knowledge_base = PDFUrlKnowledgeBase(\n",
    "    urls=[\"https://docs.redhat.com/en-us/documentation/red_hat_openshift_ai_self-managed/2.21/pdf/serving_models/Red_Hat_OpenShift_AI_Self-Managed-2.21-Serving_models-en-US.pdf\"],\n",
    "    vector_db=vector_db\n",
    ")\n",
    "knowledge_base.load()"
   ]
  },
  {
   "cell_type": "code",
   "execution_count": null,
   "id": "ae893387-dfdc-483a-a175-30c32a16ca71",
   "metadata": {},
   "outputs": [],
   "source": [
    "# Comment out after first run as the knowledge base is loaded\n",
    "knowledge_base.load()"
   ]
  },
  {
   "cell_type": "code",
   "execution_count": null,
   "id": "37858f5b-3c01-41a7-b1aa-df6dd4923b5f",
   "metadata": {},
   "outputs": [],
   "source": [
    "agent = Agent(\n",
    "    model=model,\n",
    "    markdown=True,\n",
    ")\n",
    "agent.print_response(\"How can LLMs be served on OpenShift AI?\", stream=True)"
   ]
  },
  {
   "cell_type": "markdown",
   "id": "f5d6282c-c10e-4204-b0c7-cf837135dd19",
   "metadata": {},
   "source": [
    "That's ok but not perfect. Can we make it better? Let's include our knowledge base with the RHOAI model serving documentation."
   ]
  },
  {
   "cell_type": "code",
   "execution_count": null,
   "id": "7c46d357-3846-4f6c-9317-658959df9a80",
   "metadata": {},
   "outputs": [],
   "source": [
    "rag_agent = Agent(\n",
    "    model=model,\n",
    "    instructions=[\"Retrieve relevant OpenShift AI information from the knowledge base\"],\n",
    "    # Add the knowledge base to the agent\n",
    "    knowledge=knowledge_base,\n",
    "    show_tool_calls=True,\n",
    "    markdown=True,\n",
    ")\n",
    "rag_agent.print_response(\"How can LLMs be served on OpenShift AI?\", stream=True)"
   ]
  },
  {
   "cell_type": "markdown",
   "id": "2ba6abee-4e14-4619-b297-bebb86996c25",
   "metadata": {},
   "source": [
    "That's a much better answer for OpenShift AI."
   ]
  }
 ],
 "metadata": {
  "kernelspec": {
   "display_name": "Python 3 (ipykernel)",
   "language": "python",
   "name": "python3"
  },
  "language_info": {
   "codemirror_mode": {
    "name": "ipython",
    "version": 3
   },
   "file_extension": ".py",
   "mimetype": "text/x-python",
   "name": "python",
   "nbconvert_exporter": "python",
   "pygments_lexer": "ipython3",
   "version": "3.11.10"
  }
 },
 "nbformat": 4,
 "nbformat_minor": 5
}
