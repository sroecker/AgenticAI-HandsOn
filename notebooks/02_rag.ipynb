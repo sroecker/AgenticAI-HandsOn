{
 "cells": [
  {
   "cell_type": "code",
   "execution_count": 4,
   "id": "e60da921-d93a-49d3-9ef2-ea91da0ffad6",
   "metadata": {},
   "outputs": [],
   "source": [
    "from agno.agent import Agent\n",
    "from agno.models.ollama import Ollama\n",
    "from agno.embedder.ollama import OllamaEmbedder\n",
    "from agno.knowledge.pdf_url import PDFUrlKnowledgeBase\n",
    "from agno.vectordb.lancedb import LanceDb, SearchType"
   ]
  },
  {
   "cell_type": "code",
   "execution_count": 6,
   "id": "3ee61d09-57a6-4d4c-b8cd-1b896567a4d2",
   "metadata": {},
   "outputs": [],
   "source": [
    "OLLAMA_HOST=\"localhost\"\n",
    "#OLLAMA_HOST=\"ollama.ollama.svc.cluster.local\""
   ]
  },
  {
   "cell_type": "code",
   "execution_count": 12,
   "id": "7cc8e560-92ca-4d83-882f-f427de61fbd5",
   "metadata": {},
   "outputs": [],
   "source": [
    "# Create a knowledge base from a PDF\n",
    "knowledge_base = PDFUrlKnowledgeBase(\n",
    "    urls=[\"https://docs.redhat.com/en-us/documentation/red_hat_openshift_ai_self-managed/2.21/pdf/serving_models/Red_Hat_OpenShift_AI_Self-Managed-2.21-Serving_models-en-US.pdf\"],\n",
    "    # Use LanceDB as the vector database\n",
    "    vector_db=LanceDb(\n",
    "        table_name=\"ocp\",\n",
    "        uri=\"tmp/lancedb\",\n",
    "        search_type=SearchType.vector,\n",
    "        # Change dimensions according to model context size and requirements\n",
    "        #embedder=OllamaEmbedder(id=\"mxbai-embed-large\", dimensions=512, host=OLLAMA_HOST), # doesn't work due to NaNs\n",
    "        #embedder=OllamaEmbedder(id=\"nomic-embed-text\", dimensions=512, host=OLLAMA_HOST),\n",
    "        #embedder=OllamaEmbedder(id=\"granite-embedding\", host=OLLAMA_HOST), # divide by zero\n",
    "        #embedder=OllamaEmbedder(id=\"snowflake-arctic-embed2\", host=OLLAMA_HOST),\n",
    "        embedder=OllamaEmbedder(id=\"snowflake-arctic-embed2\", host=OLLAMA_HOST),\n",
    "    ),\n",
    ")"
   ]
  },
  {
   "cell_type": "code",
   "execution_count": 13,
   "id": "ae893387-dfdc-483a-a175-30c32a16ca71",
   "metadata": {},
   "outputs": [
    {
     "data": {
      "text/html": [
       "<pre style=\"white-space:pre;overflow-x:auto;line-height:normal;font-family:Menlo,'DejaVu Sans Mono',consolas,'Courier New',monospace\"><span style=\"color: #000080; text-decoration-color: #000080\">INFO</span> Loading knowledge base                                                                                        \n",
       "</pre>\n"
      ],
      "text/plain": [
       "\u001b[34mINFO\u001b[0m Loading knowledge base                                                                                        \n"
      ]
     },
     "metadata": {},
     "output_type": "display_data"
    },
    {
     "data": {
      "text/html": [
       "<pre style=\"white-space:pre;overflow-x:auto;line-height:normal;font-family:Menlo,'DejaVu Sans Mono',consolas,'Courier New',monospace\"><span style=\"color: #000080; text-decoration-color: #000080\">INFO</span> Reading:                                                                                                      \n",
       "     <span style=\"color: #0000ff; text-decoration-color: #0000ff; text-decoration: underline\">https://docs.redhat.com/en-us/documentation/red_hat_openshift_ai_self-managed/2.21/pdf/serving_models/Red_Hat_</span>\n",
       "     <span style=\"color: #0000ff; text-decoration-color: #0000ff; text-decoration: underline\">OpenShift_AI_Self-Managed-2.21-Serving_models-en-US.pdf</span>                                                       \n",
       "</pre>\n"
      ],
      "text/plain": [
       "\u001b[34mINFO\u001b[0m Reading:                                                                                                      \n",
       "     \u001b[4;94mhttps://docs.redhat.com/en-us/documentation/red_hat_openshift_ai_self-managed/2.21/pdf/serving_models/Red_Hat_\u001b[0m\n",
       "     \u001b[4;94mOpenShift_AI_Self-Managed-2.21-Serving_models-en-US.pdf\u001b[0m                                                       \n"
      ]
     },
     "metadata": {},
     "output_type": "display_data"
    },
    {
     "name": "stderr",
     "output_type": "stream",
     "text": [
      "\n",
      "thread 'tokio-runtime-worker' panicked at /Users/runner/.cargo/registry/src/index.crates.io-1949cf8c6b5b557f/lance-encoding-0.30.0/src/data.rs:453:9:\n",
      "attempt to divide by zero\n",
      "\n",
      "thread 'tokio-runtime-worker' panicked at /Users/runner/.cargo/registry/src/index.crates.io-1949cf8c6b5b557f/lance-encoding-0.30.0/src/data.rs:453:9:\n",
      "attempt to divide by zero\n",
      "\n",
      "thread 'tokio-runtime-worker' panicked at /Users/runner/.cargo/registry/src/index.crates.io-1949cf8c6b5b557f/lance-encoding-0.30.0/src/data.rs:453:9:\n",
      "attempt to divide by zero\n",
      "\n",
      "thread 'tokio-runtime-worker' panicked at /Users/runner/.cargo/registry/src/index.crates.io-1949cf8c6b5b557f/lance-encoding-0.30.0/src/data.rs:453:9:\n",
      "attempt to divide by zero\n",
      "\n",
      "thread 'tokio-runtime-worker' panicked at /Users/runner/.cargo/registry/src/index.crates.io-1949cf8c6b5b557f/lance-encoding-0.30.0/src/decoder.rs:1508:65:\n",
      "called `Result::unwrap()` on an `Err` value: JoinError::Panic(Id(44614), \"attempt to divide by zero\", ...)\n",
      "\n",
      "thread 'tokio-runtime-worker' panicked at /Users/runner/.cargo/registry/src/index.crates.io-1949cf8c6b5b557f/lance-encoding-0.30.0/src/data.rs:453:9:\n",
      "attempt to divide by zero\n",
      "\n",
      "thread 'tokio-runtime-worker' panicked at /Users/runner/.cargo/registry/src/index.crates.io-1949cf8c6b5b557f/lance-encoding-0.30.0/src/data.rs:453:9:\n",
      "attempt to divide by zero\n",
      "\n",
      "thread 'tokio-runtime-worker' panicked at /Users/runner/.cargo/registry/src/index.crates.io-1949cf8c6b5b557f/lance-encoding-0.30.0/src/decoder.rs:1508:65:\n",
      "called `Result::unwrap()` on an `Err` value: JoinError::Panic(Id(44777), \"attempt to divide by zero\", ...)\n",
      "\n",
      "thread 'tokio-runtime-worker' panicked at /Users/runner/.cargo/registry/src/index.crates.io-1949cf8c6b5b557f/lance-encoding-0.30.0/src/data.rs:453:9:\n",
      "attempt to divide by zero\n",
      "\n",
      "thread 'tokio-runtime-worker' panicked at /Users/runner/.cargo/registry/src/index.crates.io-1949cf8c6b5b557f/lance-encoding-0.30.0/src/data.rs:453:9:\n",
      "attempt to divide by zero\n",
      "\n",
      "thread 'tokio-runtime-worker' panicked at /Users/runner/.cargo/registry/src/index.crates.io-1949cf8c6b5b557f/lance-encoding-0.30.0/src/data.rs:453:9:\n",
      "attempt to divide by zero\n",
      "\n",
      "thread 'tokio-runtime-worker' panicked at /Users/runner/.cargo/registry/src/index.crates.io-1949cf8c6b5b557f/lance-encoding-0.30.0/src/decoder.rs:1508:65:\n",
      "called `Result::unwrap()` on an `Err` value: JoinError::Panic(Id(44921), \"attempt to divide by zero\", ...)\n",
      "\n",
      "thread 'tokio-runtime-worker' panicked at /Users/runner/.cargo/registry/src/index.crates.io-1949cf8c6b5b557f/lance-encoding-0.30.0/src/data.rs:453:9:\n",
      "attempt to divide by zero\n",
      "\n",
      "thread 'tokio-runtime-worker' panicked at /Users/runner/.cargo/registry/src/index.crates.io-1949cf8c6b5b557f/lance-encoding-0.30.0/src/data.rs:453:9:\n",
      "attempt to divide by zero\n",
      "\n",
      "thread 'tokio-runtime-worker' panicked at /Users/runner/.cargo/registry/src/index.crates.io-1949cf8c6b5b557f/lance-encoding-0.30.0/src/data.rs:453:9:\n",
      "attempt to divide by zero\n",
      "\n",
      "thread 'tokio-runtime-worker' panicked at /Users/runner/.cargo/registry/src/index.crates.io-1949cf8c6b5b557f/lance-encoding-0.30.0/src/decoder.rs:1508:65:\n",
      "called `Result::unwrap()` on an `Err` value: JoinError::Panic(Id(45083), \"attempt to divide by zero\", ...)\n",
      "\n",
      "thread 'tokio-runtime-worker' panicked at /Users/runner/.cargo/registry/src/index.crates.io-1949cf8c6b5b557f/lance-encoding-0.30.0/src/data.rs:453:9:\n",
      "attempt to divide by zero\n",
      "\n",
      "thread 'tokio-runtime-worker' panicked at /Users/runner/.cargo/registry/src/index.crates.io-1949cf8c6b5b557f/lance-encoding-0.30.0/src/data.rs:453:9:\n",
      "attempt to divide by zero\n",
      "\n",
      "thread 'tokio-runtime-worker' panicked at /Users/runner/.cargo/registry/src/index.crates.io-1949cf8c6b5b557f/lance-encoding-0.30.0/src/data.rs:453:9:\n",
      "attempt to divide by zero\n",
      "\n",
      "thread 'tokio-runtime-worker' panicked at /Users/runner/.cargo/registry/src/index.crates.io-1949cf8c6b5b557f/lance-encoding-0.30.0/src/decoder.rs:1508:65:\n",
      "called `Result::unwrap()` on an `Err` value: JoinError::Panic(Id(45216), \"attempt to divide by zero\", ...)\n",
      "\n",
      "thread 'tokio-runtime-worker' panicked at /Users/runner/.cargo/registry/src/index.crates.io-1949cf8c6b5b557f/lance-encoding-0.30.0/src/data.rs:453:9:\n",
      "attempt to divide by zero\n",
      "\n",
      "thread 'tokio-runtime-worker' panicked at /Users/runner/.cargo/registry/src/index.crates.io-1949cf8c6b5b557f/lance-encoding-0.30.0/src/decoder.rs:1508:65:\n",
      "called `Result::unwrap()` on an `Err` value: JoinError::Panic(Id(45349), \"attempt to divide by zero\", ...)\n",
      "\n",
      "thread 'tokio-runtime-worker' panicked at /Users/runner/.cargo/registry/src/index.crates.io-1949cf8c6b5b557f/lance-encoding-0.30.0/src/data.rs:453:9:\n",
      "attempt to divide by zero\n",
      "\n",
      "thread 'tokio-runtime-worker' panicked at /Users/runner/.cargo/registry/src/index.crates.io-1949cf8c6b5b557f/lance-encoding-0.30.0/src/data.rs:453:9:\n",
      "attempt to divide by zero\n",
      "\n",
      "thread 'tokio-runtime-worker' panicked at /Users/runner/.cargo/registry/src/index.crates.io-1949cf8c6b5b557f/lance-encoding-0.30.0/src/data.rs:453:9:\n",
      "attempt to divide by zero\n",
      "\n",
      "thread 'tokio-runtime-worker' panicked at /Users/runner/.cargo/registry/src/index.crates.io-1949cf8c6b5b557f/lance-encoding-0.30.0/src/decoder.rs:1508:65:\n",
      "called `Result::unwrap()` on an `Err` value: JoinError::Panic(Id(45499), \"attempt to divide by zero\", ...)\n",
      "\n",
      "thread 'tokio-runtime-worker' panicked at /Users/runner/.cargo/registry/src/index.crates.io-1949cf8c6b5b557f/lance-encoding-0.30.0/src/data.rs:453:9:\n",
      "attempt to divide by zero\n",
      "\n",
      "thread 'tokio-runtime-worker' panicked at /Users/runner/.cargo/registry/src/index.crates.io-1949cf8c6b5b557f/lance-encoding-0.30.0/src/decoder.rs:1508:65:\n",
      "called `Result::unwrap()` on an `Err` value: JoinError::Panic(Id(45621), \"attempt to divide by zero\", ...)\n",
      "\n",
      "thread 'tokio-runtime-worker' panicked at /Users/runner/.cargo/registry/src/index.crates.io-1949cf8c6b5b557f/lance-encoding-0.30.0/src/data.rs:453:9:\n",
      "attempt to divide by zero\n",
      "\n",
      "thread 'tokio-runtime-worker' panicked at /Users/runner/.cargo/registry/src/index.crates.io-1949cf8c6b5b557f/lance-encoding-0.30.0/src/data.rs:453:9:\n",
      "attempt to divide by zero\n",
      "\n",
      "thread 'tokio-runtime-worker' panicked at /Users/runner/.cargo/registry/src/index.crates.io-1949cf8c6b5b557f/lance-encoding-0.30.0/src/decoder.rs:1508:65:\n",
      "called `Result::unwrap()` on an `Err` value: JoinError::Panic(Id(45785), \"attempt to divide by zero\", ...)\n",
      "\n",
      "thread 'tokio-runtime-worker' panicked at /Users/runner/.cargo/registry/src/index.crates.io-1949cf8c6b5b557f/lance-encoding-0.30.0/src/data.rs:453:9:\n",
      "attempt to divide by zero\n",
      "\n",
      "thread 'tokio-runtime-worker' panicked at /Users/runner/.cargo/registry/src/index.crates.io-1949cf8c6b5b557f/lance-encoding-0.30.0/src/decoder.rs:1508:65:\n",
      "called `Result::unwrap()` on an `Err` value: JoinError::Panic(Id(45901), \"attempt to divide by zero\", ...)\n",
      "\n",
      "thread 'tokio-runtime-worker' panicked at /Users/runner/.cargo/registry/src/index.crates.io-1949cf8c6b5b557f/lance-encoding-0.30.0/src/data.rs:453:9:\n",
      "attempt to divide by zero\n",
      "\n",
      "thread 'tokio-runtime-worker' panicked at /Users/runner/.cargo/registry/src/index.crates.io-1949cf8c6b5b557f/lance-encoding-0.30.0/src/data.rs:453:9:\n",
      "attempt to divide by zero\n",
      "\n",
      "thread 'tokio-runtime-worker' panicked at /Users/runner/.cargo/registry/src/index.crates.io-1949cf8c6b5b557f/lance-encoding-0.30.0/src/decoder.rs:1508:65:\n",
      "called `Result::unwrap()` on an `Err` value: JoinError::Panic(Id(46041), \"attempt to divide by zero\", ...)\n",
      "\n",
      "thread 'tokio-runtime-worker' panicked at /Users/runner/.cargo/registry/src/index.crates.io-1949cf8c6b5b557f/lance-encoding-0.30.0/src/data.rs:453:9:\n",
      "attempt to divide by zero\n",
      "\n",
      "thread 'tokio-runtime-worker' panicked at /Users/runner/.cargo/registry/src/index.crates.io-1949cf8c6b5b557f/lance-encoding-0.30.0/src/data.rs:453:9:\n",
      "attempt to divide by zero\n",
      "\n",
      "thread 'tokio-runtime-worker' panicked at /Users/runner/.cargo/registry/src/index.crates.io-1949cf8c6b5b557f/lance-encoding-0.30.0/src/data.rs:453:9:\n",
      "attempt to divide by zero\n",
      "\n",
      "thread 'tokio-runtime-worker' panicked at /Users/runner/.cargo/registry/src/index.crates.io-1949cf8c6b5b557f/lance-encoding-0.30.0/src/decoder.rs:1508:65:\n",
      "called `Result::unwrap()` on an `Err` value: JoinError::Panic(Id(46209), \"attempt to divide by zero\", ...)\n",
      "\n",
      "thread 'tokio-runtime-worker' panicked at /Users/runner/.cargo/registry/src/index.crates.io-1949cf8c6b5b557f/lance-encoding-0.30.0/src/data.rs:453:9:\n",
      "attempt to divide by zero\n",
      "\n",
      "thread 'tokio-runtime-worker' panicked at /Users/runner/.cargo/registry/src/index.crates.io-1949cf8c6b5b557f/lance-encoding-0.30.0/src/data.rs:453:9:\n",
      "attempt to divide by zero\n",
      "\n",
      "thread 'tokio-runtime-worker' panicked at /Users/runner/.cargo/registry/src/index.crates.io-1949cf8c6b5b557f/lance-encoding-0.30.0/src/data.rs:453:9:\n",
      "attempt to divide by zero\n",
      "\n",
      "thread 'tokio-runtime-worker' panicked at /Users/runner/.cargo/registry/src/index.crates.io-1949cf8c6b5b557f/lance-encoding-0.30.0/src/data.rs:453:9:\n",
      "attempt to divide by zero\n",
      "\n",
      "thread 'tokio-runtime-worker' panicked at /Users/runner/.cargo/registry/src/index.crates.io-1949cf8c6b5b557f/lance-encoding-0.30.0/src/data.rs:453:9:\n",
      "attempt to divide by zero\n",
      "\n",
      "thread 'tokio-runtime-worker' panicked at /Users/runner/.cargo/registry/src/index.crates.io-1949cf8c6b5b557f/lance-encoding-0.30.0/src/data.rs:453:9:\n",
      "attempt to divide by zero\n",
      "\n",
      "thread 'tokio-runtime-worker' panicked at /Users/runner/.cargo/registry/src/index.crates.io-1949cf8c6b5b557f/lance-encoding-0.30.0/src/data.rs:453:9:\n",
      "attempt to divide by zero\n",
      "\n",
      "thread 'tokio-runtime-worker' panicked at /Users/runner/.cargo/registry/src/index.crates.io-1949cf8c6b5b557f/lance-encoding-0.30.0/src/decoder.rs:1508:65:\n",
      "called `Result::unwrap()` on an `Err` value: JoinError::Panic(Id(46366), \"attempt to divide by zero\", ...)\n",
      "\n",
      "thread 'tokio-runtime-worker' panicked at /Users/runner/.cargo/registry/src/index.crates.io-1949cf8c6b5b557f/lance-encoding-0.30.0/src/data.rs:453:9:\n",
      "attempt to divide by zero\n",
      "\n",
      "thread 'tokio-runtime-worker' panicked at /Users/runner/.cargo/registry/src/index.crates.io-1949cf8c6b5b557f/lance-encoding-0.30.0/src/data.rs:453:9:\n",
      "attempt to divide by zero\n",
      "\n",
      "thread 'tokio-runtime-worker' panicked at /Users/runner/.cargo/registry/src/index.crates.io-1949cf8c6b5b557f/lance-encoding-0.30.0/src/data.rs:453:9:\n",
      "attempt to divide by zero\n",
      "\n",
      "thread 'tokio-runtime-worker' panicked at /Users/runner/.cargo/registry/src/index.crates.io-1949cf8c6b5b557f/lance-encoding-0.30.0/src/data.rs:453:9:\n",
      "attempt to divide by zero\n",
      "\n",
      "thread 'tokio-runtime-worker' panicked at /Users/runner/.cargo/registry/src/index.crates.io-1949cf8c6b5b557f/lance-encoding-0.30.0/src/data.rs:453:9:\n",
      "attempt to divide by zero\n",
      "\n",
      "thread 'tokio-runtime-worker' panicked at /Users/runner/.cargo/registry/src/index.crates.io-1949cf8c6b5b557f/lance-encoding-0.30.0/src/decoder.rs:1508:65:\n",
      "called `Result::unwrap()` on an `Err` value: JoinError::Panic(Id(46510), \"attempt to divide by zero\", ...)\n",
      "\n",
      "thread 'tokio-runtime-worker' panicked at /Users/runner/.cargo/registry/src/index.crates.io-1949cf8c6b5b557f/lance-encoding-0.30.0/src/data.rs:453:9:\n",
      "attempt to divide by zero\n",
      "\n",
      "thread 'tokio-runtime-worker' panicked at /Users/runner/.cargo/registry/src/index.crates.io-1949cf8c6b5b557f/lance-encoding-0.30.0/src/data.rs:453:9:\n",
      "attempt to divide by zero\n",
      "\n",
      "thread 'tokio-runtime-worker' panicked at /Users/runner/.cargo/registry/src/index.crates.io-1949cf8c6b5b557f/lance-encoding-0.30.0/src/data.rs:453:9:\n",
      "attempt to divide by zero\n",
      "\n",
      "thread 'tokio-runtime-worker' panicked at /Users/runner/.cargo/registry/src/index.crates.io-1949cf8c6b5b557f/lance-encoding-0.30.0/src/data.rs:453:9:\n",
      "attempt to divide by zero\n",
      "\n",
      "thread 'tokio-runtime-worker' panicked at /Users/runner/.cargo/registry/src/index.crates.io-1949cf8c6b5b557f/lance-encoding-0.30.0/src/data.rs:453:9:\n",
      "attempt to divide by zero\n",
      "\n",
      "thread 'tokio-runtime-worker' panicked at /Users/runner/.cargo/registry/src/index.crates.io-1949cf8c6b5b557f/lance-encoding-0.30.0/src/data.rs:453:9:\n",
      "attempt to divide by zero\n",
      "\n",
      "thread 'tokio-runtime-worker' panicked at /Users/runner/.cargo/registry/src/index.crates.io-1949cf8c6b5b557f/lance-encoding-0.30.0/src/data.rs:453:9:\n",
      "attempt to divide by zero\n",
      "\n",
      "thread 'tokio-runtime-worker' panicked at /Users/runner/.cargo/registry/src/index.crates.io-1949cf8c6b5b557f/lance-encoding-0.30.0/src/data.rs:453:9:\n",
      "attempt to divide by zero\n",
      "\n",
      "thread 'tokio-runtime-worker' panicked at /Users/runner/.cargo/registry/src/index.crates.io-1949cf8c6b5b557f/lance-encoding-0.30.0/src/decoder.rs:1508:65:\n",
      "called `Result::unwrap()` on an `Err` value: JoinError::Panic(Id(46692), \"attempt to divide by zero\", ...)\n",
      "\n",
      "thread 'tokio-runtime-worker' panicked at /Users/runner/.cargo/registry/src/index.crates.io-1949cf8c6b5b557f/lance-encoding-0.30.0/src/data.rs:453:9:\n",
      "attempt to divide by zero\n",
      "\n",
      "thread 'tokio-runtime-worker' panicked at /Users/runner/.cargo/registry/src/index.crates.io-1949cf8c6b5b557f/lance-encoding-0.30.0/src/data.rs:453:9:\n",
      "attempt to divide by zero\n",
      "\n",
      "thread 'tokio-runtime-worker' panicked at /Users/runner/.cargo/registry/src/index.crates.io-1949cf8c6b5b557f/lance-encoding-0.30.0/src/decoder.rs:1508:65:\n",
      "called `Result::unwrap()` on an `Err` value: JoinError::Panic(Id(46813), \"attempt to divide by zero\", ...)\n",
      "\n",
      "thread 'tokio-runtime-worker' panicked at /Users/runner/.cargo/registry/src/index.crates.io-1949cf8c6b5b557f/lance-encoding-0.30.0/src/data.rs:453:9:\n",
      "attempt to divide by zero\n",
      "\n",
      "thread 'tokio-runtime-worker' panicked at /Users/runner/.cargo/registry/src/index.crates.io-1949cf8c6b5b557f/lance-encoding-0.30.0/src/decoder.rs:1508:65:\n",
      "called `Result::unwrap()` on an `Err` value: JoinError::Panic(Id(46959), \"attempt to divide by zero\", ...)\n",
      "\n",
      "thread 'tokio-runtime-worker' panicked at /Users/runner/.cargo/registry/src/index.crates.io-1949cf8c6b5b557f/lance-encoding-0.30.0/src/data.rs:453:9:\n",
      "attempt to divide by zero\n",
      "\n",
      "thread 'tokio-runtime-worker' panicked at /Users/runner/.cargo/registry/src/index.crates.io-1949cf8c6b5b557f/lance-encoding-0.30.0/src/data.rs:453:9:\n",
      "attempt to divide by zero\n",
      "\n",
      "thread 'tokio-runtime-worker' panicked at /Users/runner/.cargo/registry/src/index.crates.io-1949cf8c6b5b557f/lance-encoding-0.30.0/src/decoder.rs:1508:65:\n",
      "called `Result::unwrap()` on an `Err` value: JoinError::Panic(Id(47089), \"attempt to divide by zero\", ...)\n",
      "\n",
      "thread 'tokio-runtime-worker' panicked at /Users/runner/.cargo/registry/src/index.crates.io-1949cf8c6b5b557f/lance-encoding-0.30.0/src/data.rs:453:9:\n",
      "attempt to divide by zero\n",
      "\n",
      "thread 'tokio-runtime-worker' panicked at /Users/runner/.cargo/registry/src/index.crates.io-1949cf8c6b5b557f/lance-encoding-0.30.0/src/data.rs:453:9:\n",
      "attempt to divide by zero\n",
      "\n",
      "thread 'tokio-runtime-worker' panicked at /Users/runner/.cargo/registry/src/index.crates.io-1949cf8c6b5b557f/lance-encoding-0.30.0/src/decoder.rs:1508:65:\n",
      "called `Result::unwrap()` on an `Err` value: JoinError::Panic(Id(47232), \"attempt to divide by zero\", ...)\n",
      "\n",
      "thread 'tokio-runtime-worker' panicked at /Users/runner/.cargo/registry/src/index.crates.io-1949cf8c6b5b557f/lance-encoding-0.30.0/src/data.rs:453:9:\n",
      "attempt to divide by zero\n",
      "\n",
      "thread 'tokio-runtime-worker' panicked at /Users/runner/.cargo/registry/src/index.crates.io-1949cf8c6b5b557f/lance-encoding-0.30.0/src/decoder.rs:1508:65:\n",
      "called `Result::unwrap()` on an `Err` value: JoinError::Panic(Id(47357), \"attempt to divide by zero\", ...)\n",
      "\n",
      "thread 'tokio-runtime-worker' panicked at /Users/runner/.cargo/registry/src/index.crates.io-1949cf8c6b5b557f/lance-encoding-0.30.0/src/data.rs:453:9:\n",
      "attempt to divide by zero\n",
      "\n",
      "thread 'tokio-runtime-worker' panicked at /Users/runner/.cargo/registry/src/index.crates.io-1949cf8c6b5b557f/lance-encoding-0.30.0/src/decoder.rs:1508:65:\n",
      "called `Result::unwrap()` on an `Err` value: JoinError::Panic(Id(47486), \"attempt to divide by zero\", ...)\n",
      "\n",
      "thread 'tokio-runtime-worker' panicked at /Users/runner/.cargo/registry/src/index.crates.io-1949cf8c6b5b557f/lance-encoding-0.30.0/src/data.rs:453:9:\n",
      "attempt to divide by zero\n",
      "\n",
      "thread 'tokio-runtime-worker' panicked at /Users/runner/.cargo/registry/src/index.crates.io-1949cf8c6b5b557f/lance-encoding-0.30.0/src/data.rs:453:9:\n",
      "attempt to divide by zero\n",
      "\n",
      "thread 'tokio-runtime-worker' panicked at /Users/runner/.cargo/registry/src/index.crates.io-1949cf8c6b5b557f/lance-encoding-0.30.0/src/data.rs:453:9:\n",
      "attempt to divide by zero\n",
      "\n",
      "thread 'tokio-runtime-worker' panicked at /Users/runner/.cargo/registry/src/index.crates.io-1949cf8c6b5b557f/lance-encoding-0.30.0/src/decoder.rs:1508:65:\n",
      "called `Result::unwrap()` on an `Err` value: JoinError::Panic(Id(47634), \"attempt to divide by zero\", ...)\n",
      "\n",
      "thread 'tokio-runtime-worker' panicked at /Users/runner/.cargo/registry/src/index.crates.io-1949cf8c6b5b557f/lance-encoding-0.30.0/src/data.rs:453:9:\n",
      "attempt to divide by zero\n",
      "\n",
      "thread 'tokio-runtime-worker' panicked at /Users/runner/.cargo/registry/src/index.crates.io-1949cf8c6b5b557f/lance-encoding-0.30.0/src/decoder.rs:1508:65:\n",
      "called `Result::unwrap()` on an `Err` value: JoinError::Panic(Id(47770), \"attempt to divide by zero\", ...)\n",
      "\n",
      "thread 'tokio-runtime-worker' panicked at /Users/runner/.cargo/registry/src/index.crates.io-1949cf8c6b5b557f/lance-encoding-0.30.0/src/data.rs:453:9:\n",
      "attempt to divide by zero\n",
      "\n",
      "thread 'tokio-runtime-worker' panicked at /Users/runner/.cargo/registry/src/index.crates.io-1949cf8c6b5b557f/lance-encoding-0.30.0/src/data.rs:453:9:\n",
      "attempt to divide by zero\n",
      "\n",
      "thread 'tokio-runtime-worker' panicked at /Users/runner/.cargo/registry/src/index.crates.io-1949cf8c6b5b557f/lance-encoding-0.30.0/src/decoder.rs:1508:65:\n",
      "called `Result::unwrap()` on an `Err` value: JoinError::Panic(Id(47904), \"attempt to divide by zero\", ...)\n",
      "\n",
      "thread 'tokio-runtime-worker' panicked at /Users/runner/.cargo/registry/src/index.crates.io-1949cf8c6b5b557f/lance-encoding-0.30.0/src/data.rs:453:9:\n",
      "attempt to divide by zero\n",
      "\n",
      "thread 'tokio-runtime-worker' panicked at /Users/runner/.cargo/registry/src/index.crates.io-1949cf8c6b5b557f/lance-encoding-0.30.0/src/data.rs:453:9:\n",
      "attempt to divide by zero\n",
      "\n",
      "thread 'tokio-runtime-worker' panicked at /Users/runner/.cargo/registry/src/index.crates.io-1949cf8c6b5b557f/lance-encoding-0.30.0/src/data.rs:453:9:\n",
      "attempt to divide by zero\n",
      "\n",
      "thread 'tokio-runtime-worker' panicked at /Users/runner/.cargo/registry/src/index.crates.io-1949cf8c6b5b557f/lance-encoding-0.30.0/src/data.rs:453:9:\n",
      "attempt to divide by zero\n",
      "\n",
      "thread 'tokio-runtime-worker' panicked at /Users/runner/.cargo/registry/src/index.crates.io-1949cf8c6b5b557f/lance-encoding-0.30.0/src/data.rs:453:9:\n",
      "attempt to divide by zero\n",
      "\n",
      "thread 'tokio-runtime-worker' panicked at /Users/runner/.cargo/registry/src/index.crates.io-1949cf8c6b5b557f/lance-encoding-0.30.0/src/decoder.rs:1508:65:\n",
      "called `Result::unwrap()` on an `Err` value: JoinError::Panic(Id(48057), \"attempt to divide by zero\", ...)\n",
      "\n",
      "thread 'tokio-runtime-worker' panicked at /Users/runner/.cargo/registry/src/index.crates.io-1949cf8c6b5b557f/lance-encoding-0.30.0/src/data.rs:453:9:\n",
      "attempt to divide by zero\n",
      "\n",
      "thread 'tokio-runtime-worker' panicked at /Users/runner/.cargo/registry/src/index.crates.io-1949cf8c6b5b557f/lance-encoding-0.30.0/src/decoder.rs:1508:65:\n",
      "called `Result::unwrap()` on an `Err` value: JoinError::Panic(Id(48203), \"attempt to divide by zero\", ...)\n",
      "\n",
      "thread 'tokio-runtime-worker' panicked at /Users/runner/.cargo/registry/src/index.crates.io-1949cf8c6b5b557f/lance-encoding-0.30.0/src/data.rs:453:9:\n",
      "attempt to divide by zero\n",
      "\n",
      "thread 'tokio-runtime-worker' panicked at /Users/runner/.cargo/registry/src/index.crates.io-1949cf8c6b5b557f/lance-encoding-0.30.0/src/data.rs:453:9:\n",
      "attempt to divide by zero\n",
      "\n",
      "thread 'tokio-runtime-worker' panicked at /Users/runner/.cargo/registry/src/index.crates.io-1949cf8c6b5b557f/lance-encoding-0.30.0/src/data.rs:453:9:\n",
      "attempt to divide by zero\n",
      "\n",
      "thread 'tokio-runtime-worker' panicked at /Users/runner/.cargo/registry/src/index.crates.io-1949cf8c6b5b557f/lance-encoding-0.30.0/src/data.rs:453:9:\n",
      "attempt to divide by zero\n",
      "\n",
      "thread 'tokio-runtime-worker' panicked at /Users/runner/.cargo/registry/src/index.crates.io-1949cf8c6b5b557f/lance-encoding-0.30.0/src/data.rs:453:9:\n",
      "attempt to divide by zero\n",
      "\n",
      "thread 'tokio-runtime-worker' panicked at /Users/runner/.cargo/registry/src/index.crates.io-1949cf8c6b5b557f/lance-encoding-0.30.0/src/decoder.rs:1508:65:\n",
      "called `Result::unwrap()` on an `Err` value: JoinError::Panic(Id(48349), \"attempt to divide by zero\", ...)\n",
      "\n",
      "thread 'tokio-runtime-worker' panicked at /Users/runner/.cargo/registry/src/index.crates.io-1949cf8c6b5b557f/lance-encoding-0.30.0/src/data.rs:453:9:\n",
      "attempt to divide by zero\n",
      "\n",
      "thread 'tokio-runtime-worker' panicked at /Users/runner/.cargo/registry/src/index.crates.io-1949cf8c6b5b557f/lance-encoding-0.30.0/src/data.rs:453:9:\n",
      "attempt to divide by zero\n",
      "\n",
      "thread 'tokio-runtime-worker' panicked at /Users/runner/.cargo/registry/src/index.crates.io-1949cf8c6b5b557f/lance-encoding-0.30.0/src/data.rs:453:9:\n",
      "attempt to divide by zero\n",
      "\n",
      "thread 'tokio-runtime-worker' panicked at /Users/runner/.cargo/registry/src/index.crates.io-1949cf8c6b5b557f/lance-encoding-0.30.0/src/data.rs:453:9:\n",
      "attempt to divide by zero\n",
      "\n",
      "thread 'tokio-runtime-worker' panicked at /Users/runner/.cargo/registry/src/index.crates.io-1949cf8c6b5b557f/lance-encoding-0.30.0/src/decoder.rs:1508:65:\n",
      "called `Result::unwrap()` on an `Err` value: JoinError::Panic(Id(48516), \"attempt to divide by zero\", ...)\n",
      "\n",
      "thread 'tokio-runtime-worker' panicked at /Users/runner/.cargo/registry/src/index.crates.io-1949cf8c6b5b557f/lance-encoding-0.30.0/src/data.rs:453:9:\n",
      "attempt to divide by zero\n",
      "\n",
      "thread 'tokio-runtime-worker' panicked at /Users/runner/.cargo/registry/src/index.crates.io-1949cf8c6b5b557f/lance-encoding-0.30.0/src/data.rs:453:9:\n",
      "attempt to divide by zero\n",
      "\n",
      "thread 'tokio-runtime-worker' panicked at /Users/runner/.cargo/registry/src/index.crates.io-1949cf8c6b5b557f/lance-encoding-0.30.0/src/data.rs:453:9:\n",
      "attempt to divide by zero\n",
      "\n",
      "thread 'tokio-runtime-worker' panicked at /Users/runner/.cargo/registry/src/index.crates.io-1949cf8c6b5b557f/lance-encoding-0.30.0/src/data.rs:453:9:\n",
      "attempt to divide by zero\n",
      "\n",
      "thread 'tokio-runtime-worker' panicked at /Users/runner/.cargo/registry/src/index.crates.io-1949cf8c6b5b557f/lance-encoding-0.30.0/src/decoder.rs:1508:65:\n",
      "called `Result::unwrap()` on an `Err` value: JoinError::Panic(Id(48675), \"attempt to divide by zero\", ...)\n",
      "\n",
      "thread 'tokio-runtime-worker' panicked at /Users/runner/.cargo/registry/src/index.crates.io-1949cf8c6b5b557f/lance-encoding-0.30.0/src/data.rs:453:9:\n",
      "attempt to divide by zero\n",
      "\n",
      "thread 'tokio-runtime-worker' panicked at /Users/runner/.cargo/registry/src/index.crates.io-1949cf8c6b5b557f/lance-encoding-0.30.0/src/data.rs:453:9:\n",
      "attempt to divide by zero\n",
      "\n",
      "thread 'tokio-runtime-worker' panicked at /Users/runner/.cargo/registry/src/index.crates.io-1949cf8c6b5b557f/lance-encoding-0.30.0/src/data.rs:453:9:\n",
      "attempt to divide by zero\n",
      "\n",
      "thread 'tokio-runtime-worker' panicked at /Users/runner/.cargo/registry/src/index.crates.io-1949cf8c6b5b557f/lance-encoding-0.30.0/src/decoder.rs:1508:65:\n",
      "called `Result::unwrap()` on an `Err` value: JoinError::Panic(Id(48797), \"attempt to divide by zero\", ...)\n",
      "\n",
      "thread 'tokio-runtime-worker' panicked at /Users/runner/.cargo/registry/src/index.crates.io-1949cf8c6b5b557f/lance-encoding-0.30.0/src/data.rs:453:9:\n",
      "attempt to divide by zero\n",
      "\n",
      "thread 'tokio-runtime-worker' panicked at /Users/runner/.cargo/registry/src/index.crates.io-1949cf8c6b5b557f/lance-encoding-0.30.0/src/data.rs:453:9:\n",
      "attempt to divide by zero\n",
      "\n",
      "thread 'tokio-runtime-worker' panicked at /Users/runner/.cargo/registry/src/index.crates.io-1949cf8c6b5b557f/lance-encoding-0.30.0/src/data.rs:453:9:\n",
      "attempt to divide by zero\n",
      "\n",
      "thread 'tokio-runtime-worker' panicked at /Users/runner/.cargo/registry/src/index.crates.io-1949cf8c6b5b557f/lance-encoding-0.30.0/src/data.rs:453:9:\n",
      "attempt to divide by zero\n",
      "\n",
      "thread 'tokio-runtime-worker' panicked at /Users/runner/.cargo/registry/src/index.crates.io-1949cf8c6b5b557f/lance-encoding-0.30.0/src/data.rs:453:9:\n",
      "attempt to divide by zero\n",
      "\n",
      "thread 'tokio-runtime-worker' panicked at /Users/runner/.cargo/registry/src/index.crates.io-1949cf8c6b5b557f/lance-encoding-0.30.0/src/decoder.rs:1508:65:\n",
      "called `Result::unwrap()` on an `Err` value: JoinError::Panic(Id(48970), \"attempt to divide by zero\", ...)\n",
      "\n",
      "thread 'tokio-runtime-worker' panicked at /Users/runner/.cargo/registry/src/index.crates.io-1949cf8c6b5b557f/lance-encoding-0.30.0/src/data.rs:453:9:\n",
      "attempt to divide by zero\n",
      "\n",
      "thread 'tokio-runtime-worker' panicked at /Users/runner/.cargo/registry/src/index.crates.io-1949cf8c6b5b557f/lance-encoding-0.30.0/src/data.rs:453:9:\n",
      "attempt to divide by zero\n",
      "\n",
      "thread 'tokio-runtime-worker' panicked at /Users/runner/.cargo/registry/src/index.crates.io-1949cf8c6b5b557f/lance-encoding-0.30.0/src/data.rs:453:9:\n",
      "attempt to divide by zero\n",
      "\n",
      "thread 'tokio-runtime-worker' panicked at /Users/runner/.cargo/registry/src/index.crates.io-1949cf8c6b5b557f/lance-encoding-0.30.0/src/data.rs:453:9:\n",
      "attempt to divide by zero\n",
      "\n",
      "thread 'tokio-runtime-worker' panicked at /Users/runner/.cargo/registry/src/index.crates.io-1949cf8c6b5b557f/lance-encoding-0.30.0/src/decoder.rs:1508:65:\n",
      "called `Result::unwrap()` on an `Err` value: JoinError::Panic(Id(49127), \"attempt to divide by zero\", ...)\n",
      "\n",
      "thread 'tokio-runtime-worker' panicked at /Users/runner/.cargo/registry/src/index.crates.io-1949cf8c6b5b557f/lance-encoding-0.30.0/src/data.rs:453:9:\n",
      "attempt to divide by zero\n",
      "\n",
      "thread 'tokio-runtime-worker' panicked at /Users/runner/.cargo/registry/src/index.crates.io-1949cf8c6b5b557f/lance-encoding-0.30.0/src/data.rs:453:9:\n",
      "attempt to divide by zero\n",
      "\n",
      "thread 'tokio-runtime-worker' panicked at /Users/runner/.cargo/registry/src/index.crates.io-1949cf8c6b5b557f/lance-encoding-0.30.0/src/data.rs:453:9:\n",
      "attempt to divide by zero\n",
      "\n",
      "thread 'tokio-runtime-worker' panicked at /Users/runner/.cargo/registry/src/index.crates.io-1949cf8c6b5b557f/lance-encoding-0.30.0/src/data.rs:453:9:\n",
      "attempt to divide by zero\n",
      "\n",
      "thread 'tokio-runtime-worker' panicked at /Users/runner/.cargo/registry/src/index.crates.io-1949cf8c6b5b557f/lance-encoding-0.30.0/src/decoder.rs:1508:65:\n",
      "called `Result::unwrap()` on an `Err` value: JoinError::Panic(Id(49264), \"attempt to divide by zero\", ...)\n",
      "\n",
      "thread 'tokio-runtime-worker' panicked at /Users/runner/.cargo/registry/src/index.crates.io-1949cf8c6b5b557f/lance-encoding-0.30.0/src/data.rs:453:9:\n",
      "attempt to divide by zero\n",
      "\n",
      "thread 'tokio-runtime-worker' panicked at /Users/runner/.cargo/registry/src/index.crates.io-1949cf8c6b5b557f/lance-encoding-0.30.0/src/data.rs:453:9:\n",
      "attempt to divide by zero\n",
      "\n",
      "thread 'tokio-runtime-worker' panicked at /Users/runner/.cargo/registry/src/index.crates.io-1949cf8c6b5b557f/lance-encoding-0.30.0/src/data.rs:453:9:\n",
      "attempt to divide by zero\n",
      "\n",
      "thread 'tokio-runtime-worker' panicked at /Users/runner/.cargo/registry/src/index.crates.io-1949cf8c6b5b557f/lance-encoding-0.30.0/src/data.rs:453:9:\n",
      "attempt to divide by zero\n",
      "\n",
      "thread 'tokio-runtime-worker' panicked at /Users/runner/.cargo/registry/src/index.crates.io-1949cf8c6b5b557f/lance-encoding-0.30.0/src/data.rs:453:9:\n",
      "attempt to divide by zero\n",
      "\n",
      "thread 'tokio-runtime-worker' panicked at /Users/runner/.cargo/registry/src/index.crates.io-1949cf8c6b5b557f/lance-encoding-0.30.0/src/data.rs:453:9:\n",
      "attempt to divide by zero\n",
      "\n",
      "thread 'tokio-runtime-worker' panicked at /Users/runner/.cargo/registry/src/index.crates.io-1949cf8c6b5b557f/lance-encoding-0.30.0/src/data.rs:453:9:\n",
      "attempt to divide by zero\n",
      "\n",
      "thread 'tokio-runtime-worker' panicked at /Users/runner/.cargo/registry/src/index.crates.io-1949cf8c6b5b557f/lance-encoding-0.30.0/src/decoder.rs:1508:65:\n",
      "called `Result::unwrap()` on an `Err` value: JoinError::Panic(Id(49436), \"attempt to divide by zero\", ...)\n",
      "\n",
      "thread 'tokio-runtime-worker' panicked at /Users/runner/.cargo/registry/src/index.crates.io-1949cf8c6b5b557f/lance-encoding-0.30.0/src/data.rs:453:9:\n",
      "attempt to divide by zero\n",
      "\n",
      "thread 'tokio-runtime-worker' panicked at /Users/runner/.cargo/registry/src/index.crates.io-1949cf8c6b5b557f/lance-encoding-0.30.0/src/data.rs:453:9:\n",
      "attempt to divide by zero\n",
      "\n",
      "thread 'tokio-runtime-worker' panicked at /Users/runner/.cargo/registry/src/index.crates.io-1949cf8c6b5b557f/lance-encoding-0.30.0/src/decoder.rs:1508:65:\n",
      "called `Result::unwrap()` on an `Err` value: JoinError::Panic(Id(49557), \"attempt to divide by zero\", ...)\n",
      "\n",
      "thread 'tokio-runtime-worker' panicked at /Users/runner/.cargo/registry/src/index.crates.io-1949cf8c6b5b557f/lance-encoding-0.30.0/src/data.rs:453:9:\n",
      "attempt to divide by zero\n",
      "\n",
      "thread 'tokio-runtime-worker' panicked at /Users/runner/.cargo/registry/src/index.crates.io-1949cf8c6b5b557f/lance-encoding-0.30.0/src/data.rs:453:9:\n",
      "attempt to divide by zero\n",
      "\n",
      "thread 'tokio-runtime-worker' panicked at /Users/runner/.cargo/registry/src/index.crates.io-1949cf8c6b5b557f/lance-encoding-0.30.0/src/data.rs:453:9:\n",
      "attempt to divide by zero\n",
      "\n",
      "thread 'tokio-runtime-worker' panicked at /Users/runner/.cargo/registry/src/index.crates.io-1949cf8c6b5b557f/lance-encoding-0.30.0/src/decoder.rs:1508:65:\n",
      "called `Result::unwrap()` on an `Err` value: JoinError::Panic(Id(49716), \"attempt to divide by zero\", ...)\n",
      "\n",
      "thread 'tokio-runtime-worker' panicked at /Users/runner/.cargo/registry/src/index.crates.io-1949cf8c6b5b557f/lance-encoding-0.30.0/src/data.rs:453:9:\n",
      "attempt to divide by zero\n",
      "\n",
      "thread 'tokio-runtime-worker' panicked at /Users/runner/.cargo/registry/src/index.crates.io-1949cf8c6b5b557f/lance-encoding-0.30.0/src/data.rs:453:9:\n",
      "attempt to divide by zero\n",
      "\n",
      "thread 'tokio-runtime-worker' panicked at /Users/runner/.cargo/registry/src/index.crates.io-1949cf8c6b5b557f/lance-encoding-0.30.0/src/data.rs:453:9:\n",
      "attempt to divide by zero\n",
      "\n",
      "thread 'tokio-runtime-worker' panicked at /Users/runner/.cargo/registry/src/index.crates.io-1949cf8c6b5b557f/lance-encoding-0.30.0/src/data.rs:453:9:\n",
      "attempt to divide by zero\n",
      "\n",
      "thread 'tokio-runtime-worker' panicked at /Users/runner/.cargo/registry/src/index.crates.io-1949cf8c6b5b557f/lance-encoding-0.30.0/src/data.rs:453:9:\n",
      "attempt to divide by zero\n",
      "\n",
      "thread 'tokio-runtime-worker' panicked at /Users/runner/.cargo/registry/src/index.crates.io-1949cf8c6b5b557f/lance-encoding-0.30.0/src/data.rs:453:9:\n",
      "attempt to divide by zero\n",
      "\n",
      "thread 'tokio-runtime-worker' panicked at /Users/runner/.cargo/registry/src/index.crates.io-1949cf8c6b5b557f/lance-encoding-0.30.0/src/decoder.rs:1508:65:\n",
      "called `Result::unwrap()` on an `Err` value: JoinError::Panic(Id(49870), \"attempt to divide by zero\", ...)\n",
      "\n",
      "thread 'tokio-runtime-worker' panicked at /Users/runner/.cargo/registry/src/index.crates.io-1949cf8c6b5b557f/lance-encoding-0.30.0/src/data.rs:453:9:\n",
      "attempt to divide by zero\n",
      "\n",
      "thread 'tokio-runtime-worker' panicked at /Users/runner/.cargo/registry/src/index.crates.io-1949cf8c6b5b557f/lance-encoding-0.30.0/src/data.rs:453:9:\n",
      "attempt to divide by zero\n",
      "\n",
      "thread 'tokio-runtime-worker' panicked at /Users/runner/.cargo/registry/src/index.crates.io-1949cf8c6b5b557f/lance-encoding-0.30.0/src/data.rs:453:9:\n",
      "attempt to divide by zero\n",
      "\n",
      "thread 'tokio-runtime-worker' panicked at /Users/runner/.cargo/registry/src/index.crates.io-1949cf8c6b5b557f/lance-encoding-0.30.0/src/decoder.rs:1508:65:\n",
      "called `Result::unwrap()` on an `Err` value: JoinError::Panic(Id(50010), \"attempt to divide by zero\", ...)\n",
      "\n",
      "thread 'tokio-runtime-worker' panicked at /Users/runner/.cargo/registry/src/index.crates.io-1949cf8c6b5b557f/lance-encoding-0.30.0/src/data.rs:453:9:\n",
      "attempt to divide by zero\n",
      "\n",
      "thread 'tokio-runtime-worker' panicked at /Users/runner/.cargo/registry/src/index.crates.io-1949cf8c6b5b557f/lance-encoding-0.30.0/src/data.rs:453:9:\n",
      "attempt to divide by zero\n",
      "\n",
      "thread 'tokio-runtime-worker' panicked at /Users/runner/.cargo/registry/src/index.crates.io-1949cf8c6b5b557f/lance-encoding-0.30.0/src/data.rs:453:9:\n",
      "attempt to divide by zero\n",
      "\n",
      "thread 'tokio-runtime-worker' panicked at /Users/runner/.cargo/registry/src/index.crates.io-1949cf8c6b5b557f/lance-encoding-0.30.0/src/data.rs:453:9:\n",
      "attempt to divide by zero\n",
      "\n",
      "thread 'tokio-runtime-worker' panicked at /Users/runner/.cargo/registry/src/index.crates.io-1949cf8c6b5b557f/lance-encoding-0.30.0/src/data.rs:453:9:\n",
      "attempt to divide by zero\n",
      "\n",
      "thread 'tokio-runtime-worker' panicked at /Users/runner/.cargo/registry/src/index.crates.io-1949cf8c6b5b557f/lance-encoding-0.30.0/src/data.rs:453:9:\n",
      "attempt to divide by zero\n",
      "\n",
      "thread 'tokio-runtime-worker' panicked at /Users/runner/.cargo/registry/src/index.crates.io-1949cf8c6b5b557f/lance-encoding-0.30.0/src/decoder.rs:1508:65:\n",
      "called `Result::unwrap()` on an `Err` value: JoinError::Panic(Id(50211), \"attempt to divide by zero\", ...)\n",
      "\n",
      "thread 'tokio-runtime-worker' panicked at /Users/runner/.cargo/registry/src/index.crates.io-1949cf8c6b5b557f/lance-encoding-0.30.0/src/data.rs:453:9:\n",
      "attempt to divide by zero\n",
      "\n",
      "thread 'tokio-runtime-worker' panicked at /Users/runner/.cargo/registry/src/index.crates.io-1949cf8c6b5b557f/lance-encoding-0.30.0/src/data.rs:453:9:\n",
      "attempt to divide by zero\n",
      "\n",
      "thread 'tokio-runtime-worker' panicked at /Users/runner/.cargo/registry/src/index.crates.io-1949cf8c6b5b557f/lance-encoding-0.30.0/src/data.rs:453:9:\n",
      "attempt to divide by zero\n",
      "\n",
      "thread 'tokio-runtime-worker' panicked at /Users/runner/.cargo/registry/src/index.crates.io-1949cf8c6b5b557f/lance-encoding-0.30.0/src/decoder.rs:1508:65:\n",
      "called `Result::unwrap()` on an `Err` value: JoinError::Panic(Id(50358), \"attempt to divide by zero\", ...)\n",
      "\n",
      "thread 'tokio-runtime-worker' panicked at /Users/runner/.cargo/registry/src/index.crates.io-1949cf8c6b5b557f/lance-encoding-0.30.0/src/data.rs:453:9:\n",
      "attempt to divide by zero\n",
      "\n",
      "thread 'tokio-runtime-worker' panicked at /Users/runner/.cargo/registry/src/index.crates.io-1949cf8c6b5b557f/lance-encoding-0.30.0/src/data.rs:453:9:\n",
      "attempt to divide by zero\n",
      "\n",
      "thread 'tokio-runtime-worker' panicked at /Users/runner/.cargo/registry/src/index.crates.io-1949cf8c6b5b557f/lance-encoding-0.30.0/src/data.rs:453:9:\n",
      "attempt to divide by zero\n",
      "\n",
      "thread 'tokio-runtime-worker' panicked at /Users/runner/.cargo/registry/src/index.crates.io-1949cf8c6b5b557f/lance-encoding-0.30.0/src/data.rs:453:9:\n",
      "attempt to divide by zero\n",
      "\n",
      "thread 'tokio-runtime-worker' panicked at /Users/runner/.cargo/registry/src/index.crates.io-1949cf8c6b5b557f/lance-encoding-0.30.0/src/data.rs:453:9:\n",
      "attempt to divide by zero\n",
      "\n",
      "thread 'tokio-runtime-worker' panicked at /Users/runner/.cargo/registry/src/index.crates.io-1949cf8c6b5b557f/lance-encoding-0.30.0/src/data.rs:453:9:\n",
      "attempt to divide by zero\n",
      "\n",
      "thread 'tokio-runtime-worker' panicked at /Users/runner/.cargo/registry/src/index.crates.io-1949cf8c6b5b557f/lance-encoding-0.30.0/src/decoder.rs:1508:65:\n",
      "called `Result::unwrap()` on an `Err` value: JoinError::Panic(Id(50521), \"attempt to divide by zero\", ...)\n",
      "\n",
      "thread 'tokio-runtime-worker' panicked at /Users/runner/.cargo/registry/src/index.crates.io-1949cf8c6b5b557f/lance-encoding-0.30.0/src/data.rs:453:9:\n",
      "attempt to divide by zero\n",
      "\n",
      "thread 'tokio-runtime-worker' panicked at /Users/runner/.cargo/registry/src/index.crates.io-1949cf8c6b5b557f/lance-encoding-0.30.0/src/data.rs:453:9:\n",
      "attempt to divide by zero\n",
      "\n",
      "thread 'tokio-runtime-worker' panicked at /Users/runner/.cargo/registry/src/index.crates.io-1949cf8c6b5b557f/lance-encoding-0.30.0/src/data.rs:453:9:\n",
      "attempt to divide by zero\n",
      "\n",
      "thread 'tokio-runtime-worker' panicked at /Users/runner/.cargo/registry/src/index.crates.io-1949cf8c6b5b557f/lance-encoding-0.30.0/src/decoder.rs:1508:65:\n",
      "called `Result::unwrap()` on an `Err` value: JoinError::Panic(Id(50637), \"attempt to divide by zero\", ...)\n",
      "\n",
      "thread 'tokio-runtime-worker' panicked at /Users/runner/.cargo/registry/src/index.crates.io-1949cf8c6b5b557f/lance-encoding-0.30.0/src/data.rs:453:9:\n",
      "attempt to divide by zero\n",
      "\n",
      "thread 'tokio-runtime-worker' panicked at /Users/runner/.cargo/registry/src/index.crates.io-1949cf8c6b5b557f/lance-encoding-0.30.0/src/data.rs:453:9:\n",
      "attempt to divide by zero\n",
      "\n",
      "thread 'tokio-runtime-worker' panicked at /Users/runner/.cargo/registry/src/index.crates.io-1949cf8c6b5b557f/lance-encoding-0.30.0/src/decoder.rs:1508:65:\n",
      "called `Result::unwrap()` on an `Err` value: JoinError::Panic(Id(50789), \"attempt to divide by zero\", ...)\n",
      "\n",
      "thread 'tokio-runtime-worker' panicked at /Users/runner/.cargo/registry/src/index.crates.io-1949cf8c6b5b557f/lance-encoding-0.30.0/src/data.rs:453:9:\n",
      "attempt to divide by zero\n",
      "\n",
      "thread 'tokio-runtime-worker' panicked at /Users/runner/.cargo/registry/src/index.crates.io-1949cf8c6b5b557f/lance-encoding-0.30.0/src/data.rs:453:9:\n",
      "attempt to divide by zero\n",
      "\n",
      "thread 'tokio-runtime-worker' panicked at /Users/runner/.cargo/registry/src/index.crates.io-1949cf8c6b5b557f/lance-encoding-0.30.0/src/data.rs:453:9:\n",
      "attempt to divide by zero\n",
      "\n",
      "thread 'tokio-runtime-worker' panicked at /Users/runner/.cargo/registry/src/index.crates.io-1949cf8c6b5b557f/lance-encoding-0.30.0/src/data.rs:453:9:\n",
      "attempt to divide by zero\n",
      "\n",
      "thread 'tokio-runtime-worker' panicked at /Users/runner/.cargo/registry/src/index.crates.io-1949cf8c6b5b557f/lance-encoding-0.30.0/src/data.rs:453:9:\n",
      "attempt to divide by zero\n",
      "\n",
      "thread 'tokio-runtime-worker' panicked at /Users/runner/.cargo/registry/src/index.crates.io-1949cf8c6b5b557f/lance-encoding-0.30.0/src/decoder.rs:1508:65:\n",
      "called `Result::unwrap()` on an `Err` value: JoinError::Panic(Id(50935), \"attempt to divide by zero\", ...)\n",
      "\n",
      "thread 'tokio-runtime-worker' panicked at /Users/runner/.cargo/registry/src/index.crates.io-1949cf8c6b5b557f/lance-encoding-0.30.0/src/data.rs:453:9:\n",
      "attempt to divide by zero\n",
      "\n",
      "thread 'tokio-runtime-worker' panicked at /Users/runner/.cargo/registry/src/index.crates.io-1949cf8c6b5b557f/lance-encoding-0.30.0/src/data.rs:453:9:\n",
      "attempt to divide by zero\n",
      "\n",
      "thread 'tokio-runtime-worker' panicked at /Users/runner/.cargo/registry/src/index.crates.io-1949cf8c6b5b557f/lance-encoding-0.30.0/src/data.rs:453:9:\n",
      "attempt to divide by zero\n",
      "\n",
      "thread 'tokio-runtime-worker' panicked at /Users/runner/.cargo/registry/src/index.crates.io-1949cf8c6b5b557f/lance-encoding-0.30.0/src/decoder.rs:1508:65:\n",
      "called `Result::unwrap()` on an `Err` value: JoinError::Panic(Id(51077), \"attempt to divide by zero\", ...)\n",
      "\n",
      "thread 'tokio-runtime-worker' panicked at /Users/runner/.cargo/registry/src/index.crates.io-1949cf8c6b5b557f/lance-encoding-0.30.0/src/data.rs:453:9:\n",
      "attempt to divide by zero\n",
      "\n",
      "thread 'tokio-runtime-worker' panicked at /Users/runner/.cargo/registry/src/index.crates.io-1949cf8c6b5b557f/lance-encoding-0.30.0/src/data.rs:453:9:\n",
      "attempt to divide by zero\n",
      "\n",
      "thread 'tokio-runtime-worker' panicked at /Users/runner/.cargo/registry/src/index.crates.io-1949cf8c6b5b557f/lance-encoding-0.30.0/src/data.rs:453:9:\n",
      "attempt to divide by zero\n",
      "\n",
      "thread 'tokio-runtime-worker' panicked at /Users/runner/.cargo/registry/src/index.crates.io-1949cf8c6b5b557f/lance-encoding-0.30.0/src/decoder.rs:1508:65:\n",
      "called `Result::unwrap()` on an `Err` value: JoinError::Panic(Id(51233), \"attempt to divide by zero\", ...)\n",
      "\n",
      "thread 'tokio-runtime-worker' panicked at /Users/runner/.cargo/registry/src/index.crates.io-1949cf8c6b5b557f/lance-encoding-0.30.0/src/data.rs:453:9:\n",
      "attempt to divide by zero\n",
      "\n",
      "thread 'tokio-runtime-worker' panicked at /Users/runner/.cargo/registry/src/index.crates.io-1949cf8c6b5b557f/lance-encoding-0.30.0/src/data.rs:453:9:\n",
      "attempt to divide by zero\n",
      "\n",
      "thread 'tokio-runtime-worker' panicked at /Users/runner/.cargo/registry/src/index.crates.io-1949cf8c6b5b557f/lance-encoding-0.30.0/src/data.rs:453:9:\n",
      "attempt to divide by zero\n",
      "\n",
      "thread 'tokio-runtime-worker' panicked at /Users/runner/.cargo/registry/src/index.crates.io-1949cf8c6b5b557f/lance-encoding-0.30.0/src/data.rs:453:9:\n",
      "attempt to divide by zero\n",
      "\n",
      "thread 'tokio-runtime-worker' panicked at /Users/runner/.cargo/registry/src/index.crates.io-1949cf8c6b5b557f/lance-encoding-0.30.0/src/data.rs:453:9:\n",
      "attempt to divide by zero\n",
      "\n",
      "thread 'tokio-runtime-worker' panicked at /Users/runner/.cargo/registry/src/index.crates.io-1949cf8c6b5b557f/lance-encoding-0.30.0/src/decoder.rs:1508:65:\n",
      "called `Result::unwrap()` on an `Err` value: JoinError::Panic(Id(51388), \"attempt to divide by zero\", ...)\n",
      "\n",
      "thread 'tokio-runtime-worker' panicked at /Users/runner/.cargo/registry/src/index.crates.io-1949cf8c6b5b557f/lance-encoding-0.30.0/src/data.rs:453:9:\n",
      "attempt to divide by zero\n",
      "\n",
      "thread 'tokio-runtime-worker' panicked at /Users/runner/.cargo/registry/src/index.crates.io-1949cf8c6b5b557f/lance-encoding-0.30.0/src/data.rs:453:9:\n",
      "attempt to divide by zero\n",
      "\n",
      "thread 'tokio-runtime-worker' panicked at /Users/runner/.cargo/registry/src/index.crates.io-1949cf8c6b5b557f/lance-encoding-0.30.0/src/decoder.rs:1508:65:\n",
      "called `Result::unwrap()` on an `Err` value: JoinError::Panic(Id(51532), \"attempt to divide by zero\", ...)\n",
      "\n",
      "thread 'tokio-runtime-worker' panicked at /Users/runner/.cargo/registry/src/index.crates.io-1949cf8c6b5b557f/lance-encoding-0.30.0/src/data.rs:453:9:\n",
      "attempt to divide by zero\n",
      "\n",
      "thread 'tokio-runtime-worker' panicked at /Users/runner/.cargo/registry/src/index.crates.io-1949cf8c6b5b557f/lance-encoding-0.30.0/src/data.rs:453:9:\n",
      "attempt to divide by zero\n",
      "\n",
      "thread 'tokio-runtime-worker' panicked at /Users/runner/.cargo/registry/src/index.crates.io-1949cf8c6b5b557f/lance-encoding-0.30.0/src/decoder.rs:1508:65:\n",
      "called `Result::unwrap()` on an `Err` value: JoinError::Panic(Id(51683), \"attempt to divide by zero\", ...)\n",
      "\n",
      "thread 'tokio-runtime-worker' panicked at /Users/runner/.cargo/registry/src/index.crates.io-1949cf8c6b5b557f/lance-encoding-0.30.0/src/data.rs:453:9:\n",
      "attempt to divide by zero\n",
      "\n",
      "thread 'tokio-runtime-worker' panicked at /Users/runner/.cargo/registry/src/index.crates.io-1949cf8c6b5b557f/lance-encoding-0.30.0/src/data.rs:453:9:\n",
      "attempt to divide by zero\n",
      "\n",
      "thread 'tokio-runtime-worker' panicked at /Users/runner/.cargo/registry/src/index.crates.io-1949cf8c6b5b557f/lance-encoding-0.30.0/src/data.rs:453:9:\n",
      "attempt to divide by zero\n",
      "\n",
      "thread 'tokio-runtime-worker' panicked at /Users/runner/.cargo/registry/src/index.crates.io-1949cf8c6b5b557f/lance-encoding-0.30.0/src/decoder.rs:1508:65:\n",
      "called `Result::unwrap()` on an `Err` value: JoinError::Panic(Id(51832), \"attempt to divide by zero\", ...)\n",
      "\n",
      "thread 'tokio-runtime-worker' panicked at /Users/runner/.cargo/registry/src/index.crates.io-1949cf8c6b5b557f/lance-encoding-0.30.0/src/data.rs:453:9:\n",
      "attempt to divide by zero\n",
      "\n",
      "thread 'tokio-runtime-worker' panicked at /Users/runner/.cargo/registry/src/index.crates.io-1949cf8c6b5b557f/lance-encoding-0.30.0/src/data.rs:453:9:\n",
      "attempt to divide by zero\n",
      "\n",
      "thread 'tokio-runtime-worker' panicked at /Users/runner/.cargo/registry/src/index.crates.io-1949cf8c6b5b557f/lance-encoding-0.30.0/src/data.rs:453:9:\n",
      "attempt to divide by zero\n",
      "\n",
      "thread 'tokio-runtime-worker' panicked at /Users/runner/.cargo/registry/src/index.crates.io-1949cf8c6b5b557f/lance-encoding-0.30.0/src/data.rs:453:9:\n",
      "attempt to divide by zero\n",
      "\n",
      "thread 'tokio-runtime-worker' panicked at /Users/runner/.cargo/registry/src/index.crates.io-1949cf8c6b5b557f/lance-encoding-0.30.0/src/data.rs:453:9:\n",
      "attempt to divide by zero\n",
      "\n",
      "thread 'tokio-runtime-worker' panicked at /Users/runner/.cargo/registry/src/index.crates.io-1949cf8c6b5b557f/lance-encoding-0.30.0/src/decoder.rs:1508:65:\n",
      "called `Result::unwrap()` on an `Err` value: JoinError::Panic(Id(51979), \"attempt to divide by zero\", ...)\n",
      "\n",
      "thread 'tokio-runtime-worker' panicked at /Users/runner/.cargo/registry/src/index.crates.io-1949cf8c6b5b557f/lance-encoding-0.30.0/src/data.rs:453:9:\n",
      "attempt to divide by zero\n",
      "\n",
      "thread 'tokio-runtime-worker' panicked at /Users/runner/.cargo/registry/src/index.crates.io-1949cf8c6b5b557f/lance-encoding-0.30.0/src/data.rs:453:9:\n",
      "attempt to divide by zero\n",
      "\n",
      "thread 'tokio-runtime-worker' panicked at /Users/runner/.cargo/registry/src/index.crates.io-1949cf8c6b5b557f/lance-encoding-0.30.0/src/data.rs:453:9:\n",
      "attempt to divide by zero\n",
      "\n",
      "thread 'tokio-runtime-worker' panicked at /Users/runner/.cargo/registry/src/index.crates.io-1949cf8c6b5b557f/lance-encoding-0.30.0/src/data.rs:453:9:\n",
      "attempt to divide by zero\n",
      "\n",
      "thread 'tokio-runtime-worker' panicked at /Users/runner/.cargo/registry/src/index.crates.io-1949cf8c6b5b557f/lance-encoding-0.30.0/src/data.rs:453:9:\n",
      "attempt to divide by zero\n",
      "\n",
      "thread 'tokio-runtime-worker' panicked at /Users/runner/.cargo/registry/src/index.crates.io-1949cf8c6b5b557f/lance-encoding-0.30.0/src/data.rs:453:9:\n",
      "attempt to divide by zero\n",
      "\n",
      "thread 'tokio-runtime-worker' panicked at /Users/runner/.cargo/registry/src/index.crates.io-1949cf8c6b5b557f/lance-encoding-0.30.0/src/decoder.rs:1508:65:\n",
      "called `Result::unwrap()` on an `Err` value: JoinError::Panic(Id(52150), \"attempt to divide by zero\", ...)\n",
      "\n",
      "thread 'tokio-runtime-worker' panicked at /Users/runner/.cargo/registry/src/index.crates.io-1949cf8c6b5b557f/lance-encoding-0.30.0/src/data.rs:453:9:\n",
      "attempt to divide by zero\n",
      "\n",
      "thread 'tokio-runtime-worker' panicked at /Users/runner/.cargo/registry/src/index.crates.io-1949cf8c6b5b557f/lance-encoding-0.30.0/src/data.rs:453:9:\n",
      "attempt to divide by zero\n",
      "\n",
      "thread 'tokio-runtime-worker' panicked at /Users/runner/.cargo/registry/src/index.crates.io-1949cf8c6b5b557f/lance-encoding-0.30.0/src/data.rs:453:9:\n",
      "attempt to divide by zero\n",
      "\n",
      "thread 'tokio-runtime-worker' panicked at /Users/runner/.cargo/registry/src/index.crates.io-1949cf8c6b5b557f/lance-encoding-0.30.0/src/data.rs:453:9:\n",
      "attempt to divide by zero\n",
      "\n",
      "thread 'tokio-runtime-worker' panicked at /Users/runner/.cargo/registry/src/index.crates.io-1949cf8c6b5b557f/lance-encoding-0.30.0/src/decoder.rs:1508:65:\n",
      "called `Result::unwrap()` on an `Err` value: JoinError::Panic(Id(52282), \"attempt to divide by zero\", ...)\n",
      "\n",
      "thread 'tokio-runtime-worker' panicked at /Users/runner/.cargo/registry/src/index.crates.io-1949cf8c6b5b557f/lance-encoding-0.30.0/src/data.rs:453:9:\n",
      "attempt to divide by zero\n",
      "\n",
      "thread 'tokio-runtime-worker' panicked at /Users/runner/.cargo/registry/src/index.crates.io-1949cf8c6b5b557f/lance-encoding-0.30.0/src/data.rs:453:9:\n",
      "attempt to divide by zero\n",
      "\n",
      "thread 'tokio-runtime-worker' panicked at /Users/runner/.cargo/registry/src/index.crates.io-1949cf8c6b5b557f/lance-encoding-0.30.0/src/decoder.rs:1508:65:\n",
      "called `Result::unwrap()` on an `Err` value: JoinError::Panic(Id(52439), \"attempt to divide by zero\", ...)\n",
      "\n",
      "thread 'tokio-runtime-worker' panicked at /Users/runner/.cargo/registry/src/index.crates.io-1949cf8c6b5b557f/lance-encoding-0.30.0/src/data.rs:453:9:\n",
      "attempt to divide by zero\n",
      "\n",
      "thread 'tokio-runtime-worker' panicked at /Users/runner/.cargo/registry/src/index.crates.io-1949cf8c6b5b557f/lance-encoding-0.30.0/src/data.rs:453:9:\n",
      "attempt to divide by zero\n",
      "\n",
      "thread 'tokio-runtime-worker' panicked at /Users/runner/.cargo/registry/src/index.crates.io-1949cf8c6b5b557f/lance-encoding-0.30.0/src/data.rs:453:9:\n",
      "attempt to divide by zero\n",
      "\n",
      "thread 'tokio-runtime-worker' panicked at /Users/runner/.cargo/registry/src/index.crates.io-1949cf8c6b5b557f/lance-encoding-0.30.0/src/data.rs:453:9:\n",
      "attempt to divide by zero\n",
      "\n",
      "thread 'tokio-runtime-worker' panicked at /Users/runner/.cargo/registry/src/index.crates.io-1949cf8c6b5b557f/lance-encoding-0.30.0/src/decoder.rs:1508:65:\n",
      "called `Result::unwrap()` on an `Err` value: JoinError::Panic(Id(52590), \"attempt to divide by zero\", ...)\n",
      "\n",
      "thread 'tokio-runtime-worker' panicked at /Users/runner/.cargo/registry/src/index.crates.io-1949cf8c6b5b557f/lance-encoding-0.30.0/src/data.rs:453:9:\n",
      "attempt to divide by zero\n",
      "\n",
      "thread 'tokio-runtime-worker' panicked at /Users/runner/.cargo/registry/src/index.crates.io-1949cf8c6b5b557f/lance-encoding-0.30.0/src/data.rs:453:9:\n",
      "attempt to divide by zero\n",
      "\n",
      "thread 'tokio-runtime-worker' panicked at /Users/runner/.cargo/registry/src/index.crates.io-1949cf8c6b5b557f/lance-encoding-0.30.0/src/decoder.rs:1508:65:\n",
      "called `Result::unwrap()` on an `Err` value: JoinError::Panic(Id(52734), \"attempt to divide by zero\", ...)\n",
      "\n",
      "thread 'tokio-runtime-worker' panicked at /Users/runner/.cargo/registry/src/index.crates.io-1949cf8c6b5b557f/lance-encoding-0.30.0/src/data.rs:453:9:\n",
      "attempt to divide by zero\n",
      "\n",
      "thread 'tokio-runtime-worker' panicked at /Users/runner/.cargo/registry/src/index.crates.io-1949cf8c6b5b557f/lance-encoding-0.30.0/src/data.rs:453:9:\n",
      "attempt to divide by zero\n",
      "\n",
      "thread 'tokio-runtime-worker' panicked at /Users/runner/.cargo/registry/src/index.crates.io-1949cf8c6b5b557f/lance-encoding-0.30.0/src/data.rs:453:9:\n",
      "attempt to divide by zero\n",
      "\n",
      "thread 'tokio-runtime-worker' panicked at /Users/runner/.cargo/registry/src/index.crates.io-1949cf8c6b5b557f/lance-encoding-0.30.0/src/data.rs:453:9:\n",
      "attempt to divide by zero\n",
      "\n",
      "thread 'tokio-runtime-worker' panicked at /Users/runner/.cargo/registry/src/index.crates.io-1949cf8c6b5b557f/lance-encoding-0.30.0/src/decoder.rs:1508:65:\n",
      "called `Result::unwrap()` on an `Err` value: JoinError::Panic(Id(52872), \"attempt to divide by zero\", ...)\n",
      "\n",
      "thread 'tokio-runtime-worker' panicked at /Users/runner/.cargo/registry/src/index.crates.io-1949cf8c6b5b557f/lance-encoding-0.30.0/src/data.rs:453:9:\n",
      "attempt to divide by zero\n",
      "\n",
      "thread 'tokio-runtime-worker' panicked at /Users/runner/.cargo/registry/src/index.crates.io-1949cf8c6b5b557f/lance-encoding-0.30.0/src/data.rs:453:9:\n",
      "attempt to divide by zero\n",
      "\n",
      "thread 'tokio-runtime-worker' panicked at /Users/runner/.cargo/registry/src/index.crates.io-1949cf8c6b5b557f/lance-encoding-0.30.0/src/data.rs:453:9:\n",
      "attempt to divide by zero\n",
      "\n",
      "thread 'tokio-runtime-worker' panicked at /Users/runner/.cargo/registry/src/index.crates.io-1949cf8c6b5b557f/lance-encoding-0.30.0/src/data.rs:453:9:\n",
      "attempt to divide by zero\n",
      "\n",
      "thread 'tokio-runtime-worker' panicked at /Users/runner/.cargo/registry/src/index.crates.io-1949cf8c6b5b557f/lance-encoding-0.30.0/src/data.rs:453:9:\n",
      "attempt to divide by zero\n",
      "\n",
      "thread 'tokio-runtime-worker' panicked at /Users/runner/.cargo/registry/src/index.crates.io-1949cf8c6b5b557f/lance-encoding-0.30.0/src/decoder.rs:1508:65:\n",
      "called `Result::unwrap()` on an `Err` value: JoinError::Panic(Id(53027), \"attempt to divide by zero\", ...)\n",
      "\n",
      "thread 'tokio-runtime-worker' panicked at /Users/runner/.cargo/registry/src/index.crates.io-1949cf8c6b5b557f/lance-encoding-0.30.0/src/data.rs:453:9:\n",
      "attempt to divide by zero\n",
      "\n",
      "thread 'tokio-runtime-worker' panicked at /Users/runner/.cargo/registry/src/index.crates.io-1949cf8c6b5b557f/lance-encoding-0.30.0/src/data.rs:453:9:\n",
      "attempt to divide by zero\n",
      "\n",
      "thread 'tokio-runtime-worker' panicked at /Users/runner/.cargo/registry/src/index.crates.io-1949cf8c6b5b557f/lance-encoding-0.30.0/src/decoder.rs:1508:65:\n",
      "called `Result::unwrap()` on an `Err` value: JoinError::Panic(Id(53167), \"attempt to divide by zero\", ...)\n",
      "\n",
      "thread 'tokio-runtime-worker' panicked at /Users/runner/.cargo/registry/src/index.crates.io-1949cf8c6b5b557f/lance-encoding-0.30.0/src/data.rs:453:9:\n",
      "attempt to divide by zero\n",
      "\n",
      "thread 'tokio-runtime-worker' panicked at /Users/runner/.cargo/registry/src/index.crates.io-1949cf8c6b5b557f/lance-encoding-0.30.0/src/data.rs:453:9:\n",
      "attempt to divide by zero\n",
      "\n",
      "thread 'tokio-runtime-worker' panicked at /Users/runner/.cargo/registry/src/index.crates.io-1949cf8c6b5b557f/lance-encoding-0.30.0/src/data.rs:453:9:\n",
      "attempt to divide by zero\n",
      "\n",
      "thread 'tokio-runtime-worker' panicked at /Users/runner/.cargo/registry/src/index.crates.io-1949cf8c6b5b557f/lance-encoding-0.30.0/src/data.rs:453:9:\n",
      "attempt to divide by zero\n",
      "\n",
      "thread 'tokio-runtime-worker' panicked at /Users/runner/.cargo/registry/src/index.crates.io-1949cf8c6b5b557f/lance-encoding-0.30.0/src/decoder.rs:1508:65:\n",
      "called `Result::unwrap()` on an `Err` value: JoinError::Panic(Id(53335), \"attempt to divide by zero\", ...)\n",
      "\n",
      "thread 'tokio-runtime-worker' panicked at /Users/runner/.cargo/registry/src/index.crates.io-1949cf8c6b5b557f/lance-encoding-0.30.0/src/data.rs:453:9:\n",
      "attempt to divide by zero\n",
      "\n",
      "thread 'tokio-runtime-worker' panicked at /Users/runner/.cargo/registry/src/index.crates.io-1949cf8c6b5b557f/lance-encoding-0.30.0/src/data.rs:453:9:\n",
      "attempt to divide by zero\n",
      "\n",
      "thread 'tokio-runtime-worker' panicked at /Users/runner/.cargo/registry/src/index.crates.io-1949cf8c6b5b557f/lance-encoding-0.30.0/src/data.rs:453:9:\n",
      "attempt to divide by zero\n",
      "\n",
      "thread 'tokio-runtime-worker' panicked at /Users/runner/.cargo/registry/src/index.crates.io-1949cf8c6b5b557f/lance-encoding-0.30.0/src/data.rs:453:9:\n",
      "attempt to divide by zero\n",
      "\n",
      "thread 'tokio-runtime-worker' panicked at /Users/runner/.cargo/registry/src/index.crates.io-1949cf8c6b5b557f/lance-encoding-0.30.0/src/data.rs:453:9:\n",
      "attempt to divide by zero\n",
      "\n",
      "thread 'tokio-runtime-worker' panicked at /Users/runner/.cargo/registry/src/index.crates.io-1949cf8c6b5b557f/lance-encoding-0.30.0/src/data.rs:453:9:\n",
      "attempt to divide by zero\n",
      "\n",
      "thread 'tokio-runtime-worker' panicked at /Users/runner/.cargo/registry/src/index.crates.io-1949cf8c6b5b557f/lance-encoding-0.30.0/src/decoder.rs:1508:65:\n",
      "called `Result::unwrap()` on an `Err` value: JoinError::Panic(Id(53480), \"attempt to divide by zero\", ...)\n",
      "\n",
      "thread 'tokio-runtime-worker' panicked at /Users/runner/.cargo/registry/src/index.crates.io-1949cf8c6b5b557f/lance-encoding-0.30.0/src/data.rs:453:9:\n",
      "attempt to divide by zero\n",
      "\n",
      "thread 'tokio-runtime-worker' panicked at /Users/runner/.cargo/registry/src/index.crates.io-1949cf8c6b5b557f/lance-encoding-0.30.0/src/data.rs:453:9:\n",
      "attempt to divide by zero\n",
      "\n",
      "thread 'tokio-runtime-worker' panicked at /Users/runner/.cargo/registry/src/index.crates.io-1949cf8c6b5b557f/lance-encoding-0.30.0/src/decoder.rs:1508:65:\n",
      "called `Result::unwrap()` on an `Err` value: JoinError::Panic(Id(53640), \"attempt to divide by zero\", ...)\n",
      "\n",
      "thread 'tokio-runtime-worker' panicked at /Users/runner/.cargo/registry/src/index.crates.io-1949cf8c6b5b557f/lance-encoding-0.30.0/src/data.rs:453:9:\n",
      "attempt to divide by zero\n",
      "\n",
      "thread 'tokio-runtime-worker' panicked at /Users/runner/.cargo/registry/src/index.crates.io-1949cf8c6b5b557f/lance-encoding-0.30.0/src/data.rs:453:9:\n",
      "attempt to divide by zero\n",
      "\n",
      "thread 'tokio-runtime-worker' panicked at /Users/runner/.cargo/registry/src/index.crates.io-1949cf8c6b5b557f/lance-encoding-0.30.0/src/data.rs:453:9:\n",
      "attempt to divide by zero\n",
      "\n",
      "thread 'tokio-runtime-worker' panicked at /Users/runner/.cargo/registry/src/index.crates.io-1949cf8c6b5b557f/lance-encoding-0.30.0/src/data.rs:453:9:\n",
      "attempt to divide by zero\n",
      "\n",
      "thread 'tokio-runtime-worker' panicked at /Users/runner/.cargo/registry/src/index.crates.io-1949cf8c6b5b557f/lance-encoding-0.30.0/src/decoder.rs:1508:65:\n",
      "called `Result::unwrap()` on an `Err` value: JoinError::Panic(Id(53783), \"attempt to divide by zero\", ...)\n",
      "\n",
      "thread 'tokio-runtime-worker' panicked at /Users/runner/.cargo/registry/src/index.crates.io-1949cf8c6b5b557f/lance-encoding-0.30.0/src/data.rs:453:9:\n",
      "attempt to divide by zero\n",
      "\n",
      "thread 'tokio-runtime-worker' panicked at /Users/runner/.cargo/registry/src/index.crates.io-1949cf8c6b5b557f/lance-encoding-0.30.0/src/data.rs:453:9:\n",
      "attempt to divide by zero\n",
      "\n",
      "thread 'tokio-runtime-worker' panicked at /Users/runner/.cargo/registry/src/index.crates.io-1949cf8c6b5b557f/lance-encoding-0.30.0/src/data.rs:453:9:\n",
      "attempt to divide by zero\n",
      "\n",
      "thread 'tokio-runtime-worker' panicked at /Users/runner/.cargo/registry/src/index.crates.io-1949cf8c6b5b557f/lance-encoding-0.30.0/src/decoder.rs:1508:65:\n",
      "called `Result::unwrap()` on an `Err` value: JoinError::Panic(Id(53921), \"attempt to divide by zero\", ...)\n",
      "\n",
      "thread 'tokio-runtime-worker' panicked at /Users/runner/.cargo/registry/src/index.crates.io-1949cf8c6b5b557f/lance-encoding-0.30.0/src/data.rs:453:9:\n",
      "attempt to divide by zero\n",
      "\n",
      "thread 'tokio-runtime-worker' panicked at /Users/runner/.cargo/registry/src/index.crates.io-1949cf8c6b5b557f/lance-encoding-0.30.0/src/data.rs:453:9:\n",
      "attempt to divide by zero\n",
      "\n",
      "thread 'tokio-runtime-worker' panicked at /Users/runner/.cargo/registry/src/index.crates.io-1949cf8c6b5b557f/lance-encoding-0.30.0/src/data.rs:453:9:\n",
      "attempt to divide by zero\n",
      "\n",
      "thread 'tokio-runtime-worker' panicked at /Users/runner/.cargo/registry/src/index.crates.io-1949cf8c6b5b557f/lance-encoding-0.30.0/src/data.rs:453:9:\n",
      "attempt to divide by zero\n",
      "\n",
      "thread 'tokio-runtime-worker' panicked at /Users/runner/.cargo/registry/src/index.crates.io-1949cf8c6b5b557f/lance-encoding-0.30.0/src/decoder.rs:1508:65:\n",
      "called `Result::unwrap()` on an `Err` value: JoinError::Panic(Id(54081), \"attempt to divide by zero\", ...)\n",
      "\n",
      "thread 'tokio-runtime-worker' panicked at /Users/runner/.cargo/registry/src/index.crates.io-1949cf8c6b5b557f/lance-encoding-0.30.0/src/data.rs:453:9:\n",
      "attempt to divide by zero\n",
      "\n",
      "thread 'tokio-runtime-worker' panicked at /Users/runner/.cargo/registry/src/index.crates.io-1949cf8c6b5b557f/lance-encoding-0.30.0/src/data.rs:453:9:\n",
      "attempt to divide by zero\n",
      "\n",
      "thread 'tokio-runtime-worker' panicked at /Users/runner/.cargo/registry/src/index.crates.io-1949cf8c6b5b557f/lance-encoding-0.30.0/src/data.rs:453:9:\n",
      "attempt to divide by zero\n",
      "\n",
      "thread 'tokio-runtime-worker' panicked at /Users/runner/.cargo/registry/src/index.crates.io-1949cf8c6b5b557f/lance-encoding-0.30.0/src/data.rs:453:9:\n",
      "attempt to divide by zero\n",
      "\n",
      "thread 'tokio-runtime-worker' panicked at /Users/runner/.cargo/registry/src/index.crates.io-1949cf8c6b5b557f/lance-encoding-0.30.0/src/data.rs:453:9:\n",
      "attempt to divide by zero\n",
      "\n",
      "thread 'tokio-runtime-worker' panicked at /Users/runner/.cargo/registry/src/index.crates.io-1949cf8c6b5b557f/lance-encoding-0.30.0/src/decoder.rs:1508:65:\n",
      "called `Result::unwrap()` on an `Err` value: JoinError::Panic(Id(54239), \"attempt to divide by zero\", ...)\n",
      "\n",
      "thread 'tokio-runtime-worker' panicked at /Users/runner/.cargo/registry/src/index.crates.io-1949cf8c6b5b557f/lance-encoding-0.30.0/src/data.rs:453:9:\n",
      "attempt to divide by zero\n",
      "\n",
      "thread 'tokio-runtime-worker' panicked at /Users/runner/.cargo/registry/src/index.crates.io-1949cf8c6b5b557f/lance-encoding-0.30.0/src/data.rs:453:9:\n",
      "attempt to divide by zero\n",
      "\n",
      "thread 'tokio-runtime-worker' panicked at /Users/runner/.cargo/registry/src/index.crates.io-1949cf8c6b5b557f/lance-encoding-0.30.0/src/decoder.rs:1508:65:\n",
      "called `Result::unwrap()` on an `Err` value: JoinError::Panic(Id(54376), \"attempt to divide by zero\", ...)\n",
      "\n",
      "thread 'tokio-runtime-worker' panicked at /Users/runner/.cargo/registry/src/index.crates.io-1949cf8c6b5b557f/lance-encoding-0.30.0/src/data.rs:453:9:\n",
      "attempt to divide by zero\n",
      "\n",
      "thread 'tokio-runtime-worker' panicked at /Users/runner/.cargo/registry/src/index.crates.io-1949cf8c6b5b557f/lance-encoding-0.30.0/src/data.rs:453:9:\n",
      "attempt to divide by zero\n",
      "\n",
      "thread 'tokio-runtime-worker' panicked at /Users/runner/.cargo/registry/src/index.crates.io-1949cf8c6b5b557f/lance-encoding-0.30.0/src/data.rs:453:9:\n",
      "attempt to divide by zero\n",
      "\n",
      "thread 'tokio-runtime-worker' panicked at /Users/runner/.cargo/registry/src/index.crates.io-1949cf8c6b5b557f/lance-encoding-0.30.0/src/data.rs:453:9:\n",
      "attempt to divide by zero\n",
      "\n",
      "thread 'tokio-runtime-worker' panicked at /Users/runner/.cargo/registry/src/index.crates.io-1949cf8c6b5b557f/lance-encoding-0.30.0/src/data.rs:453:9:\n",
      "attempt to divide by zero\n",
      "\n",
      "thread 'tokio-runtime-worker' panicked at /Users/runner/.cargo/registry/src/index.crates.io-1949cf8c6b5b557f/lance-encoding-0.30.0/src/decoder.rs:1508:65:\n",
      "called `Result::unwrap()` on an `Err` value: JoinError::Panic(Id(54546), \"attempt to divide by zero\", ...)\n",
      "\n",
      "thread 'tokio-runtime-worker' panicked at /Users/runner/.cargo/registry/src/index.crates.io-1949cf8c6b5b557f/lance-encoding-0.30.0/src/data.rs:453:9:\n",
      "attempt to divide by zero\n",
      "\n",
      "thread 'tokio-runtime-worker' panicked at /Users/runner/.cargo/registry/src/index.crates.io-1949cf8c6b5b557f/lance-encoding-0.30.0/src/data.rs:453:9:\n",
      "attempt to divide by zero\n",
      "\n",
      "thread 'tokio-runtime-worker' panicked at /Users/runner/.cargo/registry/src/index.crates.io-1949cf8c6b5b557f/lance-encoding-0.30.0/src/data.rs:453:9:\n",
      "attempt to divide by zero\n",
      "\n",
      "thread 'tokio-runtime-worker' panicked at /Users/runner/.cargo/registry/src/index.crates.io-1949cf8c6b5b557f/lance-encoding-0.30.0/src/data.rs:453:9:\n",
      "attempt to divide by zero\n",
      "\n",
      "thread 'tokio-runtime-worker' panicked at /Users/runner/.cargo/registry/src/index.crates.io-1949cf8c6b5b557f/lance-encoding-0.30.0/src/data.rs:453:9:\n",
      "attempt to divide by zero\n",
      "\n",
      "thread 'tokio-runtime-worker' panicked at /Users/runner/.cargo/registry/src/index.crates.io-1949cf8c6b5b557f/lance-encoding-0.30.0/src/data.rs:453:9:\n",
      "attempt to divide by zero\n",
      "\n",
      "thread 'tokio-runtime-worker' panicked at /Users/runner/.cargo/registry/src/index.crates.io-1949cf8c6b5b557f/lance-encoding-0.30.0/src/data.rs:453:9:\n",
      "attempt to divide by zero\n",
      "\n",
      "thread 'tokio-runtime-worker' panicked at /Users/runner/.cargo/registry/src/index.crates.io-1949cf8c6b5b557f/lance-encoding-0.30.0/src/decoder.rs:1508:65:\n",
      "called `Result::unwrap()` on an `Err` value: JoinError::Panic(Id(54712), \"attempt to divide by zero\", ...)\n",
      "\n",
      "thread 'tokio-runtime-worker' panicked at /Users/runner/.cargo/registry/src/index.crates.io-1949cf8c6b5b557f/lance-encoding-0.30.0/src/data.rs:453:9:\n",
      "attempt to divide by zero\n",
      "\n",
      "thread 'tokio-runtime-worker' panicked at /Users/runner/.cargo/registry/src/index.crates.io-1949cf8c6b5b557f/lance-encoding-0.30.0/src/data.rs:453:9:\n",
      "attempt to divide by zero\n",
      "\n",
      "thread 'tokio-runtime-worker' panicked at /Users/runner/.cargo/registry/src/index.crates.io-1949cf8c6b5b557f/lance-encoding-0.30.0/src/data.rs:453:9:\n",
      "attempt to divide by zero\n",
      "\n",
      "thread 'tokio-runtime-worker' panicked at /Users/runner/.cargo/registry/src/index.crates.io-1949cf8c6b5b557f/lance-encoding-0.30.0/src/data.rs:453:9:\n",
      "attempt to divide by zero\n",
      "\n",
      "thread 'tokio-runtime-worker' panicked at /Users/runner/.cargo/registry/src/index.crates.io-1949cf8c6b5b557f/lance-encoding-0.30.0/src/decoder.rs:1508:65:\n",
      "called `Result::unwrap()` on an `Err` value: JoinError::Panic(Id(54872), \"attempt to divide by zero\", ...)\n",
      "\n",
      "thread 'tokio-runtime-worker' panicked at /Users/runner/.cargo/registry/src/index.crates.io-1949cf8c6b5b557f/lance-encoding-0.30.0/src/data.rs:453:9:\n",
      "attempt to divide by zero\n",
      "\n",
      "thread 'tokio-runtime-worker' panicked at /Users/runner/.cargo/registry/src/index.crates.io-1949cf8c6b5b557f/lance-encoding-0.30.0/src/data.rs:453:9:\n",
      "attempt to divide by zero\n",
      "\n",
      "thread 'tokio-runtime-worker' panicked at /Users/runner/.cargo/registry/src/index.crates.io-1949cf8c6b5b557f/lance-encoding-0.30.0/src/data.rs:453:9:\n",
      "attempt to divide by zero\n",
      "\n",
      "thread 'tokio-runtime-worker' panicked at /Users/runner/.cargo/registry/src/index.crates.io-1949cf8c6b5b557f/lance-encoding-0.30.0/src/data.rs:453:9:\n",
      "attempt to divide by zero\n",
      "\n",
      "thread 'tokio-runtime-worker' panicked at /Users/runner/.cargo/registry/src/index.crates.io-1949cf8c6b5b557f/lance-encoding-0.30.0/src/data.rs:453:9:\n",
      "attempt to divide by zero\n",
      "\n",
      "thread 'tokio-runtime-worker' panicked at /Users/runner/.cargo/registry/src/index.crates.io-1949cf8c6b5b557f/lance-encoding-0.30.0/src/data.rs:453:9:\n",
      "attempt to divide by zero\n",
      "\n",
      "thread 'tokio-runtime-worker' panicked at /Users/runner/.cargo/registry/src/index.crates.io-1949cf8c6b5b557f/lance-encoding-0.30.0/src/decoder.rs:1508:65:\n",
      "called `Result::unwrap()` on an `Err` value: JoinError::Panic(Id(55025), \"attempt to divide by zero\", ...)\n",
      "\n",
      "thread 'tokio-runtime-worker' panicked at /Users/runner/.cargo/registry/src/index.crates.io-1949cf8c6b5b557f/lance-encoding-0.30.0/src/data.rs:453:9:\n",
      "attempt to divide by zero\n",
      "\n",
      "thread 'tokio-runtime-worker' panicked at /Users/runner/.cargo/registry/src/index.crates.io-1949cf8c6b5b557f/lance-encoding-0.30.0/src/data.rs:453:9:\n",
      "attempt to divide by zero\n",
      "\n",
      "thread 'tokio-runtime-worker' panicked at /Users/runner/.cargo/registry/src/index.crates.io-1949cf8c6b5b557f/lance-encoding-0.30.0/src/decoder.rs:1508:65:\n",
      "called `Result::unwrap()` on an `Err` value: JoinError::Panic(Id(55160), \"attempt to divide by zero\", ...)\n",
      "\n",
      "thread 'tokio-runtime-worker' panicked at /Users/runner/.cargo/registry/src/index.crates.io-1949cf8c6b5b557f/lance-encoding-0.30.0/src/data.rs:453:9:\n",
      "attempt to divide by zero\n",
      "\n",
      "thread 'tokio-runtime-worker' panicked at /Users/runner/.cargo/registry/src/index.crates.io-1949cf8c6b5b557f/lance-encoding-0.30.0/src/data.rs:453:9:\n",
      "attempt to divide by zero\n",
      "\n",
      "thread 'tokio-runtime-worker' panicked at /Users/runner/.cargo/registry/src/index.crates.io-1949cf8c6b5b557f/lance-encoding-0.30.0/src/data.rs:453:9:\n",
      "attempt to divide by zero\n",
      "\n",
      "thread 'tokio-runtime-worker' panicked at /Users/runner/.cargo/registry/src/index.crates.io-1949cf8c6b5b557f/lance-encoding-0.30.0/src/data.rs:453:9:\n",
      "attempt to divide by zero\n",
      "\n",
      "thread 'tokio-runtime-worker' panicked at /Users/runner/.cargo/registry/src/index.crates.io-1949cf8c6b5b557f/lance-encoding-0.30.0/src/decoder.rs:1508:65:\n",
      "called `Result::unwrap()` on an `Err` value: JoinError::Panic(Id(55313), \"attempt to divide by zero\", ...)\n",
      "\n",
      "thread 'tokio-runtime-worker' panicked at /Users/runner/.cargo/registry/src/index.crates.io-1949cf8c6b5b557f/lance-encoding-0.30.0/src/data.rs:453:9:\n",
      "attempt to divide by zero\n",
      "\n",
      "thread 'tokio-runtime-worker' panicked at /Users/runner/.cargo/registry/src/index.crates.io-1949cf8c6b5b557f/lance-encoding-0.30.0/src/data.rs:453:9:\n",
      "attempt to divide by zero\n",
      "\n",
      "thread 'tokio-runtime-worker' panicked at /Users/runner/.cargo/registry/src/index.crates.io-1949cf8c6b5b557f/lance-encoding-0.30.0/src/data.rs:453:9:\n",
      "attempt to divide by zero\n",
      "\n",
      "thread 'tokio-runtime-worker' panicked at /Users/runner/.cargo/registry/src/index.crates.io-1949cf8c6b5b557f/lance-encoding-0.30.0/src/data.rs:453:9:\n",
      "attempt to divide by zero\n",
      "\n",
      "thread 'tokio-runtime-worker' panicked at /Users/runner/.cargo/registry/src/index.crates.io-1949cf8c6b5b557f/lance-encoding-0.30.0/src/decoder.rs:1508:65:\n",
      "called `Result::unwrap()` on an `Err` value: JoinError::Panic(Id(55463), \"attempt to divide by zero\", ...)\n",
      "\n",
      "thread 'tokio-runtime-worker' panicked at /Users/runner/.cargo/registry/src/index.crates.io-1949cf8c6b5b557f/lance-encoding-0.30.0/src/data.rs:453:9:\n",
      "attempt to divide by zero\n",
      "\n",
      "thread 'tokio-runtime-worker' panicked at /Users/runner/.cargo/registry/src/index.crates.io-1949cf8c6b5b557f/lance-encoding-0.30.0/src/data.rs:453:9:\n",
      "attempt to divide by zero\n",
      "\n",
      "thread 'tokio-runtime-worker' panicked at /Users/runner/.cargo/registry/src/index.crates.io-1949cf8c6b5b557f/lance-encoding-0.30.0/src/decoder.rs:1508:65:\n",
      "called `Result::unwrap()` on an `Err` value: JoinError::Panic(Id(55598), \"attempt to divide by zero\", ...)\n",
      "\n",
      "thread 'tokio-runtime-worker' panicked at /Users/runner/.cargo/registry/src/index.crates.io-1949cf8c6b5b557f/lance-encoding-0.30.0/src/data.rs:453:9:\n",
      "attempt to divide by zero\n",
      "\n",
      "thread 'tokio-runtime-worker' panicked at /Users/runner/.cargo/registry/src/index.crates.io-1949cf8c6b5b557f/lance-encoding-0.30.0/src/data.rs:453:9:\n",
      "attempt to divide by zero\n",
      "\n",
      "thread 'tokio-runtime-worker' panicked at /Users/runner/.cargo/registry/src/index.crates.io-1949cf8c6b5b557f/lance-encoding-0.30.0/src/decoder.rs:1508:65:\n",
      "called `Result::unwrap()` on an `Err` value: JoinError::Panic(Id(55750), \"attempt to divide by zero\", ...)\n",
      "\n",
      "thread 'tokio-runtime-worker' panicked at /Users/runner/.cargo/registry/src/index.crates.io-1949cf8c6b5b557f/lance-encoding-0.30.0/src/data.rs:453:9:\n",
      "attempt to divide by zero\n",
      "\n",
      "thread 'tokio-runtime-worker' panicked at /Users/runner/.cargo/registry/src/index.crates.io-1949cf8c6b5b557f/lance-encoding-0.30.0/src/data.rs:453:9:\n",
      "attempt to divide by zero\n",
      "\n",
      "thread 'tokio-runtime-worker' panicked at /Users/runner/.cargo/registry/src/index.crates.io-1949cf8c6b5b557f/lance-encoding-0.30.0/src/data.rs:453:9:\n",
      "attempt to divide by zero\n",
      "\n",
      "thread 'tokio-runtime-worker' panicked at /Users/runner/.cargo/registry/src/index.crates.io-1949cf8c6b5b557f/lance-encoding-0.30.0/src/decoder.rs:1508:65:\n",
      "called `Result::unwrap()` on an `Err` value: JoinError::Panic(Id(55883), \"attempt to divide by zero\", ...)\n",
      "\n",
      "thread 'tokio-runtime-worker' panicked at /Users/runner/.cargo/registry/src/index.crates.io-1949cf8c6b5b557f/lance-encoding-0.30.0/src/data.rs:453:9:\n",
      "attempt to divide by zero\n",
      "\n",
      "thread 'tokio-runtime-worker' panicked at /Users/runner/.cargo/registry/src/index.crates.io-1949cf8c6b5b557f/lance-encoding-0.30.0/src/data.rs:453:9:\n",
      "attempt to divide by zero\n",
      "\n",
      "thread 'tokio-runtime-worker' panicked at /Users/runner/.cargo/registry/src/index.crates.io-1949cf8c6b5b557f/lance-encoding-0.30.0/src/data.rs:453:9:\n",
      "attempt to divide by zero\n",
      "\n",
      "thread 'tokio-runtime-worker' panicked at /Users/runner/.cargo/registry/src/index.crates.io-1949cf8c6b5b557f/lance-encoding-0.30.0/src/data.rs:453:9:\n",
      "attempt to divide by zero\n",
      "\n",
      "thread 'tokio-runtime-worker' panicked at /Users/runner/.cargo/registry/src/index.crates.io-1949cf8c6b5b557f/lance-encoding-0.30.0/src/data.rs:453:9:\n",
      "attempt to divide by zero\n",
      "\n",
      "thread 'tokio-runtime-worker' panicked at /Users/runner/.cargo/registry/src/index.crates.io-1949cf8c6b5b557f/lance-encoding-0.30.0/src/data.rs:453:9:\n",
      "attempt to divide by zero\n",
      "\n",
      "thread 'tokio-runtime-worker' panicked at /Users/runner/.cargo/registry/src/index.crates.io-1949cf8c6b5b557f/lance-encoding-0.30.0/src/decoder.rs:1508:65:\n",
      "called `Result::unwrap()` on an `Err` value: JoinError::Panic(Id(56065), \"attempt to divide by zero\", ...)\n",
      "\n",
      "thread 'tokio-runtime-worker' panicked at /Users/runner/.cargo/registry/src/index.crates.io-1949cf8c6b5b557f/lance-encoding-0.30.0/src/data.rs:453:9:\n",
      "attempt to divide by zero\n",
      "\n",
      "thread 'tokio-runtime-worker' panicked at /Users/runner/.cargo/registry/src/index.crates.io-1949cf8c6b5b557f/lance-encoding-0.30.0/src/data.rs:453:9:\n",
      "attempt to divide by zero\n",
      "\n",
      "thread 'tokio-runtime-worker' panicked at /Users/runner/.cargo/registry/src/index.crates.io-1949cf8c6b5b557f/lance-encoding-0.30.0/src/data.rs:453:9:\n",
      "attempt to divide by zero\n",
      "\n",
      "thread 'tokio-runtime-worker' panicked at /Users/runner/.cargo/registry/src/index.crates.io-1949cf8c6b5b557f/lance-encoding-0.30.0/src/data.rs:453:9:\n",
      "attempt to divide by zero\n",
      "\n",
      "thread 'tokio-runtime-worker' panicked at /Users/runner/.cargo/registry/src/index.crates.io-1949cf8c6b5b557f/lance-encoding-0.30.0/src/data.rs:453:9:\n",
      "attempt to divide by zero\n",
      "\n",
      "thread 'tokio-runtime-worker' panicked at /Users/runner/.cargo/registry/src/index.crates.io-1949cf8c6b5b557f/lance-encoding-0.30.0/src/decoder.rs:1508:65:\n",
      "called `Result::unwrap()` on an `Err` value: JoinError::Panic(Id(56202), \"attempt to divide by zero\", ...)\n",
      "\n",
      "thread 'tokio-runtime-worker' panicked at /Users/runner/.cargo/registry/src/index.crates.io-1949cf8c6b5b557f/lance-encoding-0.30.0/src/data.rs:453:9:\n",
      "attempt to divide by zero\n",
      "\n",
      "thread 'tokio-runtime-worker' panicked at /Users/runner/.cargo/registry/src/index.crates.io-1949cf8c6b5b557f/lance-encoding-0.30.0/src/data.rs:453:9:\n",
      "attempt to divide by zero\n",
      "\n",
      "thread 'tokio-runtime-worker' panicked at /Users/runner/.cargo/registry/src/index.crates.io-1949cf8c6b5b557f/lance-encoding-0.30.0/src/data.rs:453:9:\n",
      "attempt to divide by zero\n",
      "\n",
      "thread 'tokio-runtime-worker' panicked at /Users/runner/.cargo/registry/src/index.crates.io-1949cf8c6b5b557f/lance-encoding-0.30.0/src/data.rs:453:9:\n",
      "attempt to divide by zero\n",
      "\n",
      "thread 'tokio-runtime-worker' panicked at /Users/runner/.cargo/registry/src/index.crates.io-1949cf8c6b5b557f/lance-encoding-0.30.0/src/decoder.rs:1508:65:\n",
      "called `Result::unwrap()` on an `Err` value: JoinError::Panic(Id(56353), \"attempt to divide by zero\", ...)\n",
      "\n",
      "thread 'tokio-runtime-worker' panicked at /Users/runner/.cargo/registry/src/index.crates.io-1949cf8c6b5b557f/lance-encoding-0.30.0/src/data.rs:453:9:\n",
      "attempt to divide by zero\n",
      "\n",
      "thread 'tokio-runtime-worker' panicked at /Users/runner/.cargo/registry/src/index.crates.io-1949cf8c6b5b557f/lance-encoding-0.30.0/src/data.rs:453:9:\n",
      "attempt to divide by zero\n",
      "\n",
      "thread 'tokio-runtime-worker' panicked at /Users/runner/.cargo/registry/src/index.crates.io-1949cf8c6b5b557f/lance-encoding-0.30.0/src/decoder.rs:1508:65:\n",
      "called `Result::unwrap()` on an `Err` value: JoinError::Panic(Id(56497), \"attempt to divide by zero\", ...)\n",
      "\n",
      "thread 'tokio-runtime-worker' panicked at /Users/runner/.cargo/registry/src/index.crates.io-1949cf8c6b5b557f/lance-encoding-0.30.0/src/data.rs:453:9:\n",
      "attempt to divide by zero\n",
      "\n",
      "thread 'tokio-runtime-worker' panicked at /Users/runner/.cargo/registry/src/index.crates.io-1949cf8c6b5b557f/lance-encoding-0.30.0/src/data.rs:453:9:\n",
      "attempt to divide by zero\n",
      "\n",
      "thread 'tokio-runtime-worker' panicked at /Users/runner/.cargo/registry/src/index.crates.io-1949cf8c6b5b557f/lance-encoding-0.30.0/src/data.rs:453:9:\n",
      "attempt to divide by zero\n",
      "\n",
      "thread 'tokio-runtime-worker' panicked at /Users/runner/.cargo/registry/src/index.crates.io-1949cf8c6b5b557f/lance-encoding-0.30.0/src/data.rs:453:9:\n",
      "attempt to divide by zero\n",
      "\n",
      "thread 'tokio-runtime-worker' panicked at /Users/runner/.cargo/registry/src/index.crates.io-1949cf8c6b5b557f/lance-encoding-0.30.0/src/data.rs:453:9:\n",
      "attempt to divide by zero\n",
      "\n",
      "thread 'tokio-runtime-worker' panicked at /Users/runner/.cargo/registry/src/index.crates.io-1949cf8c6b5b557f/lance-encoding-0.30.0/src/decoder.rs:1508:65:\n",
      "called `Result::unwrap()` on an `Err` value: JoinError::Panic(Id(56658), \"attempt to divide by zero\", ...)\n",
      "\n",
      "thread 'tokio-runtime-worker' panicked at /Users/runner/.cargo/registry/src/index.crates.io-1949cf8c6b5b557f/lance-encoding-0.30.0/src/data.rs:453:9:\n",
      "attempt to divide by zero\n",
      "\n",
      "thread 'tokio-runtime-worker' panicked at /Users/runner/.cargo/registry/src/index.crates.io-1949cf8c6b5b557f/lance-encoding-0.30.0/src/data.rs:453:9:\n",
      "attempt to divide by zero\n",
      "\n",
      "thread 'tokio-runtime-worker' panicked at /Users/runner/.cargo/registry/src/index.crates.io-1949cf8c6b5b557f/lance-encoding-0.30.0/src/data.rs:453:9:\n",
      "attempt to divide by zero\n",
      "\n",
      "thread 'tokio-runtime-worker' panicked at /Users/runner/.cargo/registry/src/index.crates.io-1949cf8c6b5b557f/lance-encoding-0.30.0/src/data.rs:453:9:\n",
      "attempt to divide by zero\n",
      "\n",
      "thread 'tokio-runtime-worker' panicked at /Users/runner/.cargo/registry/src/index.crates.io-1949cf8c6b5b557f/lance-encoding-0.30.0/src/data.rs:453:9:\n",
      "attempt to divide by zero\n",
      "\n",
      "thread 'tokio-runtime-worker' panicked at /Users/runner/.cargo/registry/src/index.crates.io-1949cf8c6b5b557f/lance-encoding-0.30.0/src/data.rs:453:9:\n",
      "attempt to divide by zero\n",
      "\n",
      "thread 'tokio-runtime-worker' panicked at /Users/runner/.cargo/registry/src/index.crates.io-1949cf8c6b5b557f/lance-encoding-0.30.0/src/decoder.rs:1508:65:\n",
      "called `Result::unwrap()` on an `Err` value: JoinError::Panic(Id(56833), \"attempt to divide by zero\", ...)\n",
      "\n",
      "thread 'tokio-runtime-worker' panicked at /Users/runner/.cargo/registry/src/index.crates.io-1949cf8c6b5b557f/lance-encoding-0.30.0/src/data.rs:453:9:\n",
      "attempt to divide by zero\n",
      "\n",
      "thread 'tokio-runtime-worker' panicked at /Users/runner/.cargo/registry/src/index.crates.io-1949cf8c6b5b557f/lance-encoding-0.30.0/src/data.rs:453:9:\n",
      "attempt to divide by zero\n",
      "\n",
      "thread 'tokio-runtime-worker' panicked at /Users/runner/.cargo/registry/src/index.crates.io-1949cf8c6b5b557f/lance-encoding-0.30.0/src/data.rs:453:9:\n",
      "attempt to divide by zero\n",
      "\n",
      "thread 'tokio-runtime-worker' panicked at /Users/runner/.cargo/registry/src/index.crates.io-1949cf8c6b5b557f/lance-encoding-0.30.0/src/data.rs:453:9:\n",
      "attempt to divide by zero\n",
      "\n",
      "thread 'tokio-runtime-worker' panicked at /Users/runner/.cargo/registry/src/index.crates.io-1949cf8c6b5b557f/lance-encoding-0.30.0/src/data.rs:453:9:\n",
      "attempt to divide by zero\n",
      "\n",
      "thread 'tokio-runtime-worker' panicked at /Users/runner/.cargo/registry/src/index.crates.io-1949cf8c6b5b557f/lance-encoding-0.30.0/src/data.rs:453:9:\n",
      "attempt to divide by zero\n",
      "\n",
      "thread 'tokio-runtime-worker' panicked at /Users/runner/.cargo/registry/src/index.crates.io-1949cf8c6b5b557f/lance-encoding-0.30.0/src/data.rs:453:9:\n",
      "attempt to divide by zero\n",
      "\n",
      "thread 'tokio-runtime-worker' panicked at /Users/runner/.cargo/registry/src/index.crates.io-1949cf8c6b5b557f/lance-encoding-0.30.0/src/decoder.rs:1508:65:\n",
      "called `Result::unwrap()` on an `Err` value: JoinError::Panic(Id(57014), \"attempt to divide by zero\", ...)\n",
      "\n",
      "thread 'tokio-runtime-worker' panicked at /Users/runner/.cargo/registry/src/index.crates.io-1949cf8c6b5b557f/lance-encoding-0.30.0/src/data.rs:453:9:\n",
      "attempt to divide by zero\n",
      "\n",
      "thread 'tokio-runtime-worker' panicked at /Users/runner/.cargo/registry/src/index.crates.io-1949cf8c6b5b557f/lance-encoding-0.30.0/src/data.rs:453:9:\n",
      "attempt to divide by zero\n",
      "\n",
      "thread 'tokio-runtime-worker' panicked at /Users/runner/.cargo/registry/src/index.crates.io-1949cf8c6b5b557f/lance-encoding-0.30.0/src/decoder.rs:1508:65:\n",
      "called `Result::unwrap()` on an `Err` value: JoinError::Panic(Id(57161), \"attempt to divide by zero\", ...)\n",
      "\n",
      "thread 'tokio-runtime-worker' panicked at /Users/runner/.cargo/registry/src/index.crates.io-1949cf8c6b5b557f/lance-encoding-0.30.0/src/data.rs:453:9:\n",
      "attempt to divide by zero\n",
      "\n",
      "thread 'tokio-runtime-worker' panicked at /Users/runner/.cargo/registry/src/index.crates.io-1949cf8c6b5b557f/lance-encoding-0.30.0/src/data.rs:453:9:\n",
      "attempt to divide by zero\n",
      "\n",
      "thread 'tokio-runtime-worker' panicked at /Users/runner/.cargo/registry/src/index.crates.io-1949cf8c6b5b557f/lance-encoding-0.30.0/src/data.rs:453:9:\n",
      "attempt to divide by zero\n",
      "\n",
      "thread 'tokio-runtime-worker' panicked at /Users/runner/.cargo/registry/src/index.crates.io-1949cf8c6b5b557f/lance-encoding-0.30.0/src/data.rs:453:9:\n",
      "attempt to divide by zero\n",
      "\n",
      "thread 'tokio-runtime-worker' panicked at /Users/runner/.cargo/registry/src/index.crates.io-1949cf8c6b5b557f/lance-encoding-0.30.0/src/data.rs:453:9:\n",
      "attempt to divide by zero\n",
      "\n",
      "thread 'tokio-runtime-worker' panicked at /Users/runner/.cargo/registry/src/index.crates.io-1949cf8c6b5b557f/lance-encoding-0.30.0/src/data.rs:453:9:\n",
      "attempt to divide by zero\n",
      "\n",
      "thread 'tokio-runtime-worker' panicked at /Users/runner/.cargo/registry/src/index.crates.io-1949cf8c6b5b557f/lance-encoding-0.30.0/src/data.rs:453:9:\n",
      "attempt to divide by zero\n",
      "\n",
      "thread 'tokio-runtime-worker' panicked at /Users/runner/.cargo/registry/src/index.crates.io-1949cf8c6b5b557f/lance-encoding-0.30.0/src/data.rs:453:9:\n",
      "attempt to divide by zero\n",
      "\n",
      "thread 'tokio-runtime-worker' panicked at /Users/runner/.cargo/registry/src/index.crates.io-1949cf8c6b5b557f/lance-encoding-0.30.0/src/data.rs:453:9:\n",
      "attempt to divide by zero\n",
      "\n",
      "thread 'tokio-runtime-worker' panicked at /Users/runner/.cargo/registry/src/index.crates.io-1949cf8c6b5b557f/lance-encoding-0.30.0/src/decoder.rs:1508:65:\n",
      "called `Result::unwrap()` on an `Err` value: JoinError::Panic(Id(57336), \"attempt to divide by zero\", ...)\n",
      "\n",
      "thread 'tokio-runtime-worker' panicked at /Users/runner/.cargo/registry/src/index.crates.io-1949cf8c6b5b557f/lance-encoding-0.30.0/src/data.rs:453:9:\n",
      "attempt to divide by zero\n",
      "\n",
      "thread 'tokio-runtime-worker' panicked at /Users/runner/.cargo/registry/src/index.crates.io-1949cf8c6b5b557f/lance-encoding-0.30.0/src/data.rs:453:9:\n",
      "attempt to divide by zero\n",
      "\n",
      "thread 'tokio-runtime-worker' panicked at /Users/runner/.cargo/registry/src/index.crates.io-1949cf8c6b5b557f/lance-encoding-0.30.0/src/data.rs:453:9:\n",
      "attempt to divide by zero\n",
      "\n",
      "thread 'tokio-runtime-worker' panicked at /Users/runner/.cargo/registry/src/index.crates.io-1949cf8c6b5b557f/lance-encoding-0.30.0/src/data.rs:453:9:\n",
      "attempt to divide by zero\n",
      "\n",
      "thread 'tokio-runtime-worker' panicked at /Users/runner/.cargo/registry/src/index.crates.io-1949cf8c6b5b557f/lance-encoding-0.30.0/src/data.rs:453:9:\n",
      "attempt to divide by zero\n",
      "\n",
      "thread 'tokio-runtime-worker' panicked at /Users/runner/.cargo/registry/src/index.crates.io-1949cf8c6b5b557f/lance-encoding-0.30.0/src/decoder.rs:1508:65:\n",
      "called `Result::unwrap()` on an `Err` value: JoinError::Panic(Id(57485), \"attempt to divide by zero\", ...)\n",
      "\n",
      "thread 'tokio-runtime-worker' panicked at /Users/runner/.cargo/registry/src/index.crates.io-1949cf8c6b5b557f/lance-encoding-0.30.0/src/data.rs:453:9:\n",
      "attempt to divide by zero\n",
      "\n",
      "thread 'tokio-runtime-worker' panicked at /Users/runner/.cargo/registry/src/index.crates.io-1949cf8c6b5b557f/lance-encoding-0.30.0/src/data.rs:453:9:\n",
      "attempt to divide by zero\n",
      "\n",
      "thread 'tokio-runtime-worker' panicked at /Users/runner/.cargo/registry/src/index.crates.io-1949cf8c6b5b557f/lance-encoding-0.30.0/src/data.rs:453:9:\n",
      "attempt to divide by zero\n",
      "\n",
      "thread 'tokio-runtime-worker' panicked at /Users/runner/.cargo/registry/src/index.crates.io-1949cf8c6b5b557f/lance-encoding-0.30.0/src/decoder.rs:1508:65:\n",
      "called `Result::unwrap()` on an `Err` value: JoinError::Panic(Id(57638), \"attempt to divide by zero\", ...)\n",
      "\n",
      "thread 'tokio-runtime-worker' panicked at /Users/runner/.cargo/registry/src/index.crates.io-1949cf8c6b5b557f/lance-encoding-0.30.0/src/data.rs:453:9:\n",
      "attempt to divide by zero\n",
      "\n",
      "thread 'tokio-runtime-worker' panicked at /Users/runner/.cargo/registry/src/index.crates.io-1949cf8c6b5b557f/lance-encoding-0.30.0/src/data.rs:453:9:\n",
      "attempt to divide by zero\n",
      "\n",
      "thread 'tokio-runtime-worker' panicked at /Users/runner/.cargo/registry/src/index.crates.io-1949cf8c6b5b557f/lance-encoding-0.30.0/src/decoder.rs:1508:65:\n",
      "called `Result::unwrap()` on an `Err` value: JoinError::Panic(Id(57768), \"attempt to divide by zero\", ...)\n",
      "\n",
      "thread 'tokio-runtime-worker' panicked at /Users/runner/.cargo/registry/src/index.crates.io-1949cf8c6b5b557f/lance-encoding-0.30.0/src/data.rs:453:9:\n",
      "attempt to divide by zero\n",
      "\n",
      "thread 'tokio-runtime-worker' panicked at /Users/runner/.cargo/registry/src/index.crates.io-1949cf8c6b5b557f/lance-encoding-0.30.0/src/data.rs:453:9:\n",
      "attempt to divide by zero\n",
      "\n",
      "thread 'tokio-runtime-worker' panicked at /Users/runner/.cargo/registry/src/index.crates.io-1949cf8c6b5b557f/lance-encoding-0.30.0/src/data.rs:453:9:\n",
      "attempt to divide by zero\n",
      "\n",
      "thread 'tokio-runtime-worker' panicked at /Users/runner/.cargo/registry/src/index.crates.io-1949cf8c6b5b557f/lance-encoding-0.30.0/src/decoder.rs:1508:65:\n",
      "called `Result::unwrap()` on an `Err` value: JoinError::Panic(Id(57901), \"attempt to divide by zero\", ...)\n",
      "\n",
      "thread 'tokio-runtime-worker' panicked at /Users/runner/.cargo/registry/src/index.crates.io-1949cf8c6b5b557f/lance-encoding-0.30.0/src/data.rs:453:9:\n",
      "attempt to divide by zero\n",
      "\n",
      "thread 'tokio-runtime-worker' panicked at /Users/runner/.cargo/registry/src/index.crates.io-1949cf8c6b5b557f/lance-encoding-0.30.0/src/data.rs:453:9:\n",
      "attempt to divide by zero\n",
      "\n",
      "thread 'tokio-runtime-worker' panicked at /Users/runner/.cargo/registry/src/index.crates.io-1949cf8c6b5b557f/lance-encoding-0.30.0/src/data.rs:453:9:\n",
      "attempt to divide by zero\n",
      "\n",
      "thread 'tokio-runtime-worker' panicked at /Users/runner/.cargo/registry/src/index.crates.io-1949cf8c6b5b557f/lance-encoding-0.30.0/src/data.rs:453:9:\n",
      "attempt to divide by zero\n",
      "\n",
      "thread 'tokio-runtime-worker' panicked at /Users/runner/.cargo/registry/src/index.crates.io-1949cf8c6b5b557f/lance-encoding-0.30.0/src/data.rs:453:9:\n",
      "attempt to divide by zero\n",
      "\n",
      "thread 'tokio-runtime-worker' panicked at /Users/runner/.cargo/registry/src/index.crates.io-1949cf8c6b5b557f/lance-encoding-0.30.0/src/data.rs:453:9:\n",
      "attempt to divide by zero\n",
      "\n",
      "thread 'tokio-runtime-worker' panicked at /Users/runner/.cargo/registry/src/index.crates.io-1949cf8c6b5b557f/lance-encoding-0.30.0/src/decoder.rs:1508:65:\n",
      "called `Result::unwrap()` on an `Err` value: JoinError::Panic(Id(58065), \"attempt to divide by zero\", ...)\n",
      "\n",
      "thread 'tokio-runtime-worker' panicked at /Users/runner/.cargo/registry/src/index.crates.io-1949cf8c6b5b557f/lance-encoding-0.30.0/src/data.rs:453:9:\n",
      "attempt to divide by zero\n",
      "\n",
      "thread 'tokio-runtime-worker' panicked at /Users/runner/.cargo/registry/src/index.crates.io-1949cf8c6b5b557f/lance-encoding-0.30.0/src/data.rs:453:9:\n",
      "attempt to divide by zero\n",
      "\n",
      "thread 'tokio-runtime-worker' panicked at /Users/runner/.cargo/registry/src/index.crates.io-1949cf8c6b5b557f/lance-encoding-0.30.0/src/data.rs:453:9:\n",
      "attempt to divide by zero\n",
      "\n",
      "thread 'tokio-runtime-worker' panicked at /Users/runner/.cargo/registry/src/index.crates.io-1949cf8c6b5b557f/lance-encoding-0.30.0/src/data.rs:453:9:\n",
      "attempt to divide by zero\n",
      "\n",
      "thread 'tokio-runtime-worker' panicked at /Users/runner/.cargo/registry/src/index.crates.io-1949cf8c6b5b557f/lance-encoding-0.30.0/src/data.rs:453:9:\n",
      "attempt to divide by zero\n",
      "\n",
      "thread 'tokio-runtime-worker' panicked at /Users/runner/.cargo/registry/src/index.crates.io-1949cf8c6b5b557f/lance-encoding-0.30.0/src/data.rs:453:9:\n",
      "attempt to divide by zero\n",
      "\n",
      "thread 'tokio-runtime-worker' panicked at /Users/runner/.cargo/registry/src/index.crates.io-1949cf8c6b5b557f/lance-encoding-0.30.0/src/decoder.rs:1508:65:\n",
      "called `Result::unwrap()` on an `Err` value: JoinError::Panic(Id(58233), \"attempt to divide by zero\", ...)\n",
      "\n",
      "thread 'tokio-runtime-worker' panicked at /Users/runner/.cargo/registry/src/index.crates.io-1949cf8c6b5b557f/lance-encoding-0.30.0/src/data.rs:453:9:\n",
      "attempt to divide by zero\n",
      "\n",
      "thread 'tokio-runtime-worker' panicked at /Users/runner/.cargo/registry/src/index.crates.io-1949cf8c6b5b557f/lance-encoding-0.30.0/src/data.rs:453:9:\n",
      "attempt to divide by zero\n",
      "\n",
      "thread 'tokio-runtime-worker' panicked at /Users/runner/.cargo/registry/src/index.crates.io-1949cf8c6b5b557f/lance-encoding-0.30.0/src/decoder.rs:1508:65:\n",
      "called `Result::unwrap()` on an `Err` value: JoinError::Panic(Id(58380), \"attempt to divide by zero\", ...)\n",
      "\n",
      "thread 'tokio-runtime-worker' panicked at /Users/runner/.cargo/registry/src/index.crates.io-1949cf8c6b5b557f/lance-encoding-0.30.0/src/data.rs:453:9:\n",
      "attempt to divide by zero\n"
     ]
    },
    {
     "data": {
      "text/html": [
       "<pre style=\"white-space:pre;overflow-x:auto;line-height:normal;font-family:Menlo,'DejaVu Sans Mono',consolas,'Courier New',monospace\"><span style=\"color: #808000; text-decoration-color: #808000\">WARNING </span> Expected embedding dimension <span style=\"color: #008080; text-decoration-color: #008080; font-weight: bold\">4096</span>, but got <span style=\"color: #008080; text-decoration-color: #008080; font-weight: bold\">1024</span>                                                           \n",
       "</pre>\n"
      ],
      "text/plain": [
       "\u001b[33mWARNING \u001b[0m Expected embedding dimension \u001b[1;36m4096\u001b[0m, but got \u001b[1;36m1024\u001b[0m                                                           \n"
      ]
     },
     "metadata": {},
     "output_type": "display_data"
    },
    {
     "name": "stderr",
     "output_type": "stream",
     "text": [
      "\n",
      "thread 'tokio-runtime-worker' panicked at /Users/runner/.cargo/registry/src/index.crates.io-1949cf8c6b5b557f/lance-encoding-0.30.0/src/data.rs:453:9:\n",
      "attempt to divide by zero\n",
      "\n",
      "thread 'tokio-runtime-worker' panicked at /Users/runner/.cargo/registry/src/index.crates.io-1949cf8c6b5b557f/lance-encoding-0.30.0/src/data.rs:453:9:\n",
      "attempt to divide by zero\n",
      "\n",
      "thread 'tokio-runtime-worker' panicked at /Users/runner/.cargo/registry/src/index.crates.io-1949cf8c6b5b557f/lance-encoding-0.30.0/src/data.rs:453:9:\n",
      "attempt to divide by zero\n",
      "\n",
      "thread 'tokio-runtime-worker' panicked at /Users/runner/.cargo/registry/src/index.crates.io-1949cf8c6b5b557f/lance-encoding-0.30.0/src/decoder.rs:1508:65:\n",
      "called `Result::unwrap()` on an `Err` value: JoinError::Panic(Id(58553), \"attempt to divide by zero\", ...)\n"
     ]
    },
    {
     "data": {
      "text/html": [
       "<pre style=\"white-space:pre;overflow-x:auto;line-height:normal;font-family:Menlo,'DejaVu Sans Mono',consolas,'Courier New',monospace\"><span style=\"color: #808000; text-decoration-color: #808000\">WARNING </span> Expected embedding dimension <span style=\"color: #008080; text-decoration-color: #008080; font-weight: bold\">4096</span>, but got <span style=\"color: #008080; text-decoration-color: #008080; font-weight: bold\">1024</span>                                                           \n",
       "</pre>\n"
      ],
      "text/plain": [
       "\u001b[33mWARNING \u001b[0m Expected embedding dimension \u001b[1;36m4096\u001b[0m, but got \u001b[1;36m1024\u001b[0m                                                           \n"
      ]
     },
     "metadata": {},
     "output_type": "display_data"
    },
    {
     "name": "stderr",
     "output_type": "stream",
     "text": [
      "\n",
      "thread 'tokio-runtime-worker' panicked at /Users/runner/.cargo/registry/src/index.crates.io-1949cf8c6b5b557f/lance-encoding-0.30.0/src/data.rs:453:9:\n",
      "attempt to divide by zero\n",
      "\n",
      "thread 'tokio-runtime-worker' panicked at /Users/runner/.cargo/registry/src/index.crates.io-1949cf8c6b5b557f/lance-encoding-0.30.0/src/data.rs:453:9:\n",
      "attempt to divide by zero\n",
      "\n",
      "thread 'tokio-runtime-worker' panicked at /Users/runner/.cargo/registry/src/index.crates.io-1949cf8c6b5b557f/lance-encoding-0.30.0/src/decoder.rs:1508:65:\n",
      "called `Result::unwrap()` on an `Err` value: JoinError::Panic(Id(58680), \"attempt to divide by zero\", ...)\n"
     ]
    },
    {
     "data": {
      "text/html": [
       "<pre style=\"white-space:pre;overflow-x:auto;line-height:normal;font-family:Menlo,'DejaVu Sans Mono',consolas,'Courier New',monospace\"><span style=\"color: #808000; text-decoration-color: #808000\">WARNING </span> Expected embedding dimension <span style=\"color: #008080; text-decoration-color: #008080; font-weight: bold\">4096</span>, but got <span style=\"color: #008080; text-decoration-color: #008080; font-weight: bold\">1024</span>                                                           \n",
       "</pre>\n"
      ],
      "text/plain": [
       "\u001b[33mWARNING \u001b[0m Expected embedding dimension \u001b[1;36m4096\u001b[0m, but got \u001b[1;36m1024\u001b[0m                                                           \n"
      ]
     },
     "metadata": {},
     "output_type": "display_data"
    },
    {
     "name": "stderr",
     "output_type": "stream",
     "text": [
      "\n",
      "thread 'tokio-runtime-worker' panicked at /Users/runner/.cargo/registry/src/index.crates.io-1949cf8c6b5b557f/lance-encoding-0.30.0/src/data.rs:453:9:\n",
      "attempt to divide by zero\n",
      "\n",
      "thread 'tokio-runtime-worker' panicked at /Users/runner/.cargo/registry/src/index.crates.io-1949cf8c6b5b557f/lance-encoding-0.30.0/src/decoder.rs:1508:65:\n",
      "called `Result::unwrap()` on an `Err` value: JoinError::Panic(Id(58844), \"attempt to divide by zero\", ...)\n"
     ]
    },
    {
     "data": {
      "text/html": [
       "<pre style=\"white-space:pre;overflow-x:auto;line-height:normal;font-family:Menlo,'DejaVu Sans Mono',consolas,'Courier New',monospace\"><span style=\"color: #808000; text-decoration-color: #808000\">WARNING </span> Expected embedding dimension <span style=\"color: #008080; text-decoration-color: #008080; font-weight: bold\">4096</span>, but got <span style=\"color: #008080; text-decoration-color: #008080; font-weight: bold\">1024</span>                                                           \n",
       "</pre>\n"
      ],
      "text/plain": [
       "\u001b[33mWARNING \u001b[0m Expected embedding dimension \u001b[1;36m4096\u001b[0m, but got \u001b[1;36m1024\u001b[0m                                                           \n"
      ]
     },
     "metadata": {},
     "output_type": "display_data"
    },
    {
     "name": "stderr",
     "output_type": "stream",
     "text": [
      "\n",
      "thread 'tokio-runtime-worker' panicked at /Users/runner/.cargo/registry/src/index.crates.io-1949cf8c6b5b557f/lance-encoding-0.30.0/src/data.rs:453:9:\n",
      "attempt to divide by zero\n",
      "\n",
      "thread 'tokio-runtime-worker' panicked at /Users/runner/.cargo/registry/src/index.crates.io-1949cf8c6b5b557f/lance-encoding-0.30.0/src/decoder.rs:1508:65:\n",
      "called `Result::unwrap()` on an `Err` value: JoinError::Panic(Id(58982), \"attempt to divide by zero\", ...)\n"
     ]
    },
    {
     "data": {
      "text/html": [
       "<pre style=\"white-space:pre;overflow-x:auto;line-height:normal;font-family:Menlo,'DejaVu Sans Mono',consolas,'Courier New',monospace\"><span style=\"color: #808000; text-decoration-color: #808000\">WARNING </span> Expected embedding dimension <span style=\"color: #008080; text-decoration-color: #008080; font-weight: bold\">4096</span>, but got <span style=\"color: #008080; text-decoration-color: #008080; font-weight: bold\">1024</span>                                                           \n",
       "</pre>\n"
      ],
      "text/plain": [
       "\u001b[33mWARNING \u001b[0m Expected embedding dimension \u001b[1;36m4096\u001b[0m, but got \u001b[1;36m1024\u001b[0m                                                           \n"
      ]
     },
     "metadata": {},
     "output_type": "display_data"
    },
    {
     "name": "stderr",
     "output_type": "stream",
     "text": [
      "\n",
      "thread 'tokio-runtime-worker' panicked at /Users/runner/.cargo/registry/src/index.crates.io-1949cf8c6b5b557f/lance-encoding-0.30.0/src/data.rs:453:9:\n",
      "attempt to divide by zero\n",
      "\n",
      "thread 'tokio-runtime-worker' panicked at /Users/runner/.cargo/registry/src/index.crates.io-1949cf8c6b5b557f/lance-encoding-0.30.0/src/decoder.rs:1508:65:\n",
      "called `Result::unwrap()` on an `Err` value: JoinError::Panic(Id(59138), \"attempt to divide by zero\", ...)\n",
      "\n",
      "thread 'tokio-runtime-worker' panicked at /Users/runner/.cargo/registry/src/index.crates.io-1949cf8c6b5b557f/lance-encoding-0.30.0/src/data.rs:453:9:\n",
      "attempt to divide by zero\n"
     ]
    },
    {
     "data": {
      "text/html": [
       "<pre style=\"white-space:pre;overflow-x:auto;line-height:normal;font-family:Menlo,'DejaVu Sans Mono',consolas,'Courier New',monospace\"><span style=\"color: #808000; text-decoration-color: #808000\">WARNING </span> Expected embedding dimension <span style=\"color: #008080; text-decoration-color: #008080; font-weight: bold\">4096</span>, but got <span style=\"color: #008080; text-decoration-color: #008080; font-weight: bold\">1024</span>                                                           \n",
       "</pre>\n"
      ],
      "text/plain": [
       "\u001b[33mWARNING \u001b[0m Expected embedding dimension \u001b[1;36m4096\u001b[0m, but got \u001b[1;36m1024\u001b[0m                                                           \n"
      ]
     },
     "metadata": {},
     "output_type": "display_data"
    },
    {
     "name": "stderr",
     "output_type": "stream",
     "text": [
      "\n",
      "thread 'tokio-runtime-worker' panicked at /Users/runner/.cargo/registry/src/index.crates.io-1949cf8c6b5b557f/lance-encoding-0.30.0/src/data.rs:453:9:\n",
      "attempt to divide by zero\n",
      "\n",
      "thread 'tokio-runtime-worker' panicked at /Users/runner/.cargo/registry/src/index.crates.io-1949cf8c6b5b557f/lance-encoding-0.30.0/src/data.rs:453:9:\n",
      "attempt to divide by zero\n",
      "\n",
      "thread 'tokio-runtime-worker' panicked at /Users/runner/.cargo/registry/src/index.crates.io-1949cf8c6b5b557f/lance-encoding-0.30.0/src/data.rs:453:9:\n",
      "attempt to divide by zero\n",
      "\n",
      "thread 'tokio-runtime-worker' panicked at /Users/runner/.cargo/registry/src/index.crates.io-1949cf8c6b5b557f/lance-encoding-0.30.0/src/data.rs:453:9:\n",
      "attempt to divide by zero\n",
      "\n",
      "thread 'tokio-runtime-worker' panicked at /Users/runner/.cargo/registry/src/index.crates.io-1949cf8c6b5b557f/lance-encoding-0.30.0/src/data.rs:453:9:\n",
      "attempt to divide by zero\n",
      "\n",
      "thread 'tokio-runtime-worker' panicked at /Users/runner/.cargo/registry/src/index.crates.io-1949cf8c6b5b557f/lance-encoding-0.30.0/src/decoder.rs:1508:65:\n",
      "called `Result::unwrap()` on an `Err` value: JoinError::Panic(Id(59325), \"attempt to divide by zero\", ...)\n",
      "\n",
      "thread 'tokio-runtime-worker' panicked at /Users/runner/.cargo/registry/src/index.crates.io-1949cf8c6b5b557f/lance-encoding-0.30.0/src/data.rs:453:9:\n",
      "attempt to divide by zero\n"
     ]
    },
    {
     "data": {
      "text/html": [
       "<pre style=\"white-space:pre;overflow-x:auto;line-height:normal;font-family:Menlo,'DejaVu Sans Mono',consolas,'Courier New',monospace\"><span style=\"color: #808000; text-decoration-color: #808000\">WARNING </span> Expected embedding dimension <span style=\"color: #008080; text-decoration-color: #008080; font-weight: bold\">4096</span>, but got <span style=\"color: #008080; text-decoration-color: #008080; font-weight: bold\">1024</span>                                                           \n",
       "</pre>\n"
      ],
      "text/plain": [
       "\u001b[33mWARNING \u001b[0m Expected embedding dimension \u001b[1;36m4096\u001b[0m, but got \u001b[1;36m1024\u001b[0m                                                           \n"
      ]
     },
     "metadata": {},
     "output_type": "display_data"
    },
    {
     "name": "stderr",
     "output_type": "stream",
     "text": [
      "\n",
      "thread 'tokio-runtime-worker' panicked at /Users/runner/.cargo/registry/src/index.crates.io-1949cf8c6b5b557f/lance-encoding-0.30.0/src/data.rs:453:9:\n",
      "attempt to divide by zero\n",
      "\n",
      "thread 'tokio-runtime-worker' panicked at /Users/runner/.cargo/registry/src/index.crates.io-1949cf8c6b5b557f/lance-encoding-0.30.0/src/data.rs:453:9:\n",
      "attempt to divide by zero\n",
      "\n",
      "thread 'tokio-runtime-worker' panicked at /Users/runner/.cargo/registry/src/index.crates.io-1949cf8c6b5b557f/lance-encoding-0.30.0/src/data.rs:453:9:\n",
      "attempt to divide by zero\n",
      "\n",
      "thread 'tokio-runtime-worker' panicked at /Users/runner/.cargo/registry/src/index.crates.io-1949cf8c6b5b557f/lance-encoding-0.30.0/src/decoder.rs:1508:65:\n",
      "called `Result::unwrap()` on an `Err` value: JoinError::Panic(Id(59478), \"attempt to divide by zero\", ...)\n"
     ]
    },
    {
     "data": {
      "text/html": [
       "<pre style=\"white-space:pre;overflow-x:auto;line-height:normal;font-family:Menlo,'DejaVu Sans Mono',consolas,'Courier New',monospace\"><span style=\"color: #808000; text-decoration-color: #808000\">WARNING </span> Expected embedding dimension <span style=\"color: #008080; text-decoration-color: #008080; font-weight: bold\">4096</span>, but got <span style=\"color: #008080; text-decoration-color: #008080; font-weight: bold\">1024</span>                                                           \n",
       "</pre>\n"
      ],
      "text/plain": [
       "\u001b[33mWARNING \u001b[0m Expected embedding dimension \u001b[1;36m4096\u001b[0m, but got \u001b[1;36m1024\u001b[0m                                                           \n"
      ]
     },
     "metadata": {},
     "output_type": "display_data"
    },
    {
     "name": "stderr",
     "output_type": "stream",
     "text": [
      "\n",
      "thread 'tokio-runtime-worker' panicked at /Users/runner/.cargo/registry/src/index.crates.io-1949cf8c6b5b557f/lance-encoding-0.30.0/src/data.rs:453:9:\n",
      "attempt to divide by zero\n",
      "\n",
      "thread 'tokio-runtime-worker' panicked at /Users/runner/.cargo/registry/src/index.crates.io-1949cf8c6b5b557f/lance-encoding-0.30.0/src/data.rs:453:9:\n",
      "attempt to divide by zero\n",
      "\n",
      "thread 'tokio-runtime-worker' panicked at /Users/runner/.cargo/registry/src/index.crates.io-1949cf8c6b5b557f/lance-encoding-0.30.0/src/data.rs:453:9:\n",
      "attempt to divide by zero\n",
      "\n",
      "thread 'tokio-runtime-worker' panicked at /Users/runner/.cargo/registry/src/index.crates.io-1949cf8c6b5b557f/lance-encoding-0.30.0/src/decoder.rs:1508:65:\n",
      "called `Result::unwrap()` on an `Err` value: JoinError::Panic(Id(59635), \"attempt to divide by zero\", ...)\n",
      "\n",
      "thread 'tokio-runtime-worker' panicked at /Users/runner/.cargo/registry/src/index.crates.io-1949cf8c6b5b557f/lance-encoding-0.30.0/src/data.rs:453:9:\n",
      "attempt to divide by zero\n",
      "\n",
      "thread 'tokio-runtime-worker' panicked at /Users/runner/.cargo/registry/src/index.crates.io-1949cf8c6b5b557f/lance-encoding-0.30.0/src/data.rs:453:9:\n",
      "attempt to divide by zero\n",
      "\n",
      "thread 'tokio-runtime-worker' panicked at /Users/runner/.cargo/registry/src/index.crates.io-1949cf8c6b5b557f/lance-encoding-0.30.0/src/data.rs:453:9:\n",
      "attempt to divide by zero\n"
     ]
    },
    {
     "data": {
      "text/html": [
       "<pre style=\"white-space:pre;overflow-x:auto;line-height:normal;font-family:Menlo,'DejaVu Sans Mono',consolas,'Courier New',monospace\"><span style=\"color: #808000; text-decoration-color: #808000\">WARNING </span> Expected embedding dimension <span style=\"color: #008080; text-decoration-color: #008080; font-weight: bold\">4096</span>, but got <span style=\"color: #008080; text-decoration-color: #008080; font-weight: bold\">1024</span>                                                           \n",
       "</pre>\n"
      ],
      "text/plain": [
       "\u001b[33mWARNING \u001b[0m Expected embedding dimension \u001b[1;36m4096\u001b[0m, but got \u001b[1;36m1024\u001b[0m                                                           \n"
      ]
     },
     "metadata": {},
     "output_type": "display_data"
    },
    {
     "name": "stderr",
     "output_type": "stream",
     "text": [
      "\n",
      "thread 'tokio-runtime-worker' panicked at /Users/runner/.cargo/registry/src/index.crates.io-1949cf8c6b5b557f/lance-encoding-0.30.0/src/data.rs:453:9:\n",
      "attempt to divide by zero\n",
      "\n",
      "thread 'tokio-runtime-worker' panicked at /Users/runner/.cargo/registry/src/index.crates.io-1949cf8c6b5b557f/lance-encoding-0.30.0/src/data.rs:453:9:\n",
      "attempt to divide by zero\n",
      "\n",
      "thread 'tokio-runtime-worker' panicked at /Users/runner/.cargo/registry/src/index.crates.io-1949cf8c6b5b557f/lance-encoding-0.30.0/src/decoder.rs:1508:65:\n",
      "called `Result::unwrap()` on an `Err` value: JoinError::Panic(Id(59832), \"attempt to divide by zero\", ...)\n",
      "\n",
      "thread 'tokio-runtime-worker' panicked at /Users/runner/.cargo/registry/src/index.crates.io-1949cf8c6b5b557f/lance-encoding-0.30.0/src/data.rs:453:9:\n",
      "attempt to divide by zero\n",
      "\n",
      "thread 'tokio-runtime-worker' panicked at /Users/runner/.cargo/registry/src/index.crates.io-1949cf8c6b5b557f/lance-encoding-0.30.0/src/data.rs:453:9:\n",
      "attempt to divide by zero\n",
      "\n",
      "thread 'tokio-runtime-worker' panicked at /Users/runner/.cargo/registry/src/index.crates.io-1949cf8c6b5b557f/lance-encoding-0.30.0/src/data.rs:453:9:\n",
      "attempt to divide by zero\n",
      "\n",
      "thread 'tokio-runtime-worker' panicked at /Users/runner/.cargo/registry/src/index.crates.io-1949cf8c6b5b557f/lance-encoding-0.30.0/src/data.rs:453:9:\n",
      "attempt to divide by zero\n"
     ]
    },
    {
     "data": {
      "text/html": [
       "<pre style=\"white-space:pre;overflow-x:auto;line-height:normal;font-family:Menlo,'DejaVu Sans Mono',consolas,'Courier New',monospace\"><span style=\"color: #808000; text-decoration-color: #808000\">WARNING </span> Expected embedding dimension <span style=\"color: #008080; text-decoration-color: #008080; font-weight: bold\">4096</span>, but got <span style=\"color: #008080; text-decoration-color: #008080; font-weight: bold\">1024</span>                                                           \n",
       "</pre>\n"
      ],
      "text/plain": [
       "\u001b[33mWARNING \u001b[0m Expected embedding dimension \u001b[1;36m4096\u001b[0m, but got \u001b[1;36m1024\u001b[0m                                                           \n"
      ]
     },
     "metadata": {},
     "output_type": "display_data"
    },
    {
     "name": "stderr",
     "output_type": "stream",
     "text": [
      "\n",
      "thread 'tokio-runtime-worker' panicked at /Users/runner/.cargo/registry/src/index.crates.io-1949cf8c6b5b557f/lance-encoding-0.30.0/src/data.rs:453:9:\n",
      "attempt to divide by zero\n",
      "\n",
      "thread 'tokio-runtime-worker' panicked at /Users/runner/.cargo/registry/src/index.crates.io-1949cf8c6b5b557f/lance-encoding-0.30.0/src/data.rs:453:9:\n",
      "attempt to divide by zero\n",
      "\n",
      "thread 'tokio-runtime-worker' panicked at /Users/runner/.cargo/registry/src/index.crates.io-1949cf8c6b5b557f/lance-encoding-0.30.0/src/data.rs:453:9:\n",
      "attempt to divide by zero\n",
      "\n",
      "thread 'tokio-runtime-worker' panicked at /Users/runner/.cargo/registry/src/index.crates.io-1949cf8c6b5b557f/lance-encoding-0.30.0/src/data.rs:453:9:\n",
      "attempt to divide by zero\n",
      "\n",
      "thread 'tokio-runtime-worker' panicked at /Users/runner/.cargo/registry/src/index.crates.io-1949cf8c6b5b557f/lance-encoding-0.30.0/src/data.rs:453:9:\n",
      "attempt to divide by zero\n",
      "\n",
      "thread 'tokio-runtime-worker' panicked at /Users/runner/.cargo/registry/src/index.crates.io-1949cf8c6b5b557f/lance-encoding-0.30.0/src/decoder.rs:1508:65:\n",
      "called `Result::unwrap()` on an `Err` value: JoinError::Panic(Id(60014), \"attempt to divide by zero\", ...)\n",
      "\n",
      "thread 'tokio-runtime-worker' panicked at /Users/runner/.cargo/registry/src/index.crates.io-1949cf8c6b5b557f/lance-encoding-0.30.0/src/data.rs:453:9:\n",
      "attempt to divide by zero\n"
     ]
    },
    {
     "data": {
      "text/html": [
       "<pre style=\"white-space:pre;overflow-x:auto;line-height:normal;font-family:Menlo,'DejaVu Sans Mono',consolas,'Courier New',monospace\"><span style=\"color: #808000; text-decoration-color: #808000\">WARNING </span> Expected embedding dimension <span style=\"color: #008080; text-decoration-color: #008080; font-weight: bold\">4096</span>, but got <span style=\"color: #008080; text-decoration-color: #008080; font-weight: bold\">1024</span>                                                           \n",
       "</pre>\n"
      ],
      "text/plain": [
       "\u001b[33mWARNING \u001b[0m Expected embedding dimension \u001b[1;36m4096\u001b[0m, but got \u001b[1;36m1024\u001b[0m                                                           \n"
      ]
     },
     "metadata": {},
     "output_type": "display_data"
    },
    {
     "name": "stderr",
     "output_type": "stream",
     "text": [
      "\n",
      "thread 'tokio-runtime-worker' panicked at /Users/runner/.cargo/registry/src/index.crates.io-1949cf8c6b5b557f/lance-encoding-0.30.0/src/data.rs:453:9:\n",
      "attempt to divide by zero\n",
      "\n",
      "thread 'tokio-runtime-worker' panicked at /Users/runner/.cargo/registry/src/index.crates.io-1949cf8c6b5b557f/lance-encoding-0.30.0/src/data.rs:453:9:\n",
      "attempt to divide by zero\n",
      "\n",
      "thread 'tokio-runtime-worker' panicked at /Users/runner/.cargo/registry/src/index.crates.io-1949cf8c6b5b557f/lance-encoding-0.30.0/src/decoder.rs:1508:65:\n",
      "called `Result::unwrap()` on an `Err` value: JoinError::Panic(Id(60173), \"attempt to divide by zero\", ...)\n"
     ]
    },
    {
     "data": {
      "text/html": [
       "<pre style=\"white-space:pre;overflow-x:auto;line-height:normal;font-family:Menlo,'DejaVu Sans Mono',consolas,'Courier New',monospace\"><span style=\"color: #808000; text-decoration-color: #808000\">WARNING </span> Expected embedding dimension <span style=\"color: #008080; text-decoration-color: #008080; font-weight: bold\">4096</span>, but got <span style=\"color: #008080; text-decoration-color: #008080; font-weight: bold\">1024</span>                                                           \n",
       "</pre>\n"
      ],
      "text/plain": [
       "\u001b[33mWARNING \u001b[0m Expected embedding dimension \u001b[1;36m4096\u001b[0m, but got \u001b[1;36m1024\u001b[0m                                                           \n"
      ]
     },
     "metadata": {},
     "output_type": "display_data"
    },
    {
     "name": "stderr",
     "output_type": "stream",
     "text": [
      "\n",
      "thread 'tokio-runtime-worker' panicked at /Users/runner/.cargo/registry/src/index.crates.io-1949cf8c6b5b557f/lance-encoding-0.30.0/src/data.rs:453:9:\n",
      "attempt to divide by zero\n",
      "\n",
      "thread 'tokio-runtime-worker' panicked at /Users/runner/.cargo/registry/src/index.crates.io-1949cf8c6b5b557f/lance-encoding-0.30.0/src/decoder.rs:1508:65:\n",
      "called `Result::unwrap()` on an `Err` value: JoinError::Panic(Id(60306), \"attempt to divide by zero\", ...)\n",
      "\n",
      "thread 'tokio-runtime-worker' panicked at /Users/runner/.cargo/registry/src/index.crates.io-1949cf8c6b5b557f/lance-encoding-0.30.0/src/data.rs:453:9:\n",
      "attempt to divide by zero\n",
      "\n",
      "thread 'tokio-runtime-worker' panicked at /Users/runner/.cargo/registry/src/index.crates.io-1949cf8c6b5b557f/lance-encoding-0.30.0/src/data.rs:453:9:\n",
      "attempt to divide by zero\n",
      "\n",
      "thread 'tokio-runtime-worker' panicked at /Users/runner/.cargo/registry/src/index.crates.io-1949cf8c6b5b557f/lance-encoding-0.30.0/src/data.rs:453:9:\n",
      "attempt to divide by zero\n",
      "\n",
      "thread 'tokio-runtime-worker' panicked at /Users/runner/.cargo/registry/src/index.crates.io-1949cf8c6b5b557f/lance-encoding-0.30.0/src/data.rs:453:9:\n",
      "attempt to divide by zero\n",
      "\n",
      "thread 'tokio-runtime-worker' panicked at /Users/runner/.cargo/registry/src/index.crates.io-1949cf8c6b5b557f/lance-encoding-0.30.0/src/data.rs:453:9:\n",
      "attempt to divide by zero\n"
     ]
    },
    {
     "data": {
      "text/html": [
       "<pre style=\"white-space:pre;overflow-x:auto;line-height:normal;font-family:Menlo,'DejaVu Sans Mono',consolas,'Courier New',monospace\"><span style=\"color: #808000; text-decoration-color: #808000\">WARNING </span> Expected embedding dimension <span style=\"color: #008080; text-decoration-color: #008080; font-weight: bold\">4096</span>, but got <span style=\"color: #008080; text-decoration-color: #008080; font-weight: bold\">1024</span>                                                           \n",
       "</pre>\n"
      ],
      "text/plain": [
       "\u001b[33mWARNING \u001b[0m Expected embedding dimension \u001b[1;36m4096\u001b[0m, but got \u001b[1;36m1024\u001b[0m                                                           \n"
      ]
     },
     "metadata": {},
     "output_type": "display_data"
    },
    {
     "name": "stderr",
     "output_type": "stream",
     "text": [
      "\n",
      "thread 'tokio-runtime-worker' panicked at /Users/runner/.cargo/registry/src/index.crates.io-1949cf8c6b5b557f/lance-encoding-0.30.0/src/data.rs:453:9:\n",
      "attempt to divide by zero\n",
      "\n",
      "thread 'tokio-runtime-worker' panicked at /Users/runner/.cargo/registry/src/index.crates.io-1949cf8c6b5b557f/lance-encoding-0.30.0/src/data.rs:453:9:\n",
      "attempt to divide by zero\n",
      "\n",
      "thread 'tokio-runtime-worker' panicked at /Users/runner/.cargo/registry/src/index.crates.io-1949cf8c6b5b557f/lance-encoding-0.30.0/src/decoder.rs:1508:65:\n",
      "called `Result::unwrap()` on an `Err` value: JoinError::Panic(Id(60489), \"attempt to divide by zero\", ...)\n",
      "\n",
      "thread 'tokio-runtime-worker' panicked at /Users/runner/.cargo/registry/src/index.crates.io-1949cf8c6b5b557f/lance-encoding-0.30.0/src/data.rs:453:9:\n",
      "attempt to divide by zero\n"
     ]
    },
    {
     "data": {
      "text/html": [
       "<pre style=\"white-space:pre;overflow-x:auto;line-height:normal;font-family:Menlo,'DejaVu Sans Mono',consolas,'Courier New',monospace\"><span style=\"color: #808000; text-decoration-color: #808000\">WARNING </span> Expected embedding dimension <span style=\"color: #008080; text-decoration-color: #008080; font-weight: bold\">4096</span>, but got <span style=\"color: #008080; text-decoration-color: #008080; font-weight: bold\">1024</span>                                                           \n",
       "</pre>\n"
      ],
      "text/plain": [
       "\u001b[33mWARNING \u001b[0m Expected embedding dimension \u001b[1;36m4096\u001b[0m, but got \u001b[1;36m1024\u001b[0m                                                           \n"
      ]
     },
     "metadata": {},
     "output_type": "display_data"
    },
    {
     "name": "stderr",
     "output_type": "stream",
     "text": [
      "\n",
      "thread 'tokio-runtime-worker' panicked at /Users/runner/.cargo/registry/src/index.crates.io-1949cf8c6b5b557f/lance-encoding-0.30.0/src/data.rs:453:9:\n",
      "attempt to divide by zero\n",
      "\n",
      "thread 'tokio-runtime-worker' panicked at /Users/runner/.cargo/registry/src/index.crates.io-1949cf8c6b5b557f/lance-encoding-0.30.0/src/decoder.rs:1508:65:\n",
      "called `Result::unwrap()` on an `Err` value: JoinError::Panic(Id(60641), \"attempt to divide by zero\", ...)\n"
     ]
    },
    {
     "data": {
      "text/html": [
       "<pre style=\"white-space:pre;overflow-x:auto;line-height:normal;font-family:Menlo,'DejaVu Sans Mono',consolas,'Courier New',monospace\"><span style=\"color: #808000; text-decoration-color: #808000\">WARNING </span> Expected embedding dimension <span style=\"color: #008080; text-decoration-color: #008080; font-weight: bold\">4096</span>, but got <span style=\"color: #008080; text-decoration-color: #008080; font-weight: bold\">1024</span>                                                           \n",
       "</pre>\n"
      ],
      "text/plain": [
       "\u001b[33mWARNING \u001b[0m Expected embedding dimension \u001b[1;36m4096\u001b[0m, but got \u001b[1;36m1024\u001b[0m                                                           \n"
      ]
     },
     "metadata": {},
     "output_type": "display_data"
    },
    {
     "name": "stderr",
     "output_type": "stream",
     "text": [
      "\n",
      "thread 'tokio-runtime-worker' panicked at /Users/runner/.cargo/registry/src/index.crates.io-1949cf8c6b5b557f/lance-encoding-0.30.0/src/data.rs:453:9:\n",
      "attempt to divide by zero\n",
      "\n",
      "thread 'tokio-runtime-worker' panicked at /Users/runner/.cargo/registry/src/index.crates.io-1949cf8c6b5b557f/lance-encoding-0.30.0/src/decoder.rs:1508:65:\n",
      "called `Result::unwrap()` on an `Err` value: JoinError::Panic(Id(61003), \"attempt to divide by zero\", ...)\n"
     ]
    },
    {
     "data": {
      "text/html": [
       "<pre style=\"white-space:pre;overflow-x:auto;line-height:normal;font-family:Menlo,'DejaVu Sans Mono',consolas,'Courier New',monospace\"><span style=\"color: #808000; text-decoration-color: #808000\">WARNING </span> Expected embedding dimension <span style=\"color: #008080; text-decoration-color: #008080; font-weight: bold\">4096</span>, but got <span style=\"color: #008080; text-decoration-color: #008080; font-weight: bold\">1024</span>                                                           \n",
       "</pre>\n"
      ],
      "text/plain": [
       "\u001b[33mWARNING \u001b[0m Expected embedding dimension \u001b[1;36m4096\u001b[0m, but got \u001b[1;36m1024\u001b[0m                                                           \n"
      ]
     },
     "metadata": {},
     "output_type": "display_data"
    },
    {
     "name": "stderr",
     "output_type": "stream",
     "text": [
      "\n",
      "thread 'tokio-runtime-worker' panicked at /Users/runner/.cargo/registry/src/index.crates.io-1949cf8c6b5b557f/lance-encoding-0.30.0/src/data.rs:453:9:\n",
      "attempt to divide by zero\n",
      "\n",
      "thread 'tokio-runtime-worker' panicked at /Users/runner/.cargo/registry/src/index.crates.io-1949cf8c6b5b557f/lance-encoding-0.30.0/src/data.rs:453:9:\n",
      "attempt to divide by zero\n",
      "\n",
      "thread 'tokio-runtime-worker' panicked at /Users/runner/.cargo/registry/src/index.crates.io-1949cf8c6b5b557f/lance-encoding-0.30.0/src/data.rs:453:9:\n",
      "attempt to divide by zero\n",
      "\n",
      "thread 'tokio-runtime-worker' panicked at /Users/runner/.cargo/registry/src/index.crates.io-1949cf8c6b5b557f/lance-encoding-0.30.0/src/decoder.rs:1508:65:\n",
      "called `Result::unwrap()` on an `Err` value: JoinError::Panic(Id(61146), \"attempt to divide by zero\", ...)\n"
     ]
    },
    {
     "data": {
      "text/html": [
       "<pre style=\"white-space:pre;overflow-x:auto;line-height:normal;font-family:Menlo,'DejaVu Sans Mono',consolas,'Courier New',monospace\"><span style=\"color: #808000; text-decoration-color: #808000\">WARNING </span> Expected embedding dimension <span style=\"color: #008080; text-decoration-color: #008080; font-weight: bold\">4096</span>, but got <span style=\"color: #008080; text-decoration-color: #008080; font-weight: bold\">1024</span>                                                           \n",
       "</pre>\n"
      ],
      "text/plain": [
       "\u001b[33mWARNING \u001b[0m Expected embedding dimension \u001b[1;36m4096\u001b[0m, but got \u001b[1;36m1024\u001b[0m                                                           \n"
      ]
     },
     "metadata": {},
     "output_type": "display_data"
    },
    {
     "name": "stderr",
     "output_type": "stream",
     "text": [
      "\n",
      "thread 'tokio-runtime-worker' panicked at /Users/runner/.cargo/registry/src/index.crates.io-1949cf8c6b5b557f/lance-encoding-0.30.0/src/data.rs:453:9:\n",
      "attempt to divide by zero\n",
      "\n",
      "thread 'tokio-runtime-worker' panicked at /Users/runner/.cargo/registry/src/index.crates.io-1949cf8c6b5b557f/lance-encoding-0.30.0/src/decoder.rs:1508:65:\n",
      "called `Result::unwrap()` on an `Err` value: JoinError::Panic(Id(61307), \"attempt to divide by zero\", ...)\n"
     ]
    },
    {
     "data": {
      "text/html": [
       "<pre style=\"white-space:pre;overflow-x:auto;line-height:normal;font-family:Menlo,'DejaVu Sans Mono',consolas,'Courier New',monospace\"><span style=\"color: #808000; text-decoration-color: #808000\">WARNING </span> Expected embedding dimension <span style=\"color: #008080; text-decoration-color: #008080; font-weight: bold\">4096</span>, but got <span style=\"color: #008080; text-decoration-color: #008080; font-weight: bold\">1024</span>                                                           \n",
       "</pre>\n"
      ],
      "text/plain": [
       "\u001b[33mWARNING \u001b[0m Expected embedding dimension \u001b[1;36m4096\u001b[0m, but got \u001b[1;36m1024\u001b[0m                                                           \n"
      ]
     },
     "metadata": {},
     "output_type": "display_data"
    },
    {
     "name": "stderr",
     "output_type": "stream",
     "text": [
      "\n",
      "thread 'tokio-runtime-worker' panicked at /Users/runner/.cargo/registry/src/index.crates.io-1949cf8c6b5b557f/lance-encoding-0.30.0/src/data.rs:453:9:\n",
      "attempt to divide by zero\n",
      "\n",
      "thread 'tokio-runtime-worker' panicked at /Users/runner/.cargo/registry/src/index.crates.io-1949cf8c6b5b557f/lance-encoding-0.30.0/src/data.rs:453:9:\n",
      "attempt to divide by zero\n",
      "\n",
      "thread 'tokio-runtime-worker' panicked at /Users/runner/.cargo/registry/src/index.crates.io-1949cf8c6b5b557f/lance-encoding-0.30.0/src/data.rs:453:9:\n",
      "attempt to divide by zero\n",
      "\n",
      "thread 'tokio-runtime-worker' panicked at /Users/runner/.cargo/registry/src/index.crates.io-1949cf8c6b5b557f/lance-encoding-0.30.0/src/decoder.rs:1508:65:\n",
      "called `Result::unwrap()` on an `Err` value: JoinError::Panic(Id(61477), \"attempt to divide by zero\", ...)\n",
      "\n",
      "thread 'tokio-runtime-worker' panicked at /Users/runner/.cargo/registry/src/index.crates.io-1949cf8c6b5b557f/lance-encoding-0.30.0/src/data.rs:453:9:\n",
      "attempt to divide by zero\n",
      "\n",
      "thread 'tokio-runtime-worker' panicked at /Users/runner/.cargo/registry/src/index.crates.io-1949cf8c6b5b557f/lance-encoding-0.30.0/src/data.rs:453:9:\n",
      "attempt to divide by zero\n",
      "\n",
      "thread 'tokio-runtime-worker' panicked at /Users/runner/.cargo/registry/src/index.crates.io-1949cf8c6b5b557f/lance-encoding-0.30.0/src/data.rs:453:9:\n",
      "attempt to divide by zero\n"
     ]
    },
    {
     "data": {
      "text/html": [
       "<pre style=\"white-space:pre;overflow-x:auto;line-height:normal;font-family:Menlo,'DejaVu Sans Mono',consolas,'Courier New',monospace\"><span style=\"color: #808000; text-decoration-color: #808000\">WARNING </span> Expected embedding dimension <span style=\"color: #008080; text-decoration-color: #008080; font-weight: bold\">4096</span>, but got <span style=\"color: #008080; text-decoration-color: #008080; font-weight: bold\">1024</span>                                                           \n",
       "</pre>\n"
      ],
      "text/plain": [
       "\u001b[33mWARNING \u001b[0m Expected embedding dimension \u001b[1;36m4096\u001b[0m, but got \u001b[1;36m1024\u001b[0m                                                           \n"
      ]
     },
     "metadata": {},
     "output_type": "display_data"
    },
    {
     "name": "stderr",
     "output_type": "stream",
     "text": [
      "\n",
      "thread 'tokio-runtime-worker' panicked at /Users/runner/.cargo/registry/src/index.crates.io-1949cf8c6b5b557f/lance-encoding-0.30.0/src/data.rs:453:9:\n",
      "attempt to divide by zero\n",
      "\n",
      "thread 'tokio-runtime-worker' panicked at /Users/runner/.cargo/registry/src/index.crates.io-1949cf8c6b5b557f/lance-encoding-0.30.0/src/data.rs:453:9:\n",
      "attempt to divide by zero\n",
      "\n",
      "thread 'tokio-runtime-worker' panicked at /Users/runner/.cargo/registry/src/index.crates.io-1949cf8c6b5b557f/lance-encoding-0.30.0/src/data.rs:453:9:\n",
      "attempt to divide by zero\n",
      "\n",
      "thread 'tokio-runtime-worker' panicked at /Users/runner/.cargo/registry/src/index.crates.io-1949cf8c6b5b557f/lance-encoding-0.30.0/src/decoder.rs:1508:65:\n",
      "called `Result::unwrap()` on an `Err` value: JoinError::Panic(Id(61633), \"attempt to divide by zero\", ...)\n",
      "\n",
      "thread 'tokio-runtime-worker' panicked at /Users/runner/.cargo/registry/src/index.crates.io-1949cf8c6b5b557f/lance-encoding-0.30.0/src/data.rs:453:9:\n",
      "attempt to divide by zero\n"
     ]
    },
    {
     "data": {
      "text/html": [
       "<pre style=\"white-space:pre;overflow-x:auto;line-height:normal;font-family:Menlo,'DejaVu Sans Mono',consolas,'Courier New',monospace\"><span style=\"color: #808000; text-decoration-color: #808000\">WARNING </span> Expected embedding dimension <span style=\"color: #008080; text-decoration-color: #008080; font-weight: bold\">4096</span>, but got <span style=\"color: #008080; text-decoration-color: #008080; font-weight: bold\">1024</span>                                                           \n",
       "</pre>\n"
      ],
      "text/plain": [
       "\u001b[33mWARNING \u001b[0m Expected embedding dimension \u001b[1;36m4096\u001b[0m, but got \u001b[1;36m1024\u001b[0m                                                           \n"
      ]
     },
     "metadata": {},
     "output_type": "display_data"
    },
    {
     "name": "stderr",
     "output_type": "stream",
     "text": [
      "\n",
      "thread 'tokio-runtime-worker' panicked at /Users/runner/.cargo/registry/src/index.crates.io-1949cf8c6b5b557f/lance-encoding-0.30.0/src/data.rs:453:9:\n",
      "attempt to divide by zero\n",
      "\n",
      "thread 'tokio-runtime-worker' panicked at /Users/runner/.cargo/registry/src/index.crates.io-1949cf8c6b5b557f/lance-encoding-0.30.0/src/data.rs:453:9:\n",
      "attempt to divide by zero\n",
      "\n",
      "thread 'tokio-runtime-worker' panicked at /Users/runner/.cargo/registry/src/index.crates.io-1949cf8c6b5b557f/lance-encoding-0.30.0/src/decoder.rs:1508:65:\n",
      "called `Result::unwrap()` on an `Err` value: JoinError::Panic(Id(61817), \"attempt to divide by zero\", ...)\n"
     ]
    },
    {
     "data": {
      "text/html": [
       "<pre style=\"white-space:pre;overflow-x:auto;line-height:normal;font-family:Menlo,'DejaVu Sans Mono',consolas,'Courier New',monospace\"><span style=\"color: #808000; text-decoration-color: #808000\">WARNING </span> Expected embedding dimension <span style=\"color: #008080; text-decoration-color: #008080; font-weight: bold\">4096</span>, but got <span style=\"color: #008080; text-decoration-color: #008080; font-weight: bold\">1024</span>                                                           \n",
       "</pre>\n"
      ],
      "text/plain": [
       "\u001b[33mWARNING \u001b[0m Expected embedding dimension \u001b[1;36m4096\u001b[0m, but got \u001b[1;36m1024\u001b[0m                                                           \n"
      ]
     },
     "metadata": {},
     "output_type": "display_data"
    },
    {
     "name": "stderr",
     "output_type": "stream",
     "text": [
      "\n",
      "thread 'tokio-runtime-worker' panicked at /Users/runner/.cargo/registry/src/index.crates.io-1949cf8c6b5b557f/lance-encoding-0.30.0/src/data.rs:453:9:\n",
      "attempt to divide by zero\n",
      "\n",
      "thread 'tokio-runtime-worker' panicked at /Users/runner/.cargo/registry/src/index.crates.io-1949cf8c6b5b557f/lance-encoding-0.30.0/src/data.rs:453:9:\n",
      "attempt to divide by zero\n",
      "\n",
      "thread 'tokio-runtime-worker' panicked at /Users/runner/.cargo/registry/src/index.crates.io-1949cf8c6b5b557f/lance-encoding-0.30.0/src/decoder.rs:1508:65:\n",
      "called `Result::unwrap()` on an `Err` value: JoinError::Panic(Id(61951), \"attempt to divide by zero\", ...)\n"
     ]
    },
    {
     "data": {
      "text/html": [
       "<pre style=\"white-space:pre;overflow-x:auto;line-height:normal;font-family:Menlo,'DejaVu Sans Mono',consolas,'Courier New',monospace\"><span style=\"color: #808000; text-decoration-color: #808000\">WARNING </span> Expected embedding dimension <span style=\"color: #008080; text-decoration-color: #008080; font-weight: bold\">4096</span>, but got <span style=\"color: #008080; text-decoration-color: #008080; font-weight: bold\">1024</span>                                                           \n",
       "</pre>\n"
      ],
      "text/plain": [
       "\u001b[33mWARNING \u001b[0m Expected embedding dimension \u001b[1;36m4096\u001b[0m, but got \u001b[1;36m1024\u001b[0m                                                           \n"
      ]
     },
     "metadata": {},
     "output_type": "display_data"
    },
    {
     "name": "stderr",
     "output_type": "stream",
     "text": [
      "\n",
      "thread 'tokio-runtime-worker' panicked at /Users/runner/.cargo/registry/src/index.crates.io-1949cf8c6b5b557f/lance-encoding-0.30.0/src/data.rs:453:9:\n",
      "attempt to divide by zero\n",
      "\n",
      "thread 'tokio-runtime-worker' panicked at /Users/runner/.cargo/registry/src/index.crates.io-1949cf8c6b5b557f/lance-encoding-0.30.0/src/decoder.rs:1508:65:\n",
      "called `Result::unwrap()` on an `Err` value: JoinError::Panic(Id(62097), \"attempt to divide by zero\", ...)\n"
     ]
    },
    {
     "data": {
      "text/html": [
       "<pre style=\"white-space:pre;overflow-x:auto;line-height:normal;font-family:Menlo,'DejaVu Sans Mono',consolas,'Courier New',monospace\"><span style=\"color: #808000; text-decoration-color: #808000\">WARNING </span> Expected embedding dimension <span style=\"color: #008080; text-decoration-color: #008080; font-weight: bold\">4096</span>, but got <span style=\"color: #008080; text-decoration-color: #008080; font-weight: bold\">1024</span>                                                           \n",
       "</pre>\n"
      ],
      "text/plain": [
       "\u001b[33mWARNING \u001b[0m Expected embedding dimension \u001b[1;36m4096\u001b[0m, but got \u001b[1;36m1024\u001b[0m                                                           \n"
      ]
     },
     "metadata": {},
     "output_type": "display_data"
    },
    {
     "name": "stderr",
     "output_type": "stream",
     "text": [
      "\n",
      "thread 'tokio-runtime-worker' panicked at /Users/runner/.cargo/registry/src/index.crates.io-1949cf8c6b5b557f/lance-encoding-0.30.0/src/data.rs:453:9:\n",
      "attempt to divide by zero\n",
      "\n",
      "thread 'tokio-runtime-worker' panicked at /Users/runner/.cargo/registry/src/index.crates.io-1949cf8c6b5b557f/lance-encoding-0.30.0/src/data.rs:453:9:\n",
      "attempt to divide by zero\n",
      "\n",
      "thread 'tokio-runtime-worker' panicked at /Users/runner/.cargo/registry/src/index.crates.io-1949cf8c6b5b557f/lance-encoding-0.30.0/src/decoder.rs:1508:65:\n",
      "called `Result::unwrap()` on an `Err` value: JoinError::Panic(Id(62258), \"attempt to divide by zero\", ...)\n",
      "\n",
      "thread 'tokio-runtime-worker' panicked at /Users/runner/.cargo/registry/src/index.crates.io-1949cf8c6b5b557f/lance-encoding-0.30.0/src/data.rs:453:9:\n",
      "attempt to divide by zero\n"
     ]
    },
    {
     "data": {
      "text/html": [
       "<pre style=\"white-space:pre;overflow-x:auto;line-height:normal;font-family:Menlo,'DejaVu Sans Mono',consolas,'Courier New',monospace\"><span style=\"color: #808000; text-decoration-color: #808000\">WARNING </span> Expected embedding dimension <span style=\"color: #008080; text-decoration-color: #008080; font-weight: bold\">4096</span>, but got <span style=\"color: #008080; text-decoration-color: #008080; font-weight: bold\">1024</span>                                                           \n",
       "</pre>\n"
      ],
      "text/plain": [
       "\u001b[33mWARNING \u001b[0m Expected embedding dimension \u001b[1;36m4096\u001b[0m, but got \u001b[1;36m1024\u001b[0m                                                           \n"
      ]
     },
     "metadata": {},
     "output_type": "display_data"
    },
    {
     "name": "stderr",
     "output_type": "stream",
     "text": [
      "\n",
      "thread 'tokio-runtime-worker' panicked at /Users/runner/.cargo/registry/src/index.crates.io-1949cf8c6b5b557f/lance-encoding-0.30.0/src/data.rs:453:9:\n",
      "attempt to divide by zero\n",
      "\n",
      "thread 'tokio-runtime-worker' panicked at /Users/runner/.cargo/registry/src/index.crates.io-1949cf8c6b5b557f/lance-encoding-0.30.0/src/data.rs:453:9:\n",
      "attempt to divide by zero\n",
      "\n",
      "thread 'tokio-runtime-worker' panicked at /Users/runner/.cargo/registry/src/index.crates.io-1949cf8c6b5b557f/lance-encoding-0.30.0/src/data.rs:453:9:\n",
      "attempt to divide by zero\n",
      "\n",
      "thread 'tokio-runtime-worker' panicked at /Users/runner/.cargo/registry/src/index.crates.io-1949cf8c6b5b557f/lance-encoding-0.30.0/src/data.rs:453:9:\n",
      "attempt to divide by zero\n",
      "\n",
      "thread 'tokio-runtime-worker' panicked at /Users/runner/.cargo/registry/src/index.crates.io-1949cf8c6b5b557f/lance-encoding-0.30.0/src/data.rs:453:9:\n",
      "attempt to divide by zero\n",
      "\n",
      "thread 'tokio-runtime-worker' panicked at /Users/runner/.cargo/registry/src/index.crates.io-1949cf8c6b5b557f/lance-encoding-0.30.0/src/decoder.rs:1508:65:\n",
      "called `Result::unwrap()` on an `Err` value: JoinError::Panic(Id(62449), \"attempt to divide by zero\", ...)\n",
      "\n",
      "thread 'tokio-runtime-worker' panicked at /Users/runner/.cargo/registry/src/index.crates.io-1949cf8c6b5b557f/lance-encoding-0.30.0/src/data.rs:453:9:\n",
      "attempt to divide by zero\n"
     ]
    },
    {
     "data": {
      "text/html": [
       "<pre style=\"white-space:pre;overflow-x:auto;line-height:normal;font-family:Menlo,'DejaVu Sans Mono',consolas,'Courier New',monospace\"><span style=\"color: #808000; text-decoration-color: #808000\">WARNING </span> Expected embedding dimension <span style=\"color: #008080; text-decoration-color: #008080; font-weight: bold\">4096</span>, but got <span style=\"color: #008080; text-decoration-color: #008080; font-weight: bold\">1024</span>                                                           \n",
       "</pre>\n"
      ],
      "text/plain": [
       "\u001b[33mWARNING \u001b[0m Expected embedding dimension \u001b[1;36m4096\u001b[0m, but got \u001b[1;36m1024\u001b[0m                                                           \n"
      ]
     },
     "metadata": {},
     "output_type": "display_data"
    },
    {
     "name": "stderr",
     "output_type": "stream",
     "text": [
      "\n",
      "thread 'tokio-runtime-worker' panicked at /Users/runner/.cargo/registry/src/index.crates.io-1949cf8c6b5b557f/lance-encoding-0.30.0/src/data.rs:453:9:\n",
      "attempt to divide by zero\n",
      "\n",
      "thread 'tokio-runtime-worker' panicked at /Users/runner/.cargo/registry/src/index.crates.io-1949cf8c6b5b557f/lance-encoding-0.30.0/src/data.rs:453:9:\n",
      "attempt to divide by zero\n",
      "\n",
      "thread 'tokio-runtime-worker' panicked at /Users/runner/.cargo/registry/src/index.crates.io-1949cf8c6b5b557f/lance-encoding-0.30.0/src/data.rs:453:9:\n",
      "attempt to divide by zero\n",
      "\n",
      "thread 'tokio-runtime-worker' panicked at /Users/runner/.cargo/registry/src/index.crates.io-1949cf8c6b5b557f/lance-encoding-0.30.0/src/decoder.rs:1508:65:\n",
      "called `Result::unwrap()` on an `Err` value: JoinError::Panic(Id(62602), \"attempt to divide by zero\", ...)\n"
     ]
    },
    {
     "data": {
      "text/html": [
       "<pre style=\"white-space:pre;overflow-x:auto;line-height:normal;font-family:Menlo,'DejaVu Sans Mono',consolas,'Courier New',monospace\"><span style=\"color: #808000; text-decoration-color: #808000\">WARNING </span> Expected embedding dimension <span style=\"color: #008080; text-decoration-color: #008080; font-weight: bold\">4096</span>, but got <span style=\"color: #008080; text-decoration-color: #008080; font-weight: bold\">1024</span>                                                           \n",
       "</pre>\n"
      ],
      "text/plain": [
       "\u001b[33mWARNING \u001b[0m Expected embedding dimension \u001b[1;36m4096\u001b[0m, but got \u001b[1;36m1024\u001b[0m                                                           \n"
      ]
     },
     "metadata": {},
     "output_type": "display_data"
    },
    {
     "name": "stderr",
     "output_type": "stream",
     "text": [
      "\n",
      "thread 'tokio-runtime-worker' panicked at /Users/runner/.cargo/registry/src/index.crates.io-1949cf8c6b5b557f/lance-encoding-0.30.0/src/data.rs:453:9:\n",
      "attempt to divide by zero\n",
      "\n",
      "thread 'tokio-runtime-worker' panicked at /Users/runner/.cargo/registry/src/index.crates.io-1949cf8c6b5b557f/lance-encoding-0.30.0/src/data.rs:453:9:\n",
      "attempt to divide by zero\n",
      "\n",
      "thread 'tokio-runtime-worker' panicked at /Users/runner/.cargo/registry/src/index.crates.io-1949cf8c6b5b557f/lance-encoding-0.30.0/src/data.rs:453:9:\n",
      "attempt to divide by zero\n",
      "\n",
      "thread 'tokio-runtime-worker' panicked at /Users/runner/.cargo/registry/src/index.crates.io-1949cf8c6b5b557f/lance-encoding-0.30.0/src/data.rs:453:9:\n",
      "attempt to divide by zero\n",
      "\n",
      "thread 'tokio-runtime-worker' panicked at /Users/runner/.cargo/registry/src/index.crates.io-1949cf8c6b5b557f/lance-encoding-0.30.0/src/decoder.rs:1508:65:\n",
      "called `Result::unwrap()` on an `Err` value: JoinError::Panic(Id(62757), \"attempt to divide by zero\", ...)\n",
      "\n",
      "thread 'tokio-runtime-worker' panicked at /Users/runner/.cargo/registry/src/index.crates.io-1949cf8c6b5b557f/lance-encoding-0.30.0/src/data.rs:453:9:\n",
      "attempt to divide by zero\n",
      "\n",
      "thread 'tokio-runtime-worker' panicked at /Users/runner/.cargo/registry/src/index.crates.io-1949cf8c6b5b557f/lance-encoding-0.30.0/src/data.rs:453:9:\n",
      "attempt to divide by zero\n"
     ]
    },
    {
     "data": {
      "text/html": [
       "<pre style=\"white-space:pre;overflow-x:auto;line-height:normal;font-family:Menlo,'DejaVu Sans Mono',consolas,'Courier New',monospace\"><span style=\"color: #808000; text-decoration-color: #808000\">WARNING </span> Expected embedding dimension <span style=\"color: #008080; text-decoration-color: #008080; font-weight: bold\">4096</span>, but got <span style=\"color: #008080; text-decoration-color: #008080; font-weight: bold\">1024</span>                                                           \n",
       "</pre>\n"
      ],
      "text/plain": [
       "\u001b[33mWARNING \u001b[0m Expected embedding dimension \u001b[1;36m4096\u001b[0m, but got \u001b[1;36m1024\u001b[0m                                                           \n"
      ]
     },
     "metadata": {},
     "output_type": "display_data"
    },
    {
     "name": "stderr",
     "output_type": "stream",
     "text": [
      "\n",
      "thread 'tokio-runtime-worker' panicked at /Users/runner/.cargo/registry/src/index.crates.io-1949cf8c6b5b557f/lance-encoding-0.30.0/src/data.rs:453:9:\n",
      "attempt to divide by zero\n",
      "\n",
      "thread 'tokio-runtime-worker' panicked at /Users/runner/.cargo/registry/src/index.crates.io-1949cf8c6b5b557f/lance-encoding-0.30.0/src/data.rs:453:9:\n",
      "attempt to divide by zero\n",
      "\n",
      "thread 'tokio-runtime-worker' panicked at /Users/runner/.cargo/registry/src/index.crates.io-1949cf8c6b5b557f/lance-encoding-0.30.0/src/data.rs:453:9:\n",
      "attempt to divide by zero\n",
      "\n",
      "thread 'tokio-runtime-worker' panicked at /Users/runner/.cargo/registry/src/index.crates.io-1949cf8c6b5b557f/lance-encoding-0.30.0/src/decoder.rs:1508:65:\n",
      "called `Result::unwrap()` on an `Err` value: JoinError::Panic(Id(62923), \"attempt to divide by zero\", ...)\n"
     ]
    },
    {
     "data": {
      "text/html": [
       "<pre style=\"white-space:pre;overflow-x:auto;line-height:normal;font-family:Menlo,'DejaVu Sans Mono',consolas,'Courier New',monospace\"><span style=\"color: #808000; text-decoration-color: #808000\">WARNING </span> Expected embedding dimension <span style=\"color: #008080; text-decoration-color: #008080; font-weight: bold\">4096</span>, but got <span style=\"color: #008080; text-decoration-color: #008080; font-weight: bold\">1024</span>                                                           \n",
       "</pre>\n"
      ],
      "text/plain": [
       "\u001b[33mWARNING \u001b[0m Expected embedding dimension \u001b[1;36m4096\u001b[0m, but got \u001b[1;36m1024\u001b[0m                                                           \n"
      ]
     },
     "metadata": {},
     "output_type": "display_data"
    },
    {
     "name": "stderr",
     "output_type": "stream",
     "text": [
      "\n",
      "thread 'tokio-runtime-worker' panicked at /Users/runner/.cargo/registry/src/index.crates.io-1949cf8c6b5b557f/lance-encoding-0.30.0/src/data.rs:453:9:\n",
      "attempt to divide by zero\n",
      "\n",
      "thread 'tokio-runtime-worker' panicked at /Users/runner/.cargo/registry/src/index.crates.io-1949cf8c6b5b557f/lance-encoding-0.30.0/src/data.rs:453:9:\n",
      "attempt to divide by zero\n",
      "\n",
      "thread 'tokio-runtime-worker' panicked at /Users/runner/.cargo/registry/src/index.crates.io-1949cf8c6b5b557f/lance-encoding-0.30.0/src/data.rs:453:9:\n",
      "attempt to divide by zero\n",
      "\n",
      "thread 'tokio-runtime-worker' panicked at /Users/runner/.cargo/registry/src/index.crates.io-1949cf8c6b5b557f/lance-encoding-0.30.0/src/decoder.rs:1508:65:\n",
      "called `Result::unwrap()` on an `Err` value: JoinError::Panic(Id(63090), \"attempt to divide by zero\", ...)\n"
     ]
    },
    {
     "data": {
      "text/html": [
       "<pre style=\"white-space:pre;overflow-x:auto;line-height:normal;font-family:Menlo,'DejaVu Sans Mono',consolas,'Courier New',monospace\"><span style=\"color: #808000; text-decoration-color: #808000\">WARNING </span> Expected embedding dimension <span style=\"color: #008080; text-decoration-color: #008080; font-weight: bold\">4096</span>, but got <span style=\"color: #008080; text-decoration-color: #008080; font-weight: bold\">1024</span>                                                           \n",
       "</pre>\n"
      ],
      "text/plain": [
       "\u001b[33mWARNING \u001b[0m Expected embedding dimension \u001b[1;36m4096\u001b[0m, but got \u001b[1;36m1024\u001b[0m                                                           \n"
      ]
     },
     "metadata": {},
     "output_type": "display_data"
    },
    {
     "name": "stderr",
     "output_type": "stream",
     "text": [
      "\n",
      "thread 'tokio-runtime-worker' panicked at /Users/runner/.cargo/registry/src/index.crates.io-1949cf8c6b5b557f/lance-encoding-0.30.0/src/data.rs:453:9:\n",
      "attempt to divide by zero\n",
      "\n",
      "thread 'tokio-runtime-worker' panicked at /Users/runner/.cargo/registry/src/index.crates.io-1949cf8c6b5b557f/lance-encoding-0.30.0/src/data.rs:453:9:\n",
      "attempt to divide by zero\n",
      "\n",
      "thread 'tokio-runtime-worker' panicked at /Users/runner/.cargo/registry/src/index.crates.io-1949cf8c6b5b557f/lance-encoding-0.30.0/src/decoder.rs:1508:65:\n",
      "called `Result::unwrap()` on an `Err` value: JoinError::Panic(Id(63237), \"attempt to divide by zero\", ...)\n"
     ]
    },
    {
     "data": {
      "text/html": [
       "<pre style=\"white-space:pre;overflow-x:auto;line-height:normal;font-family:Menlo,'DejaVu Sans Mono',consolas,'Courier New',monospace\"><span style=\"color: #808000; text-decoration-color: #808000\">WARNING </span> Expected embedding dimension <span style=\"color: #008080; text-decoration-color: #008080; font-weight: bold\">4096</span>, but got <span style=\"color: #008080; text-decoration-color: #008080; font-weight: bold\">1024</span>                                                           \n",
       "</pre>\n"
      ],
      "text/plain": [
       "\u001b[33mWARNING \u001b[0m Expected embedding dimension \u001b[1;36m4096\u001b[0m, but got \u001b[1;36m1024\u001b[0m                                                           \n"
      ]
     },
     "metadata": {},
     "output_type": "display_data"
    },
    {
     "name": "stderr",
     "output_type": "stream",
     "text": [
      "\n",
      "thread 'tokio-runtime-worker' panicked at /Users/runner/.cargo/registry/src/index.crates.io-1949cf8c6b5b557f/lance-encoding-0.30.0/src/data.rs:453:9:\n",
      "attempt to divide by zero\n",
      "\n",
      "thread 'tokio-runtime-worker' panicked at /Users/runner/.cargo/registry/src/index.crates.io-1949cf8c6b5b557f/lance-encoding-0.30.0/src/data.rs:453:9:\n",
      "attempt to divide by zero\n",
      "\n",
      "thread 'tokio-runtime-worker' panicked at /Users/runner/.cargo/registry/src/index.crates.io-1949cf8c6b5b557f/lance-encoding-0.30.0/src/data.rs:453:9:\n",
      "attempt to divide by zero\n",
      "\n",
      "thread 'tokio-runtime-worker' panicked at /Users/runner/.cargo/registry/src/index.crates.io-1949cf8c6b5b557f/lance-encoding-0.30.0/src/data.rs:453:9:\n",
      "attempt to divide by zero\n",
      "\n",
      "thread 'tokio-runtime-worker' panicked at /Users/runner/.cargo/registry/src/index.crates.io-1949cf8c6b5b557f/lance-encoding-0.30.0/src/decoder.rs:1508:65:\n",
      "called `Result::unwrap()` on an `Err` value: JoinError::Panic(Id(63422), \"attempt to divide by zero\", ...)\n",
      "\n",
      "thread 'tokio-runtime-worker' panicked at /Users/runner/.cargo/registry/src/index.crates.io-1949cf8c6b5b557f/lance-encoding-0.30.0/src/data.rs:453:9:\n",
      "attempt to divide by zero\n"
     ]
    },
    {
     "data": {
      "text/html": [
       "<pre style=\"white-space:pre;overflow-x:auto;line-height:normal;font-family:Menlo,'DejaVu Sans Mono',consolas,'Courier New',monospace\"><span style=\"color: #808000; text-decoration-color: #808000\">WARNING </span> Expected embedding dimension <span style=\"color: #008080; text-decoration-color: #008080; font-weight: bold\">4096</span>, but got <span style=\"color: #008080; text-decoration-color: #008080; font-weight: bold\">1024</span>                                                           \n",
       "</pre>\n"
      ],
      "text/plain": [
       "\u001b[33mWARNING \u001b[0m Expected embedding dimension \u001b[1;36m4096\u001b[0m, but got \u001b[1;36m1024\u001b[0m                                                           \n"
      ]
     },
     "metadata": {},
     "output_type": "display_data"
    },
    {
     "name": "stderr",
     "output_type": "stream",
     "text": [
      "\n",
      "thread 'tokio-runtime-worker' panicked at /Users/runner/.cargo/registry/src/index.crates.io-1949cf8c6b5b557f/lance-encoding-0.30.0/src/data.rs:453:9:\n",
      "attempt to divide by zero\n",
      "\n",
      "thread 'tokio-runtime-worker' panicked at /Users/runner/.cargo/registry/src/index.crates.io-1949cf8c6b5b557f/lance-encoding-0.30.0/src/data.rs:453:9:\n",
      "attempt to divide by zero\n",
      "\n",
      "thread 'tokio-runtime-worker' panicked at /Users/runner/.cargo/registry/src/index.crates.io-1949cf8c6b5b557f/lance-encoding-0.30.0/src/data.rs:453:9:\n",
      "attempt to divide by zero\n",
      "\n",
      "thread 'tokio-runtime-worker' panicked at /Users/runner/.cargo/registry/src/index.crates.io-1949cf8c6b5b557f/lance-encoding-0.30.0/src/data.rs:453:9:\n",
      "attempt to divide by zero\n",
      "\n",
      "thread 'tokio-runtime-worker' panicked at /Users/runner/.cargo/registry/src/index.crates.io-1949cf8c6b5b557f/lance-encoding-0.30.0/src/data.rs:453:9:\n",
      "attempt to divide by zero\n",
      "\n",
      "thread 'tokio-runtime-worker' panicked at /Users/runner/.cargo/registry/src/index.crates.io-1949cf8c6b5b557f/lance-encoding-0.30.0/src/data.rs:453:9:\n",
      "attempt to divide by zero\n",
      "\n",
      "thread 'tokio-runtime-worker' panicked at /Users/runner/.cargo/registry/src/index.crates.io-1949cf8c6b5b557f/lance-encoding-0.30.0/src/decoder.rs:1508:65:\n",
      "called `Result::unwrap()` on an `Err` value: JoinError::Panic(Id(63612), \"attempt to divide by zero\", ...)\n"
     ]
    },
    {
     "data": {
      "text/html": [
       "<pre style=\"white-space:pre;overflow-x:auto;line-height:normal;font-family:Menlo,'DejaVu Sans Mono',consolas,'Courier New',monospace\"><span style=\"color: #808000; text-decoration-color: #808000\">WARNING </span> Expected embedding dimension <span style=\"color: #008080; text-decoration-color: #008080; font-weight: bold\">4096</span>, but got <span style=\"color: #008080; text-decoration-color: #008080; font-weight: bold\">1024</span>                                                           \n",
       "</pre>\n"
      ],
      "text/plain": [
       "\u001b[33mWARNING \u001b[0m Expected embedding dimension \u001b[1;36m4096\u001b[0m, but got \u001b[1;36m1024\u001b[0m                                                           \n"
      ]
     },
     "metadata": {},
     "output_type": "display_data"
    },
    {
     "name": "stderr",
     "output_type": "stream",
     "text": [
      "\n",
      "thread 'tokio-runtime-worker' panicked at /Users/runner/.cargo/registry/src/index.crates.io-1949cf8c6b5b557f/lance-encoding-0.30.0/src/data.rs:453:9:\n",
      "attempt to divide by zero\n",
      "\n",
      "thread 'tokio-runtime-worker' panicked at /Users/runner/.cargo/registry/src/index.crates.io-1949cf8c6b5b557f/lance-encoding-0.30.0/src/data.rs:453:9:\n",
      "attempt to divide by zero\n",
      "\n",
      "thread 'tokio-runtime-worker' panicked at /Users/runner/.cargo/registry/src/index.crates.io-1949cf8c6b5b557f/lance-encoding-0.30.0/src/data.rs:453:9:\n",
      "attempt to divide by zero\n",
      "\n",
      "thread 'tokio-runtime-worker' panicked at /Users/runner/.cargo/registry/src/index.crates.io-1949cf8c6b5b557f/lance-encoding-0.30.0/src/data.rs:453:9:\n",
      "attempt to divide by zero\n",
      "\n",
      "thread 'tokio-runtime-worker' panicked at /Users/runner/.cargo/registry/src/index.crates.io-1949cf8c6b5b557f/lance-encoding-0.30.0/src/data.rs:453:9:\n",
      "attempt to divide by zero\n",
      "\n",
      "thread 'tokio-runtime-worker' panicked at /Users/runner/.cargo/registry/src/index.crates.io-1949cf8c6b5b557f/lance-encoding-0.30.0/src/data.rs:453:9:\n",
      "attempt to divide by zero\n",
      "\n",
      "thread 'tokio-runtime-worker' panicked at /Users/runner/.cargo/registry/src/index.crates.io-1949cf8c6b5b557f/lance-encoding-0.30.0/src/decoder.rs:1508:65:\n",
      "called `Result::unwrap()` on an `Err` value: JoinError::Panic(Id(63801), \"attempt to divide by zero\", ...)\n"
     ]
    },
    {
     "data": {
      "text/html": [
       "<pre style=\"white-space:pre;overflow-x:auto;line-height:normal;font-family:Menlo,'DejaVu Sans Mono',consolas,'Courier New',monospace\"><span style=\"color: #808000; text-decoration-color: #808000\">WARNING </span> Expected embedding dimension <span style=\"color: #008080; text-decoration-color: #008080; font-weight: bold\">4096</span>, but got <span style=\"color: #008080; text-decoration-color: #008080; font-weight: bold\">1024</span>                                                           \n",
       "</pre>\n"
      ],
      "text/plain": [
       "\u001b[33mWARNING \u001b[0m Expected embedding dimension \u001b[1;36m4096\u001b[0m, but got \u001b[1;36m1024\u001b[0m                                                           \n"
      ]
     },
     "metadata": {},
     "output_type": "display_data"
    },
    {
     "name": "stderr",
     "output_type": "stream",
     "text": [
      "\n",
      "thread 'tokio-runtime-worker' panicked at /Users/runner/.cargo/registry/src/index.crates.io-1949cf8c6b5b557f/lance-encoding-0.30.0/src/data.rs:453:9:\n",
      "attempt to divide by zero\n",
      "\n",
      "thread 'tokio-runtime-worker' panicked at /Users/runner/.cargo/registry/src/index.crates.io-1949cf8c6b5b557f/lance-encoding-0.30.0/src/data.rs:453:9:\n",
      "attempt to divide by zero\n",
      "\n",
      "thread 'tokio-runtime-worker' panicked at /Users/runner/.cargo/registry/src/index.crates.io-1949cf8c6b5b557f/lance-encoding-0.30.0/src/decoder.rs:1508:65:\n",
      "called `Result::unwrap()` on an `Err` value: JoinError::Panic(Id(63926), \"attempt to divide by zero\", ...)\n",
      "\n",
      "thread 'tokio-runtime-worker' panicked at /Users/runner/.cargo/registry/src/index.crates.io-1949cf8c6b5b557f/lance-encoding-0.30.0/src/data.rs:453:9:\n",
      "attempt to divide by zero\n"
     ]
    },
    {
     "data": {
      "text/html": [
       "<pre style=\"white-space:pre;overflow-x:auto;line-height:normal;font-family:Menlo,'DejaVu Sans Mono',consolas,'Courier New',monospace\"><span style=\"color: #808000; text-decoration-color: #808000\">WARNING </span> Expected embedding dimension <span style=\"color: #008080; text-decoration-color: #008080; font-weight: bold\">4096</span>, but got <span style=\"color: #008080; text-decoration-color: #008080; font-weight: bold\">1024</span>                                                           \n",
       "</pre>\n"
      ],
      "text/plain": [
       "\u001b[33mWARNING \u001b[0m Expected embedding dimension \u001b[1;36m4096\u001b[0m, but got \u001b[1;36m1024\u001b[0m                                                           \n"
      ]
     },
     "metadata": {},
     "output_type": "display_data"
    },
    {
     "name": "stderr",
     "output_type": "stream",
     "text": [
      "\n",
      "thread 'tokio-runtime-worker' panicked at /Users/runner/.cargo/registry/src/index.crates.io-1949cf8c6b5b557f/lance-encoding-0.30.0/src/data.rs:453:9:\n",
      "attempt to divide by zero\n",
      "\n",
      "thread 'tokio-runtime-worker' panicked at /Users/runner/.cargo/registry/src/index.crates.io-1949cf8c6b5b557f/lance-encoding-0.30.0/src/data.rs:453:9:\n",
      "attempt to divide by zero\n",
      "\n",
      "thread 'tokio-runtime-worker' panicked at /Users/runner/.cargo/registry/src/index.crates.io-1949cf8c6b5b557f/lance-encoding-0.30.0/src/data.rs:453:9:\n",
      "attempt to divide by zero\n",
      "\n",
      "thread 'tokio-runtime-worker' panicked at /Users/runner/.cargo/registry/src/index.crates.io-1949cf8c6b5b557f/lance-encoding-0.30.0/src/decoder.rs:1508:65:\n",
      "called `Result::unwrap()` on an `Err` value: JoinError::Panic(Id(64105), \"attempt to divide by zero\", ...)\n"
     ]
    },
    {
     "data": {
      "text/html": [
       "<pre style=\"white-space:pre;overflow-x:auto;line-height:normal;font-family:Menlo,'DejaVu Sans Mono',consolas,'Courier New',monospace\"><span style=\"color: #808000; text-decoration-color: #808000\">WARNING </span> Expected embedding dimension <span style=\"color: #008080; text-decoration-color: #008080; font-weight: bold\">4096</span>, but got <span style=\"color: #008080; text-decoration-color: #008080; font-weight: bold\">1024</span>                                                           \n",
       "</pre>\n"
      ],
      "text/plain": [
       "\u001b[33mWARNING \u001b[0m Expected embedding dimension \u001b[1;36m4096\u001b[0m, but got \u001b[1;36m1024\u001b[0m                                                           \n"
      ]
     },
     "metadata": {},
     "output_type": "display_data"
    },
    {
     "name": "stderr",
     "output_type": "stream",
     "text": [
      "\n",
      "thread 'tokio-runtime-worker' panicked at /Users/runner/.cargo/registry/src/index.crates.io-1949cf8c6b5b557f/lance-encoding-0.30.0/src/data.rs:453:9:\n",
      "attempt to divide by zero\n",
      "\n",
      "thread 'tokio-runtime-worker' panicked at /Users/runner/.cargo/registry/src/index.crates.io-1949cf8c6b5b557f/lance-encoding-0.30.0/src/data.rs:453:9:\n",
      "attempt to divide by zero\n",
      "\n",
      "thread 'tokio-runtime-worker' panicked at /Users/runner/.cargo/registry/src/index.crates.io-1949cf8c6b5b557f/lance-encoding-0.30.0/src/data.rs:453:9:\n",
      "attempt to divide by zero\n",
      "\n",
      "thread 'tokio-runtime-worker' panicked at /Users/runner/.cargo/registry/src/index.crates.io-1949cf8c6b5b557f/lance-encoding-0.30.0/src/decoder.rs:1508:65:\n",
      "called `Result::unwrap()` on an `Err` value: JoinError::Panic(Id(64487), \"attempt to divide by zero\", ...)\n"
     ]
    },
    {
     "data": {
      "text/html": [
       "<pre style=\"white-space:pre;overflow-x:auto;line-height:normal;font-family:Menlo,'DejaVu Sans Mono',consolas,'Courier New',monospace\"><span style=\"color: #808000; text-decoration-color: #808000\">WARNING </span> Expected embedding dimension <span style=\"color: #008080; text-decoration-color: #008080; font-weight: bold\">4096</span>, but got <span style=\"color: #008080; text-decoration-color: #008080; font-weight: bold\">1024</span>                                                           \n",
       "</pre>\n"
      ],
      "text/plain": [
       "\u001b[33mWARNING \u001b[0m Expected embedding dimension \u001b[1;36m4096\u001b[0m, but got \u001b[1;36m1024\u001b[0m                                                           \n"
      ]
     },
     "metadata": {},
     "output_type": "display_data"
    },
    {
     "name": "stderr",
     "output_type": "stream",
     "text": [
      "\n",
      "thread 'tokio-runtime-worker' panicked at /Users/runner/.cargo/registry/src/index.crates.io-1949cf8c6b5b557f/lance-encoding-0.30.0/src/data.rs:453:9:\n",
      "attempt to divide by zero\n",
      "\n",
      "thread 'tokio-runtime-worker' panicked at /Users/runner/.cargo/registry/src/index.crates.io-1949cf8c6b5b557f/lance-encoding-0.30.0/src/data.rs:453:9:\n",
      "attempt to divide by zero\n",
      "\n",
      "thread 'tokio-runtime-worker' panicked at /Users/runner/.cargo/registry/src/index.crates.io-1949cf8c6b5b557f/lance-encoding-0.30.0/src/data.rs:453:9:\n",
      "attempt to divide by zero\n",
      "\n",
      "thread 'tokio-runtime-worker' panicked at /Users/runner/.cargo/registry/src/index.crates.io-1949cf8c6b5b557f/lance-encoding-0.30.0/src/decoder.rs:1508:65:\n",
      "called `Result::unwrap()` on an `Err` value: JoinError::Panic(Id(64657), \"attempt to divide by zero\", ...)\n"
     ]
    },
    {
     "data": {
      "text/html": [
       "<pre style=\"white-space:pre;overflow-x:auto;line-height:normal;font-family:Menlo,'DejaVu Sans Mono',consolas,'Courier New',monospace\"><span style=\"color: #808000; text-decoration-color: #808000\">WARNING </span> Expected embedding dimension <span style=\"color: #008080; text-decoration-color: #008080; font-weight: bold\">4096</span>, but got <span style=\"color: #008080; text-decoration-color: #008080; font-weight: bold\">1024</span>                                                           \n",
       "</pre>\n"
      ],
      "text/plain": [
       "\u001b[33mWARNING \u001b[0m Expected embedding dimension \u001b[1;36m4096\u001b[0m, but got \u001b[1;36m1024\u001b[0m                                                           \n"
      ]
     },
     "metadata": {},
     "output_type": "display_data"
    },
    {
     "name": "stderr",
     "output_type": "stream",
     "text": [
      "\n",
      "thread 'tokio-runtime-worker' panicked at /Users/runner/.cargo/registry/src/index.crates.io-1949cf8c6b5b557f/lance-encoding-0.30.0/src/data.rs:453:9:\n",
      "attempt to divide by zero\n",
      "\n",
      "thread 'tokio-runtime-worker' panicked at /Users/runner/.cargo/registry/src/index.crates.io-1949cf8c6b5b557f/lance-encoding-0.30.0/src/data.rs:453:9:\n",
      "attempt to divide by zero\n",
      "\n",
      "thread 'tokio-runtime-worker' panicked at /Users/runner/.cargo/registry/src/index.crates.io-1949cf8c6b5b557f/lance-encoding-0.30.0/src/data.rs:453:9:\n",
      "attempt to divide by zero\n",
      "\n",
      "thread 'tokio-runtime-worker' panicked at /Users/runner/.cargo/registry/src/index.crates.io-1949cf8c6b5b557f/lance-encoding-0.30.0/src/data.rs:453:9:\n",
      "attempt to divide by zero\n",
      "\n",
      "thread 'tokio-runtime-worker' panicked at /Users/runner/.cargo/registry/src/index.crates.io-1949cf8c6b5b557f/lance-encoding-0.30.0/src/data.rs:453:9:\n",
      "attempt to divide by zero\n",
      "\n",
      "thread 'tokio-runtime-worker' panicked at /Users/runner/.cargo/registry/src/index.crates.io-1949cf8c6b5b557f/lance-encoding-0.30.0/src/decoder.rs:1508:65:\n",
      "called `Result::unwrap()` on an `Err` value: JoinError::Panic(Id(64812), \"attempt to divide by zero\", ...)\n"
     ]
    },
    {
     "data": {
      "text/html": [
       "<pre style=\"white-space:pre;overflow-x:auto;line-height:normal;font-family:Menlo,'DejaVu Sans Mono',consolas,'Courier New',monospace\"><span style=\"color: #808000; text-decoration-color: #808000\">WARNING </span> Expected embedding dimension <span style=\"color: #008080; text-decoration-color: #008080; font-weight: bold\">4096</span>, but got <span style=\"color: #008080; text-decoration-color: #008080; font-weight: bold\">1024</span>                                                           \n",
       "</pre>\n"
      ],
      "text/plain": [
       "\u001b[33mWARNING \u001b[0m Expected embedding dimension \u001b[1;36m4096\u001b[0m, but got \u001b[1;36m1024\u001b[0m                                                           \n"
      ]
     },
     "metadata": {},
     "output_type": "display_data"
    },
    {
     "name": "stderr",
     "output_type": "stream",
     "text": [
      "\n",
      "thread 'tokio-runtime-worker' panicked at /Users/runner/.cargo/registry/src/index.crates.io-1949cf8c6b5b557f/lance-encoding-0.30.0/src/data.rs:453:9:\n",
      "attempt to divide by zero\n",
      "\n",
      "thread 'tokio-runtime-worker' panicked at /Users/runner/.cargo/registry/src/index.crates.io-1949cf8c6b5b557f/lance-encoding-0.30.0/src/data.rs:453:9:\n",
      "attempt to divide by zero\n",
      "\n",
      "thread 'tokio-runtime-worker' panicked at /Users/runner/.cargo/registry/src/index.crates.io-1949cf8c6b5b557f/lance-encoding-0.30.0/src/data.rs:453:9:\n",
      "attempt to divide by zero\n",
      "\n",
      "thread 'tokio-runtime-worker' panicked at /Users/runner/.cargo/registry/src/index.crates.io-1949cf8c6b5b557f/lance-encoding-0.30.0/src/data.rs:453:9:\n",
      "attempt to divide by zero\n",
      "\n",
      "thread 'tokio-runtime-worker' panicked at /Users/runner/.cargo/registry/src/index.crates.io-1949cf8c6b5b557f/lance-encoding-0.30.0/src/decoder.rs:1508:65:\n",
      "called `Result::unwrap()` on an `Err` value: JoinError::Panic(Id(65026), \"attempt to divide by zero\", ...)\n",
      "\n",
      "thread 'tokio-runtime-worker' panicked at /Users/runner/.cargo/registry/src/index.crates.io-1949cf8c6b5b557f/lance-encoding-0.30.0/src/data.rs:453:9:\n",
      "attempt to divide by zero\n",
      "\n",
      "thread 'tokio-runtime-worker' panicked at /Users/runner/.cargo/registry/src/index.crates.io-1949cf8c6b5b557f/lance-encoding-0.30.0/src/data.rs:453:9:\n",
      "attempt to divide by zero\n"
     ]
    },
    {
     "data": {
      "text/html": [
       "<pre style=\"white-space:pre;overflow-x:auto;line-height:normal;font-family:Menlo,'DejaVu Sans Mono',consolas,'Courier New',monospace\"><span style=\"color: #808000; text-decoration-color: #808000\">WARNING </span> Expected embedding dimension <span style=\"color: #008080; text-decoration-color: #008080; font-weight: bold\">4096</span>, but got <span style=\"color: #008080; text-decoration-color: #008080; font-weight: bold\">1024</span>                                                           \n",
       "</pre>\n"
      ],
      "text/plain": [
       "\u001b[33mWARNING \u001b[0m Expected embedding dimension \u001b[1;36m4096\u001b[0m, but got \u001b[1;36m1024\u001b[0m                                                           \n"
      ]
     },
     "metadata": {},
     "output_type": "display_data"
    },
    {
     "name": "stderr",
     "output_type": "stream",
     "text": [
      "\n",
      "thread 'tokio-runtime-worker' panicked at /Users/runner/.cargo/registry/src/index.crates.io-1949cf8c6b5b557f/lance-encoding-0.30.0/src/data.rs:453:9:\n",
      "attempt to divide by zero\n",
      "\n",
      "thread 'tokio-runtime-worker' panicked at /Users/runner/.cargo/registry/src/index.crates.io-1949cf8c6b5b557f/lance-encoding-0.30.0/src/data.rs:453:9:\n",
      "attempt to divide by zero\n",
      "\n",
      "thread 'tokio-runtime-worker' panicked at /Users/runner/.cargo/registry/src/index.crates.io-1949cf8c6b5b557f/lance-encoding-0.30.0/src/data.rs:453:9:\n",
      "attempt to divide by zero\n",
      "\n",
      "thread 'tokio-runtime-worker' panicked at /Users/runner/.cargo/registry/src/index.crates.io-1949cf8c6b5b557f/lance-encoding-0.30.0/src/decoder.rs:1508:65:\n",
      "called `Result::unwrap()` on an `Err` value: JoinError::Panic(Id(65152), \"attempt to divide by zero\", ...)\n"
     ]
    },
    {
     "data": {
      "text/html": [
       "<pre style=\"white-space:pre;overflow-x:auto;line-height:normal;font-family:Menlo,'DejaVu Sans Mono',consolas,'Courier New',monospace\"><span style=\"color: #808000; text-decoration-color: #808000\">WARNING </span> Expected embedding dimension <span style=\"color: #008080; text-decoration-color: #008080; font-weight: bold\">4096</span>, but got <span style=\"color: #008080; text-decoration-color: #008080; font-weight: bold\">1024</span>                                                           \n",
       "</pre>\n"
      ],
      "text/plain": [
       "\u001b[33mWARNING \u001b[0m Expected embedding dimension \u001b[1;36m4096\u001b[0m, but got \u001b[1;36m1024\u001b[0m                                                           \n"
      ]
     },
     "metadata": {},
     "output_type": "display_data"
    },
    {
     "name": "stderr",
     "output_type": "stream",
     "text": [
      "\n",
      "thread 'tokio-runtime-worker' panicked at /Users/runner/.cargo/registry/src/index.crates.io-1949cf8c6b5b557f/lance-encoding-0.30.0/src/data.rs:453:9:\n",
      "attempt to divide by zero\n",
      "\n",
      "thread 'tokio-runtime-worker' panicked at /Users/runner/.cargo/registry/src/index.crates.io-1949cf8c6b5b557f/lance-encoding-0.30.0/src/data.rs:453:9:\n",
      "attempt to divide by zero\n",
      "\n",
      "thread 'tokio-runtime-worker' panicked at /Users/runner/.cargo/registry/src/index.crates.io-1949cf8c6b5b557f/lance-encoding-0.30.0/src/data.rs:453:9:\n",
      "attempt to divide by zero\n",
      "\n",
      "thread 'tokio-runtime-worker' panicked at /Users/runner/.cargo/registry/src/index.crates.io-1949cf8c6b5b557f/lance-encoding-0.30.0/src/data.rs:453:9:\n",
      "attempt to divide by zero\n",
      "\n",
      "thread 'tokio-runtime-worker' panicked at /Users/runner/.cargo/registry/src/index.crates.io-1949cf8c6b5b557f/lance-encoding-0.30.0/src/data.rs:453:9:\n",
      "attempt to divide by zero\n",
      "\n",
      "thread 'tokio-runtime-worker' panicked at /Users/runner/.cargo/registry/src/index.crates.io-1949cf8c6b5b557f/lance-encoding-0.30.0/src/data.rs:453:9:\n",
      "attempt to divide by zero\n",
      "\n",
      "thread 'tokio-runtime-worker' panicked at /Users/runner/.cargo/registry/src/index.crates.io-1949cf8c6b5b557f/lance-encoding-0.30.0/src/decoder.rs:1508:65:\n",
      "called `Result::unwrap()` on an `Err` value: JoinError::Panic(Id(65354), \"attempt to divide by zero\", ...)\n"
     ]
    },
    {
     "data": {
      "text/html": [
       "<pre style=\"white-space:pre;overflow-x:auto;line-height:normal;font-family:Menlo,'DejaVu Sans Mono',consolas,'Courier New',monospace\"><span style=\"color: #808000; text-decoration-color: #808000\">WARNING </span> Expected embedding dimension <span style=\"color: #008080; text-decoration-color: #008080; font-weight: bold\">4096</span>, but got <span style=\"color: #008080; text-decoration-color: #008080; font-weight: bold\">1024</span>                                                           \n",
       "</pre>\n"
      ],
      "text/plain": [
       "\u001b[33mWARNING \u001b[0m Expected embedding dimension \u001b[1;36m4096\u001b[0m, but got \u001b[1;36m1024\u001b[0m                                                           \n"
      ]
     },
     "metadata": {},
     "output_type": "display_data"
    },
    {
     "name": "stderr",
     "output_type": "stream",
     "text": [
      "\n",
      "thread 'tokio-runtime-worker' panicked at /Users/runner/.cargo/registry/src/index.crates.io-1949cf8c6b5b557f/lance-encoding-0.30.0/src/data.rs:453:9:\n",
      "attempt to divide by zero\n",
      "\n",
      "thread 'tokio-runtime-worker' panicked at /Users/runner/.cargo/registry/src/index.crates.io-1949cf8c6b5b557f/lance-encoding-0.30.0/src/data.rs:453:9:\n",
      "attempt to divide by zero\n",
      "\n",
      "thread 'tokio-runtime-worker' panicked at /Users/runner/.cargo/registry/src/index.crates.io-1949cf8c6b5b557f/lance-encoding-0.30.0/src/data.rs:453:9:\n",
      "attempt to divide by zero\n",
      "\n",
      "thread 'tokio-runtime-worker' panicked at /Users/runner/.cargo/registry/src/index.crates.io-1949cf8c6b5b557f/lance-encoding-0.30.0/src/decoder.rs:1508:65:\n",
      "called `Result::unwrap()` on an `Err` value: JoinError::Panic(Id(65516), \"attempt to divide by zero\", ...)\n",
      "\n",
      "thread 'tokio-runtime-worker' panicked at /Users/runner/.cargo/registry/src/index.crates.io-1949cf8c6b5b557f/lance-encoding-0.30.0/src/data.rs:453:9:\n",
      "attempt to divide by zero\n",
      "\n",
      "thread 'tokio-runtime-worker' panicked at /Users/runner/.cargo/registry/src/index.crates.io-1949cf8c6b5b557f/lance-encoding-0.30.0/src/data.rs:453:9:\n",
      "attempt to divide by zero\n",
      "\n",
      "thread 'tokio-runtime-worker' panicked at /Users/runner/.cargo/registry/src/index.crates.io-1949cf8c6b5b557f/lance-encoding-0.30.0/src/data.rs:453:9:\n",
      "attempt to divide by zero\n"
     ]
    },
    {
     "data": {
      "text/html": [
       "<pre style=\"white-space:pre;overflow-x:auto;line-height:normal;font-family:Menlo,'DejaVu Sans Mono',consolas,'Courier New',monospace\"><span style=\"color: #808000; text-decoration-color: #808000\">WARNING </span> Expected embedding dimension <span style=\"color: #008080; text-decoration-color: #008080; font-weight: bold\">4096</span>, but got <span style=\"color: #008080; text-decoration-color: #008080; font-weight: bold\">1024</span>                                                           \n",
       "</pre>\n"
      ],
      "text/plain": [
       "\u001b[33mWARNING \u001b[0m Expected embedding dimension \u001b[1;36m4096\u001b[0m, but got \u001b[1;36m1024\u001b[0m                                                           \n"
      ]
     },
     "metadata": {},
     "output_type": "display_data"
    },
    {
     "name": "stderr",
     "output_type": "stream",
     "text": [
      "\n",
      "thread 'tokio-runtime-worker' panicked at /Users/runner/.cargo/registry/src/index.crates.io-1949cf8c6b5b557f/lance-encoding-0.30.0/src/data.rs:453:9:\n",
      "attempt to divide by zero\n",
      "\n",
      "thread 'tokio-runtime-worker' panicked at /Users/runner/.cargo/registry/src/index.crates.io-1949cf8c6b5b557f/lance-encoding-0.30.0/src/data.rs:453:9:\n",
      "attempt to divide by zero\n",
      "\n",
      "thread 'tokio-runtime-worker' panicked at /Users/runner/.cargo/registry/src/index.crates.io-1949cf8c6b5b557f/lance-encoding-0.30.0/src/data.rs:453:9:\n",
      "attempt to divide by zero\n",
      "\n",
      "thread 'tokio-runtime-worker' panicked at /Users/runner/.cargo/registry/src/index.crates.io-1949cf8c6b5b557f/lance-encoding-0.30.0/src/decoder.rs:1508:65:\n",
      "called `Result::unwrap()` on an `Err` value: JoinError::Panic(Id(65702), \"attempt to divide by zero\", ...)\n"
     ]
    },
    {
     "data": {
      "text/html": [
       "<pre style=\"white-space:pre;overflow-x:auto;line-height:normal;font-family:Menlo,'DejaVu Sans Mono',consolas,'Courier New',monospace\"><span style=\"color: #808000; text-decoration-color: #808000\">WARNING </span> Expected embedding dimension <span style=\"color: #008080; text-decoration-color: #008080; font-weight: bold\">4096</span>, but got <span style=\"color: #008080; text-decoration-color: #008080; font-weight: bold\">1024</span>                                                           \n",
       "</pre>\n"
      ],
      "text/plain": [
       "\u001b[33mWARNING \u001b[0m Expected embedding dimension \u001b[1;36m4096\u001b[0m, but got \u001b[1;36m1024\u001b[0m                                                           \n"
      ]
     },
     "metadata": {},
     "output_type": "display_data"
    },
    {
     "name": "stderr",
     "output_type": "stream",
     "text": [
      "\n",
      "thread 'tokio-runtime-worker' panicked at /Users/runner/.cargo/registry/src/index.crates.io-1949cf8c6b5b557f/lance-encoding-0.30.0/src/data.rs:453:9:\n",
      "attempt to divide by zero\n",
      "\n",
      "thread 'tokio-runtime-worker' panicked at /Users/runner/.cargo/registry/src/index.crates.io-1949cf8c6b5b557f/lance-encoding-0.30.0/src/data.rs:453:9:\n",
      "attempt to divide by zero\n",
      "\n",
      "thread 'tokio-runtime-worker' panicked at /Users/runner/.cargo/registry/src/index.crates.io-1949cf8c6b5b557f/lance-encoding-0.30.0/src/decoder.rs:1508:65:\n",
      "called `Result::unwrap()` on an `Err` value: JoinError::Panic(Id(65848), \"attempt to divide by zero\", ...)\n",
      "\n",
      "thread 'tokio-runtime-worker' panicked at /Users/runner/.cargo/registry/src/index.crates.io-1949cf8c6b5b557f/lance-encoding-0.30.0/src/data.rs:453:9:\n",
      "attempt to divide by zero\n"
     ]
    },
    {
     "data": {
      "text/html": [
       "<pre style=\"white-space:pre;overflow-x:auto;line-height:normal;font-family:Menlo,'DejaVu Sans Mono',consolas,'Courier New',monospace\"><span style=\"color: #808000; text-decoration-color: #808000\">WARNING </span> Expected embedding dimension <span style=\"color: #008080; text-decoration-color: #008080; font-weight: bold\">4096</span>, but got <span style=\"color: #008080; text-decoration-color: #008080; font-weight: bold\">1024</span>                                                           \n",
       "</pre>\n"
      ],
      "text/plain": [
       "\u001b[33mWARNING \u001b[0m Expected embedding dimension \u001b[1;36m4096\u001b[0m, but got \u001b[1;36m1024\u001b[0m                                                           \n"
      ]
     },
     "metadata": {},
     "output_type": "display_data"
    },
    {
     "name": "stderr",
     "output_type": "stream",
     "text": [
      "\n",
      "thread 'tokio-runtime-worker' panicked at /Users/runner/.cargo/registry/src/index.crates.io-1949cf8c6b5b557f/lance-encoding-0.30.0/src/data.rs:453:9:\n",
      "attempt to divide by zero\n",
      "\n",
      "thread 'tokio-runtime-worker' panicked at /Users/runner/.cargo/registry/src/index.crates.io-1949cf8c6b5b557f/lance-encoding-0.30.0/src/data.rs:453:9:\n",
      "attempt to divide by zero\n",
      "\n",
      "thread 'tokio-runtime-worker' panicked at /Users/runner/.cargo/registry/src/index.crates.io-1949cf8c6b5b557f/lance-encoding-0.30.0/src/decoder.rs:1508:65:\n",
      "called `Result::unwrap()` on an `Err` value: JoinError::Panic(Id(66005), \"attempt to divide by zero\", ...)\n"
     ]
    },
    {
     "data": {
      "text/html": [
       "<pre style=\"white-space:pre;overflow-x:auto;line-height:normal;font-family:Menlo,'DejaVu Sans Mono',consolas,'Courier New',monospace\"><span style=\"color: #808000; text-decoration-color: #808000\">WARNING </span> Expected embedding dimension <span style=\"color: #008080; text-decoration-color: #008080; font-weight: bold\">4096</span>, but got <span style=\"color: #008080; text-decoration-color: #008080; font-weight: bold\">1024</span>                                                           \n",
       "</pre>\n"
      ],
      "text/plain": [
       "\u001b[33mWARNING \u001b[0m Expected embedding dimension \u001b[1;36m4096\u001b[0m, but got \u001b[1;36m1024\u001b[0m                                                           \n"
      ]
     },
     "metadata": {},
     "output_type": "display_data"
    },
    {
     "name": "stderr",
     "output_type": "stream",
     "text": [
      "\n",
      "thread 'tokio-runtime-worker' panicked at /Users/runner/.cargo/registry/src/index.crates.io-1949cf8c6b5b557f/lance-encoding-0.30.0/src/data.rs:453:9:\n",
      "attempt to divide by zero\n",
      "\n",
      "thread 'tokio-runtime-worker' panicked at /Users/runner/.cargo/registry/src/index.crates.io-1949cf8c6b5b557f/lance-encoding-0.30.0/src/decoder.rs:1508:65:\n",
      "called `Result::unwrap()` on an `Err` value: JoinError::Panic(Id(66146), \"attempt to divide by zero\", ...)\n"
     ]
    },
    {
     "data": {
      "text/html": [
       "<pre style=\"white-space:pre;overflow-x:auto;line-height:normal;font-family:Menlo,'DejaVu Sans Mono',consolas,'Courier New',monospace\"><span style=\"color: #808000; text-decoration-color: #808000\">WARNING </span> Expected embedding dimension <span style=\"color: #008080; text-decoration-color: #008080; font-weight: bold\">4096</span>, but got <span style=\"color: #008080; text-decoration-color: #008080; font-weight: bold\">1024</span>                                                           \n",
       "</pre>\n"
      ],
      "text/plain": [
       "\u001b[33mWARNING \u001b[0m Expected embedding dimension \u001b[1;36m4096\u001b[0m, but got \u001b[1;36m1024\u001b[0m                                                           \n"
      ]
     },
     "metadata": {},
     "output_type": "display_data"
    },
    {
     "name": "stderr",
     "output_type": "stream",
     "text": [
      "\n",
      "thread 'tokio-runtime-worker' panicked at /Users/runner/.cargo/registry/src/index.crates.io-1949cf8c6b5b557f/lance-encoding-0.30.0/src/data.rs:453:9:\n",
      "attempt to divide by zero\n",
      "\n",
      "thread 'tokio-runtime-worker' panicked at /Users/runner/.cargo/registry/src/index.crates.io-1949cf8c6b5b557f/lance-encoding-0.30.0/src/data.rs:453:9:\n",
      "attempt to divide by zero\n",
      "\n",
      "thread 'tokio-runtime-worker' panicked at /Users/runner/.cargo/registry/src/index.crates.io-1949cf8c6b5b557f/lance-encoding-0.30.0/src/data.rs:453:9:\n",
      "attempt to divide by zero\n",
      "\n",
      "thread 'tokio-runtime-worker' panicked at /Users/runner/.cargo/registry/src/index.crates.io-1949cf8c6b5b557f/lance-encoding-0.30.0/src/data.rs:453:9:\n",
      "attempt to divide by zero\n",
      "\n",
      "thread 'tokio-runtime-worker' panicked at /Users/runner/.cargo/registry/src/index.crates.io-1949cf8c6b5b557f/lance-encoding-0.30.0/src/data.rs:453:9:\n",
      "attempt to divide by zero\n",
      "\n",
      "thread 'tokio-runtime-worker' panicked at /Users/runner/.cargo/registry/src/index.crates.io-1949cf8c6b5b557f/lance-encoding-0.30.0/src/decoder.rs:1508:65:\n",
      "called `Result::unwrap()` on an `Err` value: JoinError::Panic(Id(66340), \"attempt to divide by zero\", ...)\n",
      "\n",
      "thread 'tokio-runtime-worker' panicked at /Users/runner/.cargo/registry/src/index.crates.io-1949cf8c6b5b557f/lance-encoding-0.30.0/src/data.rs:453:9:\n",
      "attempt to divide by zero\n"
     ]
    },
    {
     "data": {
      "text/html": [
       "<pre style=\"white-space:pre;overflow-x:auto;line-height:normal;font-family:Menlo,'DejaVu Sans Mono',consolas,'Courier New',monospace\"><span style=\"color: #808000; text-decoration-color: #808000\">WARNING </span> Expected embedding dimension <span style=\"color: #008080; text-decoration-color: #008080; font-weight: bold\">4096</span>, but got <span style=\"color: #008080; text-decoration-color: #008080; font-weight: bold\">1024</span>                                                           \n",
       "</pre>\n"
      ],
      "text/plain": [
       "\u001b[33mWARNING \u001b[0m Expected embedding dimension \u001b[1;36m4096\u001b[0m, but got \u001b[1;36m1024\u001b[0m                                                           \n"
      ]
     },
     "metadata": {},
     "output_type": "display_data"
    },
    {
     "name": "stderr",
     "output_type": "stream",
     "text": [
      "\n",
      "thread 'tokio-runtime-worker' panicked at /Users/runner/.cargo/registry/src/index.crates.io-1949cf8c6b5b557f/lance-encoding-0.30.0/src/data.rs:453:9:\n",
      "attempt to divide by zero\n",
      "\n",
      "thread 'tokio-runtime-worker' panicked at /Users/runner/.cargo/registry/src/index.crates.io-1949cf8c6b5b557f/lance-encoding-0.30.0/src/data.rs:453:9:\n",
      "attempt to divide by zero\n",
      "\n",
      "thread 'tokio-runtime-worker' panicked at /Users/runner/.cargo/registry/src/index.crates.io-1949cf8c6b5b557f/lance-encoding-0.30.0/src/data.rs:453:9:\n",
      "attempt to divide by zero\n",
      "\n",
      "thread 'tokio-runtime-worker' panicked at /Users/runner/.cargo/registry/src/index.crates.io-1949cf8c6b5b557f/lance-encoding-0.30.0/src/decoder.rs:1508:65:\n",
      "called `Result::unwrap()` on an `Err` value: JoinError::Panic(Id(66474), \"attempt to divide by zero\", ...)\n"
     ]
    },
    {
     "data": {
      "text/html": [
       "<pre style=\"white-space:pre;overflow-x:auto;line-height:normal;font-family:Menlo,'DejaVu Sans Mono',consolas,'Courier New',monospace\"><span style=\"color: #808000; text-decoration-color: #808000\">WARNING </span> Expected embedding dimension <span style=\"color: #008080; text-decoration-color: #008080; font-weight: bold\">4096</span>, but got <span style=\"color: #008080; text-decoration-color: #008080; font-weight: bold\">1024</span>                                                           \n",
       "</pre>\n"
      ],
      "text/plain": [
       "\u001b[33mWARNING \u001b[0m Expected embedding dimension \u001b[1;36m4096\u001b[0m, but got \u001b[1;36m1024\u001b[0m                                                           \n"
      ]
     },
     "metadata": {},
     "output_type": "display_data"
    },
    {
     "name": "stderr",
     "output_type": "stream",
     "text": [
      "\n",
      "thread 'tokio-runtime-worker' panicked at /Users/runner/.cargo/registry/src/index.crates.io-1949cf8c6b5b557f/lance-encoding-0.30.0/src/data.rs:453:9:\n",
      "attempt to divide by zero\n",
      "\n",
      "thread 'tokio-runtime-worker' panicked at /Users/runner/.cargo/registry/src/index.crates.io-1949cf8c6b5b557f/lance-encoding-0.30.0/src/data.rs:453:9:\n",
      "attempt to divide by zero\n",
      "\n",
      "thread 'tokio-runtime-worker' panicked at /Users/runner/.cargo/registry/src/index.crates.io-1949cf8c6b5b557f/lance-encoding-0.30.0/src/data.rs:453:9:\n",
      "attempt to divide by zero\n",
      "\n",
      "thread 'tokio-runtime-worker' panicked at /Users/runner/.cargo/registry/src/index.crates.io-1949cf8c6b5b557f/lance-encoding-0.30.0/src/data.rs:453:9:\n",
      "attempt to divide by zero\n",
      "\n",
      "thread 'tokio-runtime-worker' panicked at /Users/runner/.cargo/registry/src/index.crates.io-1949cf8c6b5b557f/lance-encoding-0.30.0/src/decoder.rs:1508:65:\n",
      "called `Result::unwrap()` on an `Err` value: JoinError::Panic(Id(66628), \"attempt to divide by zero\", ...)\n"
     ]
    },
    {
     "data": {
      "text/html": [
       "<pre style=\"white-space:pre;overflow-x:auto;line-height:normal;font-family:Menlo,'DejaVu Sans Mono',consolas,'Courier New',monospace\"><span style=\"color: #808000; text-decoration-color: #808000\">WARNING </span> Expected embedding dimension <span style=\"color: #008080; text-decoration-color: #008080; font-weight: bold\">4096</span>, but got <span style=\"color: #008080; text-decoration-color: #008080; font-weight: bold\">1024</span>                                                           \n",
       "</pre>\n"
      ],
      "text/plain": [
       "\u001b[33mWARNING \u001b[0m Expected embedding dimension \u001b[1;36m4096\u001b[0m, but got \u001b[1;36m1024\u001b[0m                                                           \n"
      ]
     },
     "metadata": {},
     "output_type": "display_data"
    },
    {
     "name": "stderr",
     "output_type": "stream",
     "text": [
      "\n",
      "thread 'tokio-runtime-worker' panicked at /Users/runner/.cargo/registry/src/index.crates.io-1949cf8c6b5b557f/lance-encoding-0.30.0/src/data.rs:453:9:\n",
      "attempt to divide by zero\n",
      "\n",
      "thread 'tokio-runtime-worker' panicked at /Users/runner/.cargo/registry/src/index.crates.io-1949cf8c6b5b557f/lance-encoding-0.30.0/src/data.rs:453:9:\n",
      "attempt to divide by zero\n",
      "\n",
      "thread 'tokio-runtime-worker' panicked at /Users/runner/.cargo/registry/src/index.crates.io-1949cf8c6b5b557f/lance-encoding-0.30.0/src/data.rs:453:9:\n",
      "attempt to divide by zero\n",
      "\n",
      "thread 'tokio-runtime-worker' panicked at /Users/runner/.cargo/registry/src/index.crates.io-1949cf8c6b5b557f/lance-encoding-0.30.0/src/decoder.rs:1508:65:\n",
      "called `Result::unwrap()` on an `Err` value: JoinError::Panic(Id(66812), \"attempt to divide by zero\", ...)\n",
      "\n",
      "thread 'tokio-runtime-worker' panicked at /Users/runner/.cargo/registry/src/index.crates.io-1949cf8c6b5b557f/lance-encoding-0.30.0/src/data.rs:453:9:\n",
      "attempt to divide by zero\n",
      "\n",
      "thread 'tokio-runtime-worker' panicked at /Users/runner/.cargo/registry/src/index.crates.io-1949cf8c6b5b557f/lance-encoding-0.30.0/src/data.rs:453:9:\n",
      "attempt to divide by zero\n",
      "\n",
      "thread 'tokio-runtime-worker' panicked at /Users/runner/.cargo/registry/src/index.crates.io-1949cf8c6b5b557f/lance-encoding-0.30.0/src/data.rs:453:9:\n",
      "attempt to divide by zero\n"
     ]
    },
    {
     "data": {
      "text/html": [
       "<pre style=\"white-space:pre;overflow-x:auto;line-height:normal;font-family:Menlo,'DejaVu Sans Mono',consolas,'Courier New',monospace\"><span style=\"color: #808000; text-decoration-color: #808000\">WARNING </span> Expected embedding dimension <span style=\"color: #008080; text-decoration-color: #008080; font-weight: bold\">4096</span>, but got <span style=\"color: #008080; text-decoration-color: #008080; font-weight: bold\">1024</span>                                                           \n",
       "</pre>\n"
      ],
      "text/plain": [
       "\u001b[33mWARNING \u001b[0m Expected embedding dimension \u001b[1;36m4096\u001b[0m, but got \u001b[1;36m1024\u001b[0m                                                           \n"
      ]
     },
     "metadata": {},
     "output_type": "display_data"
    },
    {
     "name": "stderr",
     "output_type": "stream",
     "text": [
      "\n",
      "thread 'tokio-runtime-worker' panicked at /Users/runner/.cargo/registry/src/index.crates.io-1949cf8c6b5b557f/lance-encoding-0.30.0/src/data.rs:453:9:\n",
      "attempt to divide by zero\n",
      "\n",
      "thread 'tokio-runtime-worker' panicked at /Users/runner/.cargo/registry/src/index.crates.io-1949cf8c6b5b557f/lance-encoding-0.30.0/src/decoder.rs:1508:65:\n",
      "called `Result::unwrap()` on an `Err` value: JoinError::Panic(Id(66979), \"attempt to divide by zero\", ...)\n"
     ]
    },
    {
     "data": {
      "text/html": [
       "<pre style=\"white-space:pre;overflow-x:auto;line-height:normal;font-family:Menlo,'DejaVu Sans Mono',consolas,'Courier New',monospace\"><span style=\"color: #808000; text-decoration-color: #808000\">WARNING </span> Expected embedding dimension <span style=\"color: #008080; text-decoration-color: #008080; font-weight: bold\">4096</span>, but got <span style=\"color: #008080; text-decoration-color: #008080; font-weight: bold\">1024</span>                                                           \n",
       "</pre>\n"
      ],
      "text/plain": [
       "\u001b[33mWARNING \u001b[0m Expected embedding dimension \u001b[1;36m4096\u001b[0m, but got \u001b[1;36m1024\u001b[0m                                                           \n"
      ]
     },
     "metadata": {},
     "output_type": "display_data"
    },
    {
     "name": "stderr",
     "output_type": "stream",
     "text": [
      "\n",
      "thread 'tokio-runtime-worker' panicked at /Users/runner/.cargo/registry/src/index.crates.io-1949cf8c6b5b557f/lance-encoding-0.30.0/src/data.rs:453:9:\n",
      "attempt to divide by zero\n",
      "\n",
      "thread 'tokio-runtime-worker' panicked at /Users/runner/.cargo/registry/src/index.crates.io-1949cf8c6b5b557f/lance-encoding-0.30.0/src/data.rs:453:9:\n",
      "attempt to divide by zero\n",
      "\n",
      "thread 'tokio-runtime-worker' panicked at /Users/runner/.cargo/registry/src/index.crates.io-1949cf8c6b5b557f/lance-encoding-0.30.0/src/data.rs:453:9:\n",
      "attempt to divide by zero\n",
      "\n",
      "thread 'tokio-runtime-worker' panicked at /Users/runner/.cargo/registry/src/index.crates.io-1949cf8c6b5b557f/lance-encoding-0.30.0/src/data.rs:453:9:\n",
      "attempt to divide by zero\n",
      "\n",
      "thread 'tokio-runtime-worker' panicked at /Users/runner/.cargo/registry/src/index.crates.io-1949cf8c6b5b557f/lance-encoding-0.30.0/src/data.rs:453:9:\n",
      "attempt to divide by zero\n",
      "\n",
      "thread 'tokio-runtime-worker' panicked at /Users/runner/.cargo/registry/src/index.crates.io-1949cf8c6b5b557f/lance-encoding-0.30.0/src/data.rs:453:9:\n",
      "attempt to divide by zero\n",
      "\n",
      "thread 'tokio-runtime-worker' panicked at /Users/runner/.cargo/registry/src/index.crates.io-1949cf8c6b5b557f/lance-encoding-0.30.0/src/decoder.rs:1508:65:\n",
      "called `Result::unwrap()` on an `Err` value: JoinError::Panic(Id(67153), \"attempt to divide by zero\", ...)\n"
     ]
    },
    {
     "data": {
      "text/html": [
       "<pre style=\"white-space:pre;overflow-x:auto;line-height:normal;font-family:Menlo,'DejaVu Sans Mono',consolas,'Courier New',monospace\"><span style=\"color: #808000; text-decoration-color: #808000\">WARNING </span> Expected embedding dimension <span style=\"color: #008080; text-decoration-color: #008080; font-weight: bold\">4096</span>, but got <span style=\"color: #008080; text-decoration-color: #008080; font-weight: bold\">1024</span>                                                           \n",
       "</pre>\n"
      ],
      "text/plain": [
       "\u001b[33mWARNING \u001b[0m Expected embedding dimension \u001b[1;36m4096\u001b[0m, but got \u001b[1;36m1024\u001b[0m                                                           \n"
      ]
     },
     "metadata": {},
     "output_type": "display_data"
    },
    {
     "name": "stderr",
     "output_type": "stream",
     "text": [
      "\n",
      "thread 'tokio-runtime-worker' panicked at /Users/runner/.cargo/registry/src/index.crates.io-1949cf8c6b5b557f/lance-encoding-0.30.0/src/data.rs:453:9:\n",
      "attempt to divide by zero\n",
      "\n",
      "thread 'tokio-runtime-worker' panicked at /Users/runner/.cargo/registry/src/index.crates.io-1949cf8c6b5b557f/lance-encoding-0.30.0/src/data.rs:453:9:\n",
      "attempt to divide by zero\n",
      "\n",
      "thread 'tokio-runtime-worker' panicked at /Users/runner/.cargo/registry/src/index.crates.io-1949cf8c6b5b557f/lance-encoding-0.30.0/src/data.rs:453:9:\n",
      "attempt to divide by zero\n",
      "\n",
      "thread 'tokio-runtime-worker' panicked at /Users/runner/.cargo/registry/src/index.crates.io-1949cf8c6b5b557f/lance-encoding-0.30.0/src/decoder.rs:1508:65:\n",
      "called `Result::unwrap()` on an `Err` value: JoinError::Panic(Id(67304), \"attempt to divide by zero\", ...)\n"
     ]
    },
    {
     "data": {
      "text/html": [
       "<pre style=\"white-space:pre;overflow-x:auto;line-height:normal;font-family:Menlo,'DejaVu Sans Mono',consolas,'Courier New',monospace\"><span style=\"color: #808000; text-decoration-color: #808000\">WARNING </span> Expected embedding dimension <span style=\"color: #008080; text-decoration-color: #008080; font-weight: bold\">4096</span>, but got <span style=\"color: #008080; text-decoration-color: #008080; font-weight: bold\">1024</span>                                                           \n",
       "</pre>\n"
      ],
      "text/plain": [
       "\u001b[33mWARNING \u001b[0m Expected embedding dimension \u001b[1;36m4096\u001b[0m, but got \u001b[1;36m1024\u001b[0m                                                           \n"
      ]
     },
     "metadata": {},
     "output_type": "display_data"
    },
    {
     "name": "stderr",
     "output_type": "stream",
     "text": [
      "\n",
      "thread 'tokio-runtime-worker' panicked at /Users/runner/.cargo/registry/src/index.crates.io-1949cf8c6b5b557f/lance-encoding-0.30.0/src/data.rs:453:9:\n",
      "attempt to divide by zero\n",
      "\n",
      "thread 'tokio-runtime-worker' panicked at /Users/runner/.cargo/registry/src/index.crates.io-1949cf8c6b5b557f/lance-encoding-0.30.0/src/data.rs:453:9:\n",
      "attempt to divide by zero\n",
      "\n",
      "thread 'tokio-runtime-worker' panicked at /Users/runner/.cargo/registry/src/index.crates.io-1949cf8c6b5b557f/lance-encoding-0.30.0/src/data.rs:453:9:\n",
      "attempt to divide by zero\n",
      "\n",
      "thread 'tokio-runtime-worker' panicked at /Users/runner/.cargo/registry/src/index.crates.io-1949cf8c6b5b557f/lance-encoding-0.30.0/src/data.rs:453:9:\n",
      "attempt to divide by zero\n",
      "\n",
      "thread 'tokio-runtime-worker' panicked at /Users/runner/.cargo/registry/src/index.crates.io-1949cf8c6b5b557f/lance-encoding-0.30.0/src/data.rs:453:9:\n",
      "attempt to divide by zero\n",
      "\n",
      "thread 'tokio-runtime-worker' panicked at /Users/runner/.cargo/registry/src/index.crates.io-1949cf8c6b5b557f/lance-encoding-0.30.0/src/data.rs:453:9:\n",
      "attempt to divide by zero\n",
      "\n",
      "thread 'tokio-runtime-worker' panicked at /Users/runner/.cargo/registry/src/index.crates.io-1949cf8c6b5b557f/lance-encoding-0.30.0/src/decoder.rs:1508:65:\n",
      "called `Result::unwrap()` on an `Err` value: JoinError::Panic(Id(67486), \"attempt to divide by zero\", ...)\n"
     ]
    },
    {
     "data": {
      "text/html": [
       "<pre style=\"white-space:pre;overflow-x:auto;line-height:normal;font-family:Menlo,'DejaVu Sans Mono',consolas,'Courier New',monospace\"><span style=\"color: #808000; text-decoration-color: #808000\">WARNING </span> Expected embedding dimension <span style=\"color: #008080; text-decoration-color: #008080; font-weight: bold\">4096</span>, but got <span style=\"color: #008080; text-decoration-color: #008080; font-weight: bold\">1024</span>                                                           \n",
       "</pre>\n"
      ],
      "text/plain": [
       "\u001b[33mWARNING \u001b[0m Expected embedding dimension \u001b[1;36m4096\u001b[0m, but got \u001b[1;36m1024\u001b[0m                                                           \n"
      ]
     },
     "metadata": {},
     "output_type": "display_data"
    },
    {
     "name": "stderr",
     "output_type": "stream",
     "text": [
      "\n",
      "thread 'tokio-runtime-worker' panicked at /Users/runner/.cargo/registry/src/index.crates.io-1949cf8c6b5b557f/lance-encoding-0.30.0/src/data.rs:453:9:\n",
      "attempt to divide by zero\n",
      "\n",
      "thread 'tokio-runtime-worker' panicked at /Users/runner/.cargo/registry/src/index.crates.io-1949cf8c6b5b557f/lance-encoding-0.30.0/src/data.rs:453:9:\n",
      "attempt to divide by zero\n",
      "\n",
      "thread 'tokio-runtime-worker' panicked at /Users/runner/.cargo/registry/src/index.crates.io-1949cf8c6b5b557f/lance-encoding-0.30.0/src/data.rs:453:9:\n",
      "attempt to divide by zero\n",
      "\n",
      "thread 'tokio-runtime-worker' panicked at /Users/runner/.cargo/registry/src/index.crates.io-1949cf8c6b5b557f/lance-encoding-0.30.0/src/data.rs:453:9:\n",
      "attempt to divide by zero\n",
      "\n",
      "thread 'tokio-runtime-worker' panicked at /Users/runner/.cargo/registry/src/index.crates.io-1949cf8c6b5b557f/lance-encoding-0.30.0/src/data.rs:453:9:\n",
      "attempt to divide by zero\n",
      "\n",
      "thread 'tokio-runtime-worker' panicked at /Users/runner/.cargo/registry/src/index.crates.io-1949cf8c6b5b557f/lance-encoding-0.30.0/src/data.rs:453:9:\n",
      "attempt to divide by zero\n",
      "\n",
      "thread 'tokio-runtime-worker' panicked at /Users/runner/.cargo/registry/src/index.crates.io-1949cf8c6b5b557f/lance-encoding-0.30.0/src/decoder.rs:1508:65:\n",
      "called `Result::unwrap()` on an `Err` value: JoinError::Panic(Id(67672), \"attempt to divide by zero\", ...)\n"
     ]
    },
    {
     "data": {
      "text/html": [
       "<pre style=\"white-space:pre;overflow-x:auto;line-height:normal;font-family:Menlo,'DejaVu Sans Mono',consolas,'Courier New',monospace\"><span style=\"color: #808000; text-decoration-color: #808000\">WARNING </span> Expected embedding dimension <span style=\"color: #008080; text-decoration-color: #008080; font-weight: bold\">4096</span>, but got <span style=\"color: #008080; text-decoration-color: #008080; font-weight: bold\">1024</span>                                                           \n",
       "</pre>\n"
      ],
      "text/plain": [
       "\u001b[33mWARNING \u001b[0m Expected embedding dimension \u001b[1;36m4096\u001b[0m, but got \u001b[1;36m1024\u001b[0m                                                           \n"
      ]
     },
     "metadata": {},
     "output_type": "display_data"
    },
    {
     "name": "stderr",
     "output_type": "stream",
     "text": [
      "\n",
      "thread 'tokio-runtime-worker' panicked at /Users/runner/.cargo/registry/src/index.crates.io-1949cf8c6b5b557f/lance-encoding-0.30.0/src/data.rs:453:9:\n",
      "attempt to divide by zero\n",
      "\n",
      "thread 'tokio-runtime-worker' panicked at /Users/runner/.cargo/registry/src/index.crates.io-1949cf8c6b5b557f/lance-encoding-0.30.0/src/data.rs:453:9:\n",
      "attempt to divide by zero\n",
      "\n",
      "thread 'tokio-runtime-worker' panicked at /Users/runner/.cargo/registry/src/index.crates.io-1949cf8c6b5b557f/lance-encoding-0.30.0/src/data.rs:453:9:\n",
      "attempt to divide by zero\n",
      "\n",
      "thread 'tokio-runtime-worker' panicked at /Users/runner/.cargo/registry/src/index.crates.io-1949cf8c6b5b557f/lance-encoding-0.30.0/src/data.rs:453:9:\n",
      "attempt to divide by zero\n",
      "\n",
      "thread 'tokio-runtime-worker' panicked at /Users/runner/.cargo/registry/src/index.crates.io-1949cf8c6b5b557f/lance-encoding-0.30.0/src/decoder.rs:1508:65:\n",
      "called `Result::unwrap()` on an `Err` value: JoinError::Panic(Id(68083), \"attempt to divide by zero\", ...)\n"
     ]
    },
    {
     "data": {
      "text/html": [
       "<pre style=\"white-space:pre;overflow-x:auto;line-height:normal;font-family:Menlo,'DejaVu Sans Mono',consolas,'Courier New',monospace\"><span style=\"color: #808000; text-decoration-color: #808000\">WARNING </span> Expected embedding dimension <span style=\"color: #008080; text-decoration-color: #008080; font-weight: bold\">4096</span>, but got <span style=\"color: #008080; text-decoration-color: #008080; font-weight: bold\">1024</span>                                                           \n",
       "</pre>\n"
      ],
      "text/plain": [
       "\u001b[33mWARNING \u001b[0m Expected embedding dimension \u001b[1;36m4096\u001b[0m, but got \u001b[1;36m1024\u001b[0m                                                           \n"
      ]
     },
     "metadata": {},
     "output_type": "display_data"
    },
    {
     "name": "stderr",
     "output_type": "stream",
     "text": [
      "\n",
      "thread 'tokio-runtime-worker' panicked at /Users/runner/.cargo/registry/src/index.crates.io-1949cf8c6b5b557f/lance-encoding-0.30.0/src/data.rs:453:9:\n",
      "attempt to divide by zero\n",
      "\n",
      "thread 'tokio-runtime-worker' panicked at /Users/runner/.cargo/registry/src/index.crates.io-1949cf8c6b5b557f/lance-encoding-0.30.0/src/decoder.rs:1508:65:\n",
      "called `Result::unwrap()` on an `Err` value: JoinError::Panic(Id(68229), \"attempt to divide by zero\", ...)\n"
     ]
    },
    {
     "data": {
      "text/html": [
       "<pre style=\"white-space:pre;overflow-x:auto;line-height:normal;font-family:Menlo,'DejaVu Sans Mono',consolas,'Courier New',monospace\"><span style=\"color: #808000; text-decoration-color: #808000\">WARNING </span> Expected embedding dimension <span style=\"color: #008080; text-decoration-color: #008080; font-weight: bold\">4096</span>, but got <span style=\"color: #008080; text-decoration-color: #008080; font-weight: bold\">1024</span>                                                           \n",
       "</pre>\n"
      ],
      "text/plain": [
       "\u001b[33mWARNING \u001b[0m Expected embedding dimension \u001b[1;36m4096\u001b[0m, but got \u001b[1;36m1024\u001b[0m                                                           \n"
      ]
     },
     "metadata": {},
     "output_type": "display_data"
    },
    {
     "name": "stderr",
     "output_type": "stream",
     "text": [
      "\n",
      "thread 'tokio-runtime-worker' panicked at /Users/runner/.cargo/registry/src/index.crates.io-1949cf8c6b5b557f/lance-encoding-0.30.0/src/data.rs:453:9:\n",
      "attempt to divide by zero\n",
      "\n",
      "thread 'tokio-runtime-worker' panicked at /Users/runner/.cargo/registry/src/index.crates.io-1949cf8c6b5b557f/lance-encoding-0.30.0/src/data.rs:453:9:\n",
      "attempt to divide by zero\n",
      "\n",
      "thread 'tokio-runtime-worker' panicked at /Users/runner/.cargo/registry/src/index.crates.io-1949cf8c6b5b557f/lance-encoding-0.30.0/src/data.rs:453:9:\n",
      "attempt to divide by zero\n",
      "\n",
      "thread 'tokio-runtime-worker' panicked at /Users/runner/.cargo/registry/src/index.crates.io-1949cf8c6b5b557f/lance-encoding-0.30.0/src/decoder.rs:1508:65:\n",
      "called `Result::unwrap()` on an `Err` value: JoinError::Panic(Id(68388), \"attempt to divide by zero\", ...)\n",
      "\n",
      "thread 'tokio-runtime-worker' panicked at /Users/runner/.cargo/registry/src/index.crates.io-1949cf8c6b5b557f/lance-encoding-0.30.0/src/data.rs:453:9:\n",
      "attempt to divide by zero\n",
      "\n",
      "thread 'tokio-runtime-worker' panicked at /Users/runner/.cargo/registry/src/index.crates.io-1949cf8c6b5b557f/lance-encoding-0.30.0/src/data.rs:453:9:\n",
      "attempt to divide by zero\n",
      "\n",
      "thread 'tokio-runtime-worker' panicked at /Users/runner/.cargo/registry/src/index.crates.io-1949cf8c6b5b557f/lance-encoding-0.30.0/src/data.rs:453:9:\n",
      "attempt to divide by zero\n"
     ]
    },
    {
     "data": {
      "text/html": [
       "<pre style=\"white-space:pre;overflow-x:auto;line-height:normal;font-family:Menlo,'DejaVu Sans Mono',consolas,'Courier New',monospace\"><span style=\"color: #808000; text-decoration-color: #808000\">WARNING </span> Expected embedding dimension <span style=\"color: #008080; text-decoration-color: #008080; font-weight: bold\">4096</span>, but got <span style=\"color: #008080; text-decoration-color: #008080; font-weight: bold\">1024</span>                                                           \n",
       "</pre>\n"
      ],
      "text/plain": [
       "\u001b[33mWARNING \u001b[0m Expected embedding dimension \u001b[1;36m4096\u001b[0m, but got \u001b[1;36m1024\u001b[0m                                                           \n"
      ]
     },
     "metadata": {},
     "output_type": "display_data"
    },
    {
     "name": "stderr",
     "output_type": "stream",
     "text": [
      "\n",
      "thread 'tokio-runtime-worker' panicked at /Users/runner/.cargo/registry/src/index.crates.io-1949cf8c6b5b557f/lance-encoding-0.30.0/src/data.rs:453:9:\n",
      "attempt to divide by zero\n",
      "\n",
      "thread 'tokio-runtime-worker' panicked at /Users/runner/.cargo/registry/src/index.crates.io-1949cf8c6b5b557f/lance-encoding-0.30.0/src/data.rs:453:9:\n",
      "attempt to divide by zero\n",
      "\n",
      "thread 'tokio-runtime-worker' panicked at /Users/runner/.cargo/registry/src/index.crates.io-1949cf8c6b5b557f/lance-encoding-0.30.0/src/data.rs:453:9:\n",
      "attempt to divide by zero\n",
      "\n",
      "thread 'tokio-runtime-worker' panicked at /Users/runner/.cargo/registry/src/index.crates.io-1949cf8c6b5b557f/lance-encoding-0.30.0/src/decoder.rs:1508:65:\n",
      "called `Result::unwrap()` on an `Err` value: JoinError::Panic(Id(68561), \"attempt to divide by zero\", ...)\n"
     ]
    },
    {
     "data": {
      "text/html": [
       "<pre style=\"white-space:pre;overflow-x:auto;line-height:normal;font-family:Menlo,'DejaVu Sans Mono',consolas,'Courier New',monospace\"><span style=\"color: #808000; text-decoration-color: #808000\">WARNING </span> Expected embedding dimension <span style=\"color: #008080; text-decoration-color: #008080; font-weight: bold\">4096</span>, but got <span style=\"color: #008080; text-decoration-color: #008080; font-weight: bold\">1024</span>                                                           \n",
       "</pre>\n"
      ],
      "text/plain": [
       "\u001b[33mWARNING \u001b[0m Expected embedding dimension \u001b[1;36m4096\u001b[0m, but got \u001b[1;36m1024\u001b[0m                                                           \n"
      ]
     },
     "metadata": {},
     "output_type": "display_data"
    },
    {
     "name": "stderr",
     "output_type": "stream",
     "text": [
      "\n",
      "thread 'tokio-runtime-worker' panicked at /Users/runner/.cargo/registry/src/index.crates.io-1949cf8c6b5b557f/lance-encoding-0.30.0/src/data.rs:453:9:\n",
      "attempt to divide by zero\n",
      "\n",
      "thread 'tokio-runtime-worker' panicked at /Users/runner/.cargo/registry/src/index.crates.io-1949cf8c6b5b557f/lance-encoding-0.30.0/src/decoder.rs:1508:65:\n",
      "called `Result::unwrap()` on an `Err` value: JoinError::Panic(Id(68722), \"attempt to divide by zero\", ...)\n"
     ]
    },
    {
     "data": {
      "text/html": [
       "<pre style=\"white-space:pre;overflow-x:auto;line-height:normal;font-family:Menlo,'DejaVu Sans Mono',consolas,'Courier New',monospace\"><span style=\"color: #808000; text-decoration-color: #808000\">WARNING </span> Expected embedding dimension <span style=\"color: #008080; text-decoration-color: #008080; font-weight: bold\">4096</span>, but got <span style=\"color: #008080; text-decoration-color: #008080; font-weight: bold\">1024</span>                                                           \n",
       "</pre>\n"
      ],
      "text/plain": [
       "\u001b[33mWARNING \u001b[0m Expected embedding dimension \u001b[1;36m4096\u001b[0m, but got \u001b[1;36m1024\u001b[0m                                                           \n"
      ]
     },
     "metadata": {},
     "output_type": "display_data"
    },
    {
     "name": "stderr",
     "output_type": "stream",
     "text": [
      "\n",
      "thread 'tokio-runtime-worker' panicked at /Users/runner/.cargo/registry/src/index.crates.io-1949cf8c6b5b557f/lance-encoding-0.30.0/src/data.rs:453:9:\n",
      "attempt to divide by zero\n",
      "\n",
      "thread 'tokio-runtime-worker' panicked at /Users/runner/.cargo/registry/src/index.crates.io-1949cf8c6b5b557f/lance-encoding-0.30.0/src/data.rs:453:9:\n",
      "attempt to divide by zero\n",
      "\n",
      "thread 'tokio-runtime-worker' panicked at /Users/runner/.cargo/registry/src/index.crates.io-1949cf8c6b5b557f/lance-encoding-0.30.0/src/data.rs:453:9:\n",
      "attempt to divide by zero\n",
      "\n",
      "thread 'tokio-runtime-worker' panicked at /Users/runner/.cargo/registry/src/index.crates.io-1949cf8c6b5b557f/lance-encoding-0.30.0/src/data.rs:453:9:\n",
      "attempt to divide by zero\n",
      "\n",
      "thread 'tokio-runtime-worker' panicked at /Users/runner/.cargo/registry/src/index.crates.io-1949cf8c6b5b557f/lance-encoding-0.30.0/src/data.rs:453:9:\n",
      "attempt to divide by zero\n",
      "\n",
      "thread 'tokio-runtime-worker' panicked at /Users/runner/.cargo/registry/src/index.crates.io-1949cf8c6b5b557f/lance-encoding-0.30.0/src/decoder.rs:1508:65:\n",
      "called `Result::unwrap()` on an `Err` value: JoinError::Panic(Id(68909), \"attempt to divide by zero\", ...)\n",
      "\n",
      "thread 'tokio-runtime-worker' panicked at /Users/runner/.cargo/registry/src/index.crates.io-1949cf8c6b5b557f/lance-encoding-0.30.0/src/data.rs:453:9:\n",
      "attempt to divide by zero\n"
     ]
    },
    {
     "data": {
      "text/html": [
       "<pre style=\"white-space:pre;overflow-x:auto;line-height:normal;font-family:Menlo,'DejaVu Sans Mono',consolas,'Courier New',monospace\"><span style=\"color: #808000; text-decoration-color: #808000\">WARNING </span> Expected embedding dimension <span style=\"color: #008080; text-decoration-color: #008080; font-weight: bold\">4096</span>, but got <span style=\"color: #008080; text-decoration-color: #008080; font-weight: bold\">1024</span>                                                           \n",
       "</pre>\n"
      ],
      "text/plain": [
       "\u001b[33mWARNING \u001b[0m Expected embedding dimension \u001b[1;36m4096\u001b[0m, but got \u001b[1;36m1024\u001b[0m                                                           \n"
      ]
     },
     "metadata": {},
     "output_type": "display_data"
    },
    {
     "name": "stderr",
     "output_type": "stream",
     "text": [
      "\n",
      "thread 'tokio-runtime-worker' panicked at /Users/runner/.cargo/registry/src/index.crates.io-1949cf8c6b5b557f/lance-encoding-0.30.0/src/data.rs:453:9:\n",
      "attempt to divide by zero\n",
      "\n",
      "thread 'tokio-runtime-worker' panicked at /Users/runner/.cargo/registry/src/index.crates.io-1949cf8c6b5b557f/lance-encoding-0.30.0/src/data.rs:453:9:\n",
      "attempt to divide by zero\n",
      "\n",
      "thread 'tokio-runtime-worker' panicked at /Users/runner/.cargo/registry/src/index.crates.io-1949cf8c6b5b557f/lance-encoding-0.30.0/src/data.rs:453:9:\n",
      "attempt to divide by zero\n",
      "\n",
      "thread 'tokio-runtime-worker' panicked at /Users/runner/.cargo/registry/src/index.crates.io-1949cf8c6b5b557f/lance-encoding-0.30.0/src/decoder.rs:1508:65:\n",
      "called `Result::unwrap()` on an `Err` value: JoinError::Panic(Id(69047), \"attempt to divide by zero\", ...)\n"
     ]
    },
    {
     "data": {
      "text/html": [
       "<pre style=\"white-space:pre;overflow-x:auto;line-height:normal;font-family:Menlo,'DejaVu Sans Mono',consolas,'Courier New',monospace\"><span style=\"color: #808000; text-decoration-color: #808000\">WARNING </span> Expected embedding dimension <span style=\"color: #008080; text-decoration-color: #008080; font-weight: bold\">4096</span>, but got <span style=\"color: #008080; text-decoration-color: #008080; font-weight: bold\">1024</span>                                                           \n",
       "</pre>\n"
      ],
      "text/plain": [
       "\u001b[33mWARNING \u001b[0m Expected embedding dimension \u001b[1;36m4096\u001b[0m, but got \u001b[1;36m1024\u001b[0m                                                           \n"
      ]
     },
     "metadata": {},
     "output_type": "display_data"
    },
    {
     "name": "stderr",
     "output_type": "stream",
     "text": [
      "\n",
      "thread 'tokio-runtime-worker' panicked at /Users/runner/.cargo/registry/src/index.crates.io-1949cf8c6b5b557f/lance-encoding-0.30.0/src/data.rs:453:9:\n",
      "attempt to divide by zero\n",
      "\n",
      "thread 'tokio-runtime-worker' panicked at /Users/runner/.cargo/registry/src/index.crates.io-1949cf8c6b5b557f/lance-encoding-0.30.0/src/data.rs:453:9:\n",
      "attempt to divide by zero\n",
      "\n",
      "thread 'tokio-runtime-worker' panicked at /Users/runner/.cargo/registry/src/index.crates.io-1949cf8c6b5b557f/lance-encoding-0.30.0/src/data.rs:453:9:\n",
      "attempt to divide by zero\n",
      "\n",
      "thread 'tokio-runtime-worker' panicked at /Users/runner/.cargo/registry/src/index.crates.io-1949cf8c6b5b557f/lance-encoding-0.30.0/src/decoder.rs:1508:65:\n",
      "called `Result::unwrap()` on an `Err` value: JoinError::Panic(Id(69217), \"attempt to divide by zero\", ...)\n"
     ]
    },
    {
     "data": {
      "text/html": [
       "<pre style=\"white-space:pre;overflow-x:auto;line-height:normal;font-family:Menlo,'DejaVu Sans Mono',consolas,'Courier New',monospace\"><span style=\"color: #808000; text-decoration-color: #808000\">WARNING </span> Expected embedding dimension <span style=\"color: #008080; text-decoration-color: #008080; font-weight: bold\">4096</span>, but got <span style=\"color: #008080; text-decoration-color: #008080; font-weight: bold\">1024</span>                                                           \n",
       "</pre>\n"
      ],
      "text/plain": [
       "\u001b[33mWARNING \u001b[0m Expected embedding dimension \u001b[1;36m4096\u001b[0m, but got \u001b[1;36m1024\u001b[0m                                                           \n"
      ]
     },
     "metadata": {},
     "output_type": "display_data"
    },
    {
     "name": "stderr",
     "output_type": "stream",
     "text": [
      "\n",
      "thread 'tokio-runtime-worker' panicked at /Users/runner/.cargo/registry/src/index.crates.io-1949cf8c6b5b557f/lance-encoding-0.30.0/src/data.rs:453:9:\n",
      "attempt to divide by zero\n",
      "\n",
      "thread 'tokio-runtime-worker' panicked at /Users/runner/.cargo/registry/src/index.crates.io-1949cf8c6b5b557f/lance-encoding-0.30.0/src/data.rs:453:9:\n",
      "attempt to divide by zero\n",
      "\n",
      "thread 'tokio-runtime-worker' panicked at /Users/runner/.cargo/registry/src/index.crates.io-1949cf8c6b5b557f/lance-encoding-0.30.0/src/data.rs:453:9:\n",
      "attempt to divide by zero\n",
      "\n",
      "thread 'tokio-runtime-worker' panicked at /Users/runner/.cargo/registry/src/index.crates.io-1949cf8c6b5b557f/lance-encoding-0.30.0/src/data.rs:453:9:\n",
      "attempt to divide by zero\n",
      "\n",
      "thread 'tokio-runtime-worker' panicked at /Users/runner/.cargo/registry/src/index.crates.io-1949cf8c6b5b557f/lance-encoding-0.30.0/src/decoder.rs:1508:65:\n",
      "called `Result::unwrap()` on an `Err` value: JoinError::Panic(Id(69378), \"attempt to divide by zero\", ...)\n"
     ]
    },
    {
     "data": {
      "text/html": [
       "<pre style=\"white-space:pre;overflow-x:auto;line-height:normal;font-family:Menlo,'DejaVu Sans Mono',consolas,'Courier New',monospace\"><span style=\"color: #808000; text-decoration-color: #808000\">WARNING </span> Expected embedding dimension <span style=\"color: #008080; text-decoration-color: #008080; font-weight: bold\">4096</span>, but got <span style=\"color: #008080; text-decoration-color: #008080; font-weight: bold\">1024</span>                                                           \n",
       "</pre>\n"
      ],
      "text/plain": [
       "\u001b[33mWARNING \u001b[0m Expected embedding dimension \u001b[1;36m4096\u001b[0m, but got \u001b[1;36m1024\u001b[0m                                                           \n"
      ]
     },
     "metadata": {},
     "output_type": "display_data"
    },
    {
     "name": "stderr",
     "output_type": "stream",
     "text": [
      "\n",
      "thread 'tokio-runtime-worker' panicked at /Users/runner/.cargo/registry/src/index.crates.io-1949cf8c6b5b557f/lance-encoding-0.30.0/src/data.rs:453:9:\n",
      "attempt to divide by zero\n",
      "\n",
      "thread 'tokio-runtime-worker' panicked at /Users/runner/.cargo/registry/src/index.crates.io-1949cf8c6b5b557f/lance-encoding-0.30.0/src/decoder.rs:1508:65:\n",
      "called `Result::unwrap()` on an `Err` value: JoinError::Panic(Id(69525), \"attempt to divide by zero\", ...)\n"
     ]
    },
    {
     "data": {
      "text/html": [
       "<pre style=\"white-space:pre;overflow-x:auto;line-height:normal;font-family:Menlo,'DejaVu Sans Mono',consolas,'Courier New',monospace\"><span style=\"color: #808000; text-decoration-color: #808000\">WARNING </span> Expected embedding dimension <span style=\"color: #008080; text-decoration-color: #008080; font-weight: bold\">4096</span>, but got <span style=\"color: #008080; text-decoration-color: #008080; font-weight: bold\">1024</span>                                                           \n",
       "</pre>\n"
      ],
      "text/plain": [
       "\u001b[33mWARNING \u001b[0m Expected embedding dimension \u001b[1;36m4096\u001b[0m, but got \u001b[1;36m1024\u001b[0m                                                           \n"
      ]
     },
     "metadata": {},
     "output_type": "display_data"
    },
    {
     "name": "stderr",
     "output_type": "stream",
     "text": [
      "\n",
      "thread 'tokio-runtime-worker' panicked at /Users/runner/.cargo/registry/src/index.crates.io-1949cf8c6b5b557f/lance-encoding-0.30.0/src/data.rs:453:9:\n",
      "attempt to divide by zero\n",
      "\n",
      "thread 'tokio-runtime-worker' panicked at /Users/runner/.cargo/registry/src/index.crates.io-1949cf8c6b5b557f/lance-encoding-0.30.0/src/decoder.rs:1508:65:\n",
      "called `Result::unwrap()` on an `Err` value: JoinError::Panic(Id(69689), \"attempt to divide by zero\", ...)\n"
     ]
    },
    {
     "data": {
      "text/html": [
       "<pre style=\"white-space:pre;overflow-x:auto;line-height:normal;font-family:Menlo,'DejaVu Sans Mono',consolas,'Courier New',monospace\"><span style=\"color: #808000; text-decoration-color: #808000\">WARNING </span> Expected embedding dimension <span style=\"color: #008080; text-decoration-color: #008080; font-weight: bold\">4096</span>, but got <span style=\"color: #008080; text-decoration-color: #008080; font-weight: bold\">1024</span>                                                           \n",
       "</pre>\n"
      ],
      "text/plain": [
       "\u001b[33mWARNING \u001b[0m Expected embedding dimension \u001b[1;36m4096\u001b[0m, but got \u001b[1;36m1024\u001b[0m                                                           \n"
      ]
     },
     "metadata": {},
     "output_type": "display_data"
    },
    {
     "name": "stderr",
     "output_type": "stream",
     "text": [
      "\n",
      "thread 'tokio-runtime-worker' panicked at /Users/runner/.cargo/registry/src/index.crates.io-1949cf8c6b5b557f/lance-encoding-0.30.0/src/data.rs:453:9:\n",
      "attempt to divide by zero\n",
      "\n",
      "thread 'tokio-runtime-worker' panicked at /Users/runner/.cargo/registry/src/index.crates.io-1949cf8c6b5b557f/lance-encoding-0.30.0/src/data.rs:453:9:\n",
      "attempt to divide by zero\n",
      "\n",
      "thread 'tokio-runtime-worker' panicked at /Users/runner/.cargo/registry/src/index.crates.io-1949cf8c6b5b557f/lance-encoding-0.30.0/src/data.rs:453:9:\n",
      "attempt to divide by zero\n",
      "\n",
      "thread 'tokio-runtime-worker' panicked at /Users/runner/.cargo/registry/src/index.crates.io-1949cf8c6b5b557f/lance-encoding-0.30.0/src/decoder.rs:1508:65:\n",
      "called `Result::unwrap()` on an `Err` value: JoinError::Panic(Id(69824), \"attempt to divide by zero\", ...)\n"
     ]
    },
    {
     "data": {
      "text/html": [
       "<pre style=\"white-space:pre;overflow-x:auto;line-height:normal;font-family:Menlo,'DejaVu Sans Mono',consolas,'Courier New',monospace\"><span style=\"color: #808000; text-decoration-color: #808000\">WARNING </span> Expected embedding dimension <span style=\"color: #008080; text-decoration-color: #008080; font-weight: bold\">4096</span>, but got <span style=\"color: #008080; text-decoration-color: #008080; font-weight: bold\">1024</span>                                                           \n",
       "</pre>\n"
      ],
      "text/plain": [
       "\u001b[33mWARNING \u001b[0m Expected embedding dimension \u001b[1;36m4096\u001b[0m, but got \u001b[1;36m1024\u001b[0m                                                           \n"
      ]
     },
     "metadata": {},
     "output_type": "display_data"
    },
    {
     "name": "stderr",
     "output_type": "stream",
     "text": [
      "\n",
      "thread 'tokio-runtime-worker' panicked at /Users/runner/.cargo/registry/src/index.crates.io-1949cf8c6b5b557f/lance-encoding-0.30.0/src/data.rs:453:9:\n",
      "attempt to divide by zero\n",
      "\n",
      "thread 'tokio-runtime-worker' panicked at /Users/runner/.cargo/registry/src/index.crates.io-1949cf8c6b5b557f/lance-encoding-0.30.0/src/data.rs:453:9:\n",
      "attempt to divide by zero\n",
      "\n",
      "thread 'tokio-runtime-worker' panicked at /Users/runner/.cargo/registry/src/index.crates.io-1949cf8c6b5b557f/lance-encoding-0.30.0/src/data.rs:453:9:\n",
      "attempt to divide by zero\n",
      "\n",
      "thread 'tokio-runtime-worker' panicked at /Users/runner/.cargo/registry/src/index.crates.io-1949cf8c6b5b557f/lance-encoding-0.30.0/src/data.rs:453:9:\n",
      "attempt to divide by zero\n",
      "\n",
      "thread 'tokio-runtime-worker' panicked at /Users/runner/.cargo/registry/src/index.crates.io-1949cf8c6b5b557f/lance-encoding-0.30.0/src/data.rs:453:9:\n",
      "attempt to divide by zero\n",
      "\n",
      "thread 'tokio-runtime-worker' panicked at /Users/runner/.cargo/registry/src/index.crates.io-1949cf8c6b5b557f/lance-encoding-0.30.0/src/decoder.rs:1508:65:\n",
      "called `Result::unwrap()` on an `Err` value: JoinError::Panic(Id(70027), \"attempt to divide by zero\", ...)\n",
      "\n",
      "thread 'tokio-runtime-worker' panicked at /Users/runner/.cargo/registry/src/index.crates.io-1949cf8c6b5b557f/lance-encoding-0.30.0/src/data.rs:453:9:\n",
      "attempt to divide by zero\n"
     ]
    },
    {
     "data": {
      "text/html": [
       "<pre style=\"white-space:pre;overflow-x:auto;line-height:normal;font-family:Menlo,'DejaVu Sans Mono',consolas,'Courier New',monospace\"><span style=\"color: #808000; text-decoration-color: #808000\">WARNING </span> Expected embedding dimension <span style=\"color: #008080; text-decoration-color: #008080; font-weight: bold\">4096</span>, but got <span style=\"color: #008080; text-decoration-color: #008080; font-weight: bold\">1024</span>                                                           \n",
       "</pre>\n"
      ],
      "text/plain": [
       "\u001b[33mWARNING \u001b[0m Expected embedding dimension \u001b[1;36m4096\u001b[0m, but got \u001b[1;36m1024\u001b[0m                                                           \n"
      ]
     },
     "metadata": {},
     "output_type": "display_data"
    },
    {
     "name": "stderr",
     "output_type": "stream",
     "text": [
      "\n",
      "thread 'tokio-runtime-worker' panicked at /Users/runner/.cargo/registry/src/index.crates.io-1949cf8c6b5b557f/lance-encoding-0.30.0/src/data.rs:453:9:\n",
      "attempt to divide by zero\n",
      "\n",
      "thread 'tokio-runtime-worker' panicked at /Users/runner/.cargo/registry/src/index.crates.io-1949cf8c6b5b557f/lance-encoding-0.30.0/src/data.rs:453:9:\n",
      "attempt to divide by zero\n",
      "\n",
      "thread 'tokio-runtime-worker' panicked at /Users/runner/.cargo/registry/src/index.crates.io-1949cf8c6b5b557f/lance-encoding-0.30.0/src/decoder.rs:1508:65:\n",
      "called `Result::unwrap()` on an `Err` value: JoinError::Panic(Id(70157), \"attempt to divide by zero\", ...)\n",
      "\n",
      "thread 'tokio-runtime-worker' panicked at /Users/runner/.cargo/registry/src/index.crates.io-1949cf8c6b5b557f/lance-encoding-0.30.0/src/data.rs:453:9:\n",
      "attempt to divide by zero\n"
     ]
    },
    {
     "data": {
      "text/html": [
       "<pre style=\"white-space:pre;overflow-x:auto;line-height:normal;font-family:Menlo,'DejaVu Sans Mono',consolas,'Courier New',monospace\"><span style=\"color: #808000; text-decoration-color: #808000\">WARNING </span> Expected embedding dimension <span style=\"color: #008080; text-decoration-color: #008080; font-weight: bold\">4096</span>, but got <span style=\"color: #008080; text-decoration-color: #008080; font-weight: bold\">1024</span>                                                           \n",
       "</pre>\n"
      ],
      "text/plain": [
       "\u001b[33mWARNING \u001b[0m Expected embedding dimension \u001b[1;36m4096\u001b[0m, but got \u001b[1;36m1024\u001b[0m                                                           \n"
      ]
     },
     "metadata": {},
     "output_type": "display_data"
    },
    {
     "name": "stderr",
     "output_type": "stream",
     "text": [
      "\n",
      "thread 'tokio-runtime-worker' panicked at /Users/runner/.cargo/registry/src/index.crates.io-1949cf8c6b5b557f/lance-encoding-0.30.0/src/data.rs:453:9:\n",
      "attempt to divide by zero\n",
      "\n",
      "thread 'tokio-runtime-worker' panicked at /Users/runner/.cargo/registry/src/index.crates.io-1949cf8c6b5b557f/lance-encoding-0.30.0/src/data.rs:453:9:\n",
      "attempt to divide by zero\n",
      "\n",
      "thread 'tokio-runtime-worker' panicked at /Users/runner/.cargo/registry/src/index.crates.io-1949cf8c6b5b557f/lance-encoding-0.30.0/src/data.rs:453:9:\n",
      "attempt to divide by zero\n",
      "\n",
      "thread 'tokio-runtime-worker' panicked at /Users/runner/.cargo/registry/src/index.crates.io-1949cf8c6b5b557f/lance-encoding-0.30.0/src/decoder.rs:1508:65:\n",
      "called `Result::unwrap()` on an `Err` value: JoinError::Panic(Id(70344), \"attempt to divide by zero\", ...)\n",
      "\n",
      "thread 'tokio-runtime-worker' panicked at /Users/runner/.cargo/registry/src/index.crates.io-1949cf8c6b5b557f/lance-encoding-0.30.0/src/data.rs:453:9:\n",
      "attempt to divide by zero\n",
      "\n",
      "thread 'tokio-runtime-worker' panicked at /Users/runner/.cargo/registry/src/index.crates.io-1949cf8c6b5b557f/lance-encoding-0.30.0/src/data.rs:453:9:\n",
      "attempt to divide by zero\n",
      "\n",
      "thread 'tokio-runtime-worker' panicked at /Users/runner/.cargo/registry/src/index.crates.io-1949cf8c6b5b557f/lance-encoding-0.30.0/src/data.rs:453:9:\n",
      "attempt to divide by zero\n"
     ]
    },
    {
     "data": {
      "text/html": [
       "<pre style=\"white-space:pre;overflow-x:auto;line-height:normal;font-family:Menlo,'DejaVu Sans Mono',consolas,'Courier New',monospace\"><span style=\"color: #808000; text-decoration-color: #808000\">WARNING </span> Expected embedding dimension <span style=\"color: #008080; text-decoration-color: #008080; font-weight: bold\">4096</span>, but got <span style=\"color: #008080; text-decoration-color: #008080; font-weight: bold\">1024</span>                                                           \n",
       "</pre>\n"
      ],
      "text/plain": [
       "\u001b[33mWARNING \u001b[0m Expected embedding dimension \u001b[1;36m4096\u001b[0m, but got \u001b[1;36m1024\u001b[0m                                                           \n"
      ]
     },
     "metadata": {},
     "output_type": "display_data"
    },
    {
     "name": "stderr",
     "output_type": "stream",
     "text": [
      "\n",
      "thread 'tokio-runtime-worker' panicked at /Users/runner/.cargo/registry/src/index.crates.io-1949cf8c6b5b557f/lance-encoding-0.30.0/src/data.rs:453:9:\n",
      "attempt to divide by zero\n",
      "\n",
      "thread 'tokio-runtime-worker' panicked at /Users/runner/.cargo/registry/src/index.crates.io-1949cf8c6b5b557f/lance-encoding-0.30.0/src/data.rs:453:9:\n",
      "attempt to divide by zero\n",
      "\n",
      "thread 'tokio-runtime-worker' panicked at /Users/runner/.cargo/registry/src/index.crates.io-1949cf8c6b5b557f/lance-encoding-0.30.0/src/data.rs:453:9:\n",
      "attempt to divide by zero\n",
      "\n",
      "thread 'tokio-runtime-worker' panicked at /Users/runner/.cargo/registry/src/index.crates.io-1949cf8c6b5b557f/lance-encoding-0.30.0/src/data.rs:453:9:\n",
      "attempt to divide by zero\n",
      "\n",
      "thread 'tokio-runtime-worker' panicked at /Users/runner/.cargo/registry/src/index.crates.io-1949cf8c6b5b557f/lance-encoding-0.30.0/src/decoder.rs:1508:65:\n",
      "called `Result::unwrap()` on an `Err` value: JoinError::Panic(Id(70514), \"attempt to divide by zero\", ...)\n"
     ]
    },
    {
     "data": {
      "text/html": [
       "<pre style=\"white-space:pre;overflow-x:auto;line-height:normal;font-family:Menlo,'DejaVu Sans Mono',consolas,'Courier New',monospace\"><span style=\"color: #808000; text-decoration-color: #808000\">WARNING </span> Expected embedding dimension <span style=\"color: #008080; text-decoration-color: #008080; font-weight: bold\">4096</span>, but got <span style=\"color: #008080; text-decoration-color: #008080; font-weight: bold\">1024</span>                                                           \n",
       "</pre>\n"
      ],
      "text/plain": [
       "\u001b[33mWARNING \u001b[0m Expected embedding dimension \u001b[1;36m4096\u001b[0m, but got \u001b[1;36m1024\u001b[0m                                                           \n"
      ]
     },
     "metadata": {},
     "output_type": "display_data"
    },
    {
     "name": "stderr",
     "output_type": "stream",
     "text": [
      "\n",
      "thread 'tokio-runtime-worker' panicked at /Users/runner/.cargo/registry/src/index.crates.io-1949cf8c6b5b557f/lance-encoding-0.30.0/src/data.rs:453:9:\n",
      "attempt to divide by zero\n",
      "\n",
      "thread 'tokio-runtime-worker' panicked at /Users/runner/.cargo/registry/src/index.crates.io-1949cf8c6b5b557f/lance-encoding-0.30.0/src/data.rs:453:9:\n",
      "attempt to divide by zero\n",
      "\n",
      "thread 'tokio-runtime-worker' panicked at /Users/runner/.cargo/registry/src/index.crates.io-1949cf8c6b5b557f/lance-encoding-0.30.0/src/decoder.rs:1508:65:\n",
      "called `Result::unwrap()` on an `Err` value: JoinError::Panic(Id(70671), \"attempt to divide by zero\", ...)\n",
      "\n",
      "thread 'tokio-runtime-worker' panicked at /Users/runner/.cargo/registry/src/index.crates.io-1949cf8c6b5b557f/lance-encoding-0.30.0/src/data.rs:453:9:\n",
      "attempt to divide by zero\n"
     ]
    },
    {
     "data": {
      "text/html": [
       "<pre style=\"white-space:pre;overflow-x:auto;line-height:normal;font-family:Menlo,'DejaVu Sans Mono',consolas,'Courier New',monospace\"><span style=\"color: #808000; text-decoration-color: #808000\">WARNING </span> Expected embedding dimension <span style=\"color: #008080; text-decoration-color: #008080; font-weight: bold\">4096</span>, but got <span style=\"color: #008080; text-decoration-color: #008080; font-weight: bold\">1024</span>                                                           \n",
       "</pre>\n"
      ],
      "text/plain": [
       "\u001b[33mWARNING \u001b[0m Expected embedding dimension \u001b[1;36m4096\u001b[0m, but got \u001b[1;36m1024\u001b[0m                                                           \n"
      ]
     },
     "metadata": {},
     "output_type": "display_data"
    },
    {
     "name": "stderr",
     "output_type": "stream",
     "text": [
      "\n",
      "thread 'tokio-runtime-worker' panicked at /Users/runner/.cargo/registry/src/index.crates.io-1949cf8c6b5b557f/lance-encoding-0.30.0/src/data.rs:453:9:\n",
      "attempt to divide by zero\n",
      "\n",
      "thread 'tokio-runtime-worker' panicked at /Users/runner/.cargo/registry/src/index.crates.io-1949cf8c6b5b557f/lance-encoding-0.30.0/src/data.rs:453:9:\n",
      "attempt to divide by zero\n",
      "\n",
      "thread 'tokio-runtime-worker' panicked at /Users/runner/.cargo/registry/src/index.crates.io-1949cf8c6b5b557f/lance-encoding-0.30.0/src/data.rs:453:9:\n",
      "attempt to divide by zero\n",
      "\n",
      "thread 'tokio-runtime-worker' panicked at /Users/runner/.cargo/registry/src/index.crates.io-1949cf8c6b5b557f/lance-encoding-0.30.0/src/decoder.rs:1508:65:\n",
      "called `Result::unwrap()` on an `Err` value: JoinError::Panic(Id(70839), \"attempt to divide by zero\", ...)\n"
     ]
    },
    {
     "data": {
      "text/html": [
       "<pre style=\"white-space:pre;overflow-x:auto;line-height:normal;font-family:Menlo,'DejaVu Sans Mono',consolas,'Courier New',monospace\"><span style=\"color: #808000; text-decoration-color: #808000\">WARNING </span> Expected embedding dimension <span style=\"color: #008080; text-decoration-color: #008080; font-weight: bold\">4096</span>, but got <span style=\"color: #008080; text-decoration-color: #008080; font-weight: bold\">1024</span>                                                           \n",
       "</pre>\n"
      ],
      "text/plain": [
       "\u001b[33mWARNING \u001b[0m Expected embedding dimension \u001b[1;36m4096\u001b[0m, but got \u001b[1;36m1024\u001b[0m                                                           \n"
      ]
     },
     "metadata": {},
     "output_type": "display_data"
    },
    {
     "name": "stderr",
     "output_type": "stream",
     "text": [
      "\n",
      "thread 'tokio-runtime-worker' panicked at /Users/runner/.cargo/registry/src/index.crates.io-1949cf8c6b5b557f/lance-encoding-0.30.0/src/data.rs:453:9:\n",
      "attempt to divide by zero\n",
      "\n",
      "thread 'tokio-runtime-worker' panicked at /Users/runner/.cargo/registry/src/index.crates.io-1949cf8c6b5b557f/lance-encoding-0.30.0/src/data.rs:453:9:\n",
      "attempt to divide by zero\n",
      "\n",
      "thread 'tokio-runtime-worker' panicked at /Users/runner/.cargo/registry/src/index.crates.io-1949cf8c6b5b557f/lance-encoding-0.30.0/src/data.rs:453:9:\n",
      "attempt to divide by zero\n",
      "\n",
      "thread 'tokio-runtime-worker' panicked at /Users/runner/.cargo/registry/src/index.crates.io-1949cf8c6b5b557f/lance-encoding-0.30.0/src/data.rs:453:9:\n",
      "attempt to divide by zero\n",
      "\n",
      "thread 'tokio-runtime-worker' panicked at /Users/runner/.cargo/registry/src/index.crates.io-1949cf8c6b5b557f/lance-encoding-0.30.0/src/data.rs:453:9:\n",
      "attempt to divide by zero\n",
      "\n",
      "thread 'tokio-runtime-worker' panicked at /Users/runner/.cargo/registry/src/index.crates.io-1949cf8c6b5b557f/lance-encoding-0.30.0/src/data.rs:453:9:\n",
      "attempt to divide by zero\n",
      "\n",
      "thread 'tokio-runtime-worker' panicked at /Users/runner/.cargo/registry/src/index.crates.io-1949cf8c6b5b557f/lance-encoding-0.30.0/src/decoder.rs:1508:65:\n",
      "called `Result::unwrap()` on an `Err` value: JoinError::Panic(Id(71035), \"attempt to divide by zero\", ...)\n"
     ]
    },
    {
     "data": {
      "text/html": [
       "<pre style=\"white-space:pre;overflow-x:auto;line-height:normal;font-family:Menlo,'DejaVu Sans Mono',consolas,'Courier New',monospace\"><span style=\"color: #808000; text-decoration-color: #808000\">WARNING </span> Expected embedding dimension <span style=\"color: #008080; text-decoration-color: #008080; font-weight: bold\">4096</span>, but got <span style=\"color: #008080; text-decoration-color: #008080; font-weight: bold\">1024</span>                                                           \n",
       "</pre>\n"
      ],
      "text/plain": [
       "\u001b[33mWARNING \u001b[0m Expected embedding dimension \u001b[1;36m4096\u001b[0m, but got \u001b[1;36m1024\u001b[0m                                                           \n"
      ]
     },
     "metadata": {},
     "output_type": "display_data"
    },
    {
     "name": "stderr",
     "output_type": "stream",
     "text": [
      "\n",
      "thread 'tokio-runtime-worker' panicked at /Users/runner/.cargo/registry/src/index.crates.io-1949cf8c6b5b557f/lance-encoding-0.30.0/src/data.rs:453:9:\n",
      "attempt to divide by zero\n",
      "\n",
      "thread 'tokio-runtime-worker' panicked at /Users/runner/.cargo/registry/src/index.crates.io-1949cf8c6b5b557f/lance-encoding-0.30.0/src/decoder.rs:1508:65:\n",
      "called `Result::unwrap()` on an `Err` value: JoinError::Panic(Id(71177), \"attempt to divide by zero\", ...)\n"
     ]
    },
    {
     "data": {
      "text/html": [
       "<pre style=\"white-space:pre;overflow-x:auto;line-height:normal;font-family:Menlo,'DejaVu Sans Mono',consolas,'Courier New',monospace\"><span style=\"color: #808000; text-decoration-color: #808000\">WARNING </span> Expected embedding dimension <span style=\"color: #008080; text-decoration-color: #008080; font-weight: bold\">4096</span>, but got <span style=\"color: #008080; text-decoration-color: #008080; font-weight: bold\">1024</span>                                                           \n",
       "</pre>\n"
      ],
      "text/plain": [
       "\u001b[33mWARNING \u001b[0m Expected embedding dimension \u001b[1;36m4096\u001b[0m, but got \u001b[1;36m1024\u001b[0m                                                           \n"
      ]
     },
     "metadata": {},
     "output_type": "display_data"
    },
    {
     "name": "stderr",
     "output_type": "stream",
     "text": [
      "\n",
      "thread 'tokio-runtime-worker' panicked at /Users/runner/.cargo/registry/src/index.crates.io-1949cf8c6b5b557f/lance-encoding-0.30.0/src/data.rs:453:9:\n",
      "attempt to divide by zero\n",
      "\n",
      "thread 'tokio-runtime-worker' panicked at /Users/runner/.cargo/registry/src/index.crates.io-1949cf8c6b5b557f/lance-encoding-0.30.0/src/data.rs:453:9:\n",
      "attempt to divide by zero\n",
      "\n",
      "thread 'tokio-runtime-worker' panicked at /Users/runner/.cargo/registry/src/index.crates.io-1949cf8c6b5b557f/lance-encoding-0.30.0/src/data.rs:453:9:\n",
      "attempt to divide by zero\n",
      "\n",
      "thread 'tokio-runtime-worker' panicked at /Users/runner/.cargo/registry/src/index.crates.io-1949cf8c6b5b557f/lance-encoding-0.30.0/src/data.rs:453:9:\n",
      "attempt to divide by zero\n",
      "\n",
      "thread 'tokio-runtime-worker' panicked at /Users/runner/.cargo/registry/src/index.crates.io-1949cf8c6b5b557f/lance-encoding-0.30.0/src/data.rs:453:9:\n",
      "attempt to divide by zero\n",
      "\n",
      "thread 'tokio-runtime-worker' panicked at /Users/runner/.cargo/registry/src/index.crates.io-1949cf8c6b5b557f/lance-encoding-0.30.0/src/decoder.rs:1508:65:\n",
      "called `Result::unwrap()` on an `Err` value: JoinError::Panic(Id(71608), \"attempt to divide by zero\", ...)\n",
      "\n",
      "thread 'tokio-runtime-worker' panicked at /Users/runner/.cargo/registry/src/index.crates.io-1949cf8c6b5b557f/lance-encoding-0.30.0/src/data.rs:453:9:\n",
      "attempt to divide by zero\n"
     ]
    },
    {
     "data": {
      "text/html": [
       "<pre style=\"white-space:pre;overflow-x:auto;line-height:normal;font-family:Menlo,'DejaVu Sans Mono',consolas,'Courier New',monospace\"><span style=\"color: #808000; text-decoration-color: #808000\">WARNING </span> Expected embedding dimension <span style=\"color: #008080; text-decoration-color: #008080; font-weight: bold\">4096</span>, but got <span style=\"color: #008080; text-decoration-color: #008080; font-weight: bold\">1024</span>                                                           \n",
       "</pre>\n"
      ],
      "text/plain": [
       "\u001b[33mWARNING \u001b[0m Expected embedding dimension \u001b[1;36m4096\u001b[0m, but got \u001b[1;36m1024\u001b[0m                                                           \n"
      ]
     },
     "metadata": {},
     "output_type": "display_data"
    },
    {
     "name": "stderr",
     "output_type": "stream",
     "text": [
      "\n",
      "thread 'tokio-runtime-worker' panicked at /Users/runner/.cargo/registry/src/index.crates.io-1949cf8c6b5b557f/lance-encoding-0.30.0/src/data.rs:453:9:\n",
      "attempt to divide by zero\n",
      "\n",
      "thread 'tokio-runtime-worker' panicked at /Users/runner/.cargo/registry/src/index.crates.io-1949cf8c6b5b557f/lance-encoding-0.30.0/src/data.rs:453:9:\n",
      "attempt to divide by zero\n",
      "\n",
      "thread 'tokio-runtime-worker' panicked at /Users/runner/.cargo/registry/src/index.crates.io-1949cf8c6b5b557f/lance-encoding-0.30.0/src/data.rs:453:9:\n",
      "attempt to divide by zero\n",
      "\n",
      "thread 'tokio-runtime-worker' panicked at /Users/runner/.cargo/registry/src/index.crates.io-1949cf8c6b5b557f/lance-encoding-0.30.0/src/decoder.rs:1508:65:\n",
      "called `Result::unwrap()` on an `Err` value: JoinError::Panic(Id(71760), \"attempt to divide by zero\", ...)\n"
     ]
    },
    {
     "data": {
      "text/html": [
       "<pre style=\"white-space:pre;overflow-x:auto;line-height:normal;font-family:Menlo,'DejaVu Sans Mono',consolas,'Courier New',monospace\"><span style=\"color: #808000; text-decoration-color: #808000\">WARNING </span> Expected embedding dimension <span style=\"color: #008080; text-decoration-color: #008080; font-weight: bold\">4096</span>, but got <span style=\"color: #008080; text-decoration-color: #008080; font-weight: bold\">1024</span>                                                           \n",
       "</pre>\n"
      ],
      "text/plain": [
       "\u001b[33mWARNING \u001b[0m Expected embedding dimension \u001b[1;36m4096\u001b[0m, but got \u001b[1;36m1024\u001b[0m                                                           \n"
      ]
     },
     "metadata": {},
     "output_type": "display_data"
    },
    {
     "name": "stderr",
     "output_type": "stream",
     "text": [
      "\n",
      "thread 'tokio-runtime-worker' panicked at /Users/runner/.cargo/registry/src/index.crates.io-1949cf8c6b5b557f/lance-encoding-0.30.0/src/data.rs:453:9:\n",
      "attempt to divide by zero\n",
      "\n",
      "thread 'tokio-runtime-worker' panicked at /Users/runner/.cargo/registry/src/index.crates.io-1949cf8c6b5b557f/lance-encoding-0.30.0/src/data.rs:453:9:\n",
      "attempt to divide by zero\n",
      "\n",
      "thread 'tokio-runtime-worker' panicked at /Users/runner/.cargo/registry/src/index.crates.io-1949cf8c6b5b557f/lance-encoding-0.30.0/src/data.rs:453:9:\n",
      "attempt to divide by zero\n",
      "\n",
      "thread 'tokio-runtime-worker' panicked at /Users/runner/.cargo/registry/src/index.crates.io-1949cf8c6b5b557f/lance-encoding-0.30.0/src/decoder.rs:1508:65:\n",
      "called `Result::unwrap()` on an `Err` value: JoinError::Panic(Id(71931), \"attempt to divide by zero\", ...)\n",
      "\n",
      "thread 'tokio-runtime-worker' panicked at /Users/runner/.cargo/registry/src/index.crates.io-1949cf8c6b5b557f/lance-encoding-0.30.0/src/data.rs:453:9:\n",
      "attempt to divide by zero\n",
      "\n",
      "thread 'tokio-runtime-worker' panicked at /Users/runner/.cargo/registry/src/index.crates.io-1949cf8c6b5b557f/lance-encoding-0.30.0/src/data.rs:453:9:\n",
      "attempt to divide by zero\n",
      "\n",
      "thread 'tokio-runtime-worker' panicked at /Users/runner/.cargo/registry/src/index.crates.io-1949cf8c6b5b557f/lance-encoding-0.30.0/src/data.rs:453:9:\n",
      "attempt to divide by zero\n"
     ]
    },
    {
     "data": {
      "text/html": [
       "<pre style=\"white-space:pre;overflow-x:auto;line-height:normal;font-family:Menlo,'DejaVu Sans Mono',consolas,'Courier New',monospace\"><span style=\"color: #808000; text-decoration-color: #808000\">WARNING </span> Expected embedding dimension <span style=\"color: #008080; text-decoration-color: #008080; font-weight: bold\">4096</span>, but got <span style=\"color: #008080; text-decoration-color: #008080; font-weight: bold\">1024</span>                                                           \n",
       "</pre>\n"
      ],
      "text/plain": [
       "\u001b[33mWARNING \u001b[0m Expected embedding dimension \u001b[1;36m4096\u001b[0m, but got \u001b[1;36m1024\u001b[0m                                                           \n"
      ]
     },
     "metadata": {},
     "output_type": "display_data"
    },
    {
     "name": "stderr",
     "output_type": "stream",
     "text": [
      "\n",
      "thread 'tokio-runtime-worker' panicked at /Users/runner/.cargo/registry/src/index.crates.io-1949cf8c6b5b557f/lance-encoding-0.30.0/src/data.rs:453:9:\n",
      "attempt to divide by zero\n",
      "\n",
      "thread 'tokio-runtime-worker' panicked at /Users/runner/.cargo/registry/src/index.crates.io-1949cf8c6b5b557f/lance-encoding-0.30.0/src/data.rs:453:9:\n",
      "attempt to divide by zero\n",
      "\n",
      "thread 'tokio-runtime-worker' panicked at /Users/runner/.cargo/registry/src/index.crates.io-1949cf8c6b5b557f/lance-encoding-0.30.0/src/data.rs:453:9:\n",
      "attempt to divide by zero\n",
      "\n",
      "thread 'tokio-runtime-worker' panicked at /Users/runner/.cargo/registry/src/index.crates.io-1949cf8c6b5b557f/lance-encoding-0.30.0/src/data.rs:453:9:\n",
      "attempt to divide by zero\n",
      "\n",
      "thread 'tokio-runtime-worker' panicked at /Users/runner/.cargo/registry/src/index.crates.io-1949cf8c6b5b557f/lance-encoding-0.30.0/src/data.rs:453:9:\n",
      "attempt to divide by zero\n",
      "\n",
      "thread 'tokio-runtime-worker' panicked at /Users/runner/.cargo/registry/src/index.crates.io-1949cf8c6b5b557f/lance-encoding-0.30.0/src/data.rs:453:9:\n",
      "attempt to divide by zero\n",
      "\n",
      "thread 'tokio-runtime-worker' panicked at /Users/runner/.cargo/registry/src/index.crates.io-1949cf8c6b5b557f/lance-encoding-0.30.0/src/decoder.rs:1508:65:\n",
      "called `Result::unwrap()` on an `Err` value: JoinError::Panic(Id(72137), \"attempt to divide by zero\", ...)\n"
     ]
    },
    {
     "data": {
      "text/html": [
       "<pre style=\"white-space:pre;overflow-x:auto;line-height:normal;font-family:Menlo,'DejaVu Sans Mono',consolas,'Courier New',monospace\"><span style=\"color: #808000; text-decoration-color: #808000\">WARNING </span> Expected embedding dimension <span style=\"color: #008080; text-decoration-color: #008080; font-weight: bold\">4096</span>, but got <span style=\"color: #008080; text-decoration-color: #008080; font-weight: bold\">1024</span>                                                           \n",
       "</pre>\n"
      ],
      "text/plain": [
       "\u001b[33mWARNING \u001b[0m Expected embedding dimension \u001b[1;36m4096\u001b[0m, but got \u001b[1;36m1024\u001b[0m                                                           \n"
      ]
     },
     "metadata": {},
     "output_type": "display_data"
    },
    {
     "name": "stderr",
     "output_type": "stream",
     "text": [
      "\n",
      "thread 'tokio-runtime-worker' panicked at /Users/runner/.cargo/registry/src/index.crates.io-1949cf8c6b5b557f/lance-encoding-0.30.0/src/data.rs:453:9:\n",
      "attempt to divide by zero\n",
      "\n",
      "thread 'tokio-runtime-worker' panicked at /Users/runner/.cargo/registry/src/index.crates.io-1949cf8c6b5b557f/lance-encoding-0.30.0/src/data.rs:453:9:\n",
      "attempt to divide by zero\n",
      "\n",
      "thread 'tokio-runtime-worker' panicked at /Users/runner/.cargo/registry/src/index.crates.io-1949cf8c6b5b557f/lance-encoding-0.30.0/src/data.rs:453:9:\n",
      "attempt to divide by zero\n",
      "\n",
      "thread 'tokio-runtime-worker' panicked at /Users/runner/.cargo/registry/src/index.crates.io-1949cf8c6b5b557f/lance-encoding-0.30.0/src/data.rs:453:9:\n",
      "attempt to divide by zero\n",
      "\n",
      "thread 'tokio-runtime-worker' panicked at /Users/runner/.cargo/registry/src/index.crates.io-1949cf8c6b5b557f/lance-encoding-0.30.0/src/decoder.rs:1508:65:\n",
      "called `Result::unwrap()` on an `Err` value: JoinError::Panic(Id(72293), \"attempt to divide by zero\", ...)\n",
      "\n",
      "thread 'tokio-runtime-worker' panicked at /Users/runner/.cargo/registry/src/index.crates.io-1949cf8c6b5b557f/lance-encoding-0.30.0/src/data.rs:453:9:\n",
      "attempt to divide by zero\n",
      "\n",
      "thread 'tokio-runtime-worker' panicked at /Users/runner/.cargo/registry/src/index.crates.io-1949cf8c6b5b557f/lance-encoding-0.30.0/src/data.rs:453:9:\n",
      "attempt to divide by zero\n"
     ]
    },
    {
     "data": {
      "text/html": [
       "<pre style=\"white-space:pre;overflow-x:auto;line-height:normal;font-family:Menlo,'DejaVu Sans Mono',consolas,'Courier New',monospace\"><span style=\"color: #808000; text-decoration-color: #808000\">WARNING </span> Expected embedding dimension <span style=\"color: #008080; text-decoration-color: #008080; font-weight: bold\">4096</span>, but got <span style=\"color: #008080; text-decoration-color: #008080; font-weight: bold\">1024</span>                                                           \n",
       "</pre>\n"
      ],
      "text/plain": [
       "\u001b[33mWARNING \u001b[0m Expected embedding dimension \u001b[1;36m4096\u001b[0m, but got \u001b[1;36m1024\u001b[0m                                                           \n"
      ]
     },
     "metadata": {},
     "output_type": "display_data"
    },
    {
     "name": "stderr",
     "output_type": "stream",
     "text": [
      "\n",
      "thread 'tokio-runtime-worker' panicked at /Users/runner/.cargo/registry/src/index.crates.io-1949cf8c6b5b557f/lance-encoding-0.30.0/src/data.rs:453:9:\n",
      "attempt to divide by zero\n",
      "\n",
      "thread 'tokio-runtime-worker' panicked at /Users/runner/.cargo/registry/src/index.crates.io-1949cf8c6b5b557f/lance-encoding-0.30.0/src/data.rs:453:9:\n",
      "attempt to divide by zero\n",
      "\n",
      "thread 'tokio-runtime-worker' panicked at /Users/runner/.cargo/registry/src/index.crates.io-1949cf8c6b5b557f/lance-encoding-0.30.0/src/data.rs:453:9:\n",
      "attempt to divide by zero\n",
      "\n",
      "thread 'tokio-runtime-worker' panicked at /Users/runner/.cargo/registry/src/index.crates.io-1949cf8c6b5b557f/lance-encoding-0.30.0/src/decoder.rs:1508:65:\n",
      "called `Result::unwrap()` on an `Err` value: JoinError::Panic(Id(72466), \"attempt to divide by zero\", ...)\n"
     ]
    },
    {
     "data": {
      "text/html": [
       "<pre style=\"white-space:pre;overflow-x:auto;line-height:normal;font-family:Menlo,'DejaVu Sans Mono',consolas,'Courier New',monospace\"><span style=\"color: #808000; text-decoration-color: #808000\">WARNING </span> Expected embedding dimension <span style=\"color: #008080; text-decoration-color: #008080; font-weight: bold\">4096</span>, but got <span style=\"color: #008080; text-decoration-color: #008080; font-weight: bold\">1024</span>                                                           \n",
       "</pre>\n"
      ],
      "text/plain": [
       "\u001b[33mWARNING \u001b[0m Expected embedding dimension \u001b[1;36m4096\u001b[0m, but got \u001b[1;36m1024\u001b[0m                                                           \n"
      ]
     },
     "metadata": {},
     "output_type": "display_data"
    },
    {
     "name": "stderr",
     "output_type": "stream",
     "text": [
      "\n",
      "thread 'tokio-runtime-worker' panicked at /Users/runner/.cargo/registry/src/index.crates.io-1949cf8c6b5b557f/lance-encoding-0.30.0/src/data.rs:453:9:\n",
      "attempt to divide by zero\n",
      "\n",
      "thread 'tokio-runtime-worker' panicked at /Users/runner/.cargo/registry/src/index.crates.io-1949cf8c6b5b557f/lance-encoding-0.30.0/src/data.rs:453:9:\n",
      "attempt to divide by zero\n",
      "\n",
      "thread 'tokio-runtime-worker' panicked at /Users/runner/.cargo/registry/src/index.crates.io-1949cf8c6b5b557f/lance-encoding-0.30.0/src/data.rs:453:9:\n",
      "attempt to divide by zero\n",
      "\n",
      "thread 'tokio-runtime-worker' panicked at /Users/runner/.cargo/registry/src/index.crates.io-1949cf8c6b5b557f/lance-encoding-0.30.0/src/decoder.rs:1508:65:\n",
      "called `Result::unwrap()` on an `Err` value: JoinError::Panic(Id(72626), \"attempt to divide by zero\", ...)\n"
     ]
    },
    {
     "data": {
      "text/html": [
       "<pre style=\"white-space:pre;overflow-x:auto;line-height:normal;font-family:Menlo,'DejaVu Sans Mono',consolas,'Courier New',monospace\"><span style=\"color: #808000; text-decoration-color: #808000\">WARNING </span> Expected embedding dimension <span style=\"color: #008080; text-decoration-color: #008080; font-weight: bold\">4096</span>, but got <span style=\"color: #008080; text-decoration-color: #008080; font-weight: bold\">1024</span>                                                           \n",
       "</pre>\n"
      ],
      "text/plain": [
       "\u001b[33mWARNING \u001b[0m Expected embedding dimension \u001b[1;36m4096\u001b[0m, but got \u001b[1;36m1024\u001b[0m                                                           \n"
      ]
     },
     "metadata": {},
     "output_type": "display_data"
    },
    {
     "name": "stderr",
     "output_type": "stream",
     "text": [
      "\n",
      "thread 'tokio-runtime-worker' panicked at /Users/runner/.cargo/registry/src/index.crates.io-1949cf8c6b5b557f/lance-encoding-0.30.0/src/data.rs:453:9:\n",
      "attempt to divide by zero\n",
      "\n",
      "thread 'tokio-runtime-worker' panicked at /Users/runner/.cargo/registry/src/index.crates.io-1949cf8c6b5b557f/lance-encoding-0.30.0/src/data.rs:453:9:\n",
      "attempt to divide by zero\n",
      "\n",
      "thread 'tokio-runtime-worker' panicked at /Users/runner/.cargo/registry/src/index.crates.io-1949cf8c6b5b557f/lance-encoding-0.30.0/src/data.rs:453:9:\n",
      "attempt to divide by zero\n",
      "\n",
      "thread 'tokio-runtime-worker' panicked at /Users/runner/.cargo/registry/src/index.crates.io-1949cf8c6b5b557f/lance-encoding-0.30.0/src/decoder.rs:1508:65:\n",
      "called `Result::unwrap()` on an `Err` value: JoinError::Panic(Id(72781), \"attempt to divide by zero\", ...)\n"
     ]
    },
    {
     "data": {
      "text/html": [
       "<pre style=\"white-space:pre;overflow-x:auto;line-height:normal;font-family:Menlo,'DejaVu Sans Mono',consolas,'Courier New',monospace\"><span style=\"color: #808000; text-decoration-color: #808000\">WARNING </span> Expected embedding dimension <span style=\"color: #008080; text-decoration-color: #008080; font-weight: bold\">4096</span>, but got <span style=\"color: #008080; text-decoration-color: #008080; font-weight: bold\">1024</span>                                                           \n",
       "</pre>\n"
      ],
      "text/plain": [
       "\u001b[33mWARNING \u001b[0m Expected embedding dimension \u001b[1;36m4096\u001b[0m, but got \u001b[1;36m1024\u001b[0m                                                           \n"
      ]
     },
     "metadata": {},
     "output_type": "display_data"
    },
    {
     "name": "stderr",
     "output_type": "stream",
     "text": [
      "\n",
      "thread 'tokio-runtime-worker' panicked at /Users/runner/.cargo/registry/src/index.crates.io-1949cf8c6b5b557f/lance-encoding-0.30.0/src/data.rs:453:9:\n",
      "attempt to divide by zero\n",
      "\n",
      "thread 'tokio-runtime-worker' panicked at /Users/runner/.cargo/registry/src/index.crates.io-1949cf8c6b5b557f/lance-encoding-0.30.0/src/data.rs:453:9:\n",
      "attempt to divide by zero\n",
      "\n",
      "thread 'tokio-runtime-worker' panicked at /Users/runner/.cargo/registry/src/index.crates.io-1949cf8c6b5b557f/lance-encoding-0.30.0/src/data.rs:453:9:\n",
      "attempt to divide by zero\n",
      "\n",
      "thread 'tokio-runtime-worker' panicked at /Users/runner/.cargo/registry/src/index.crates.io-1949cf8c6b5b557f/lance-encoding-0.30.0/src/data.rs:453:9:\n",
      "attempt to divide by zero\n",
      "\n",
      "thread 'tokio-runtime-worker' panicked at /Users/runner/.cargo/registry/src/index.crates.io-1949cf8c6b5b557f/lance-encoding-0.30.0/src/data.rs:453:9:\n",
      "attempt to divide by zero\n",
      "\n",
      "thread 'tokio-runtime-worker' panicked at /Users/runner/.cargo/registry/src/index.crates.io-1949cf8c6b5b557f/lance-encoding-0.30.0/src/decoder.rs:1508:65:\n",
      "called `Result::unwrap()` on an `Err` value: JoinError::Panic(Id(72972), \"attempt to divide by zero\", ...)\n",
      "\n",
      "thread 'tokio-runtime-worker' panicked at /Users/runner/.cargo/registry/src/index.crates.io-1949cf8c6b5b557f/lance-encoding-0.30.0/src/data.rs:453:9:\n",
      "attempt to divide by zero\n"
     ]
    },
    {
     "data": {
      "text/html": [
       "<pre style=\"white-space:pre;overflow-x:auto;line-height:normal;font-family:Menlo,'DejaVu Sans Mono',consolas,'Courier New',monospace\"><span style=\"color: #808000; text-decoration-color: #808000\">WARNING </span> Expected embedding dimension <span style=\"color: #008080; text-decoration-color: #008080; font-weight: bold\">4096</span>, but got <span style=\"color: #008080; text-decoration-color: #008080; font-weight: bold\">1024</span>                                                           \n",
       "</pre>\n"
      ],
      "text/plain": [
       "\u001b[33mWARNING \u001b[0m Expected embedding dimension \u001b[1;36m4096\u001b[0m, but got \u001b[1;36m1024\u001b[0m                                                           \n"
      ]
     },
     "metadata": {},
     "output_type": "display_data"
    },
    {
     "name": "stderr",
     "output_type": "stream",
     "text": [
      "\n",
      "thread 'tokio-runtime-worker' panicked at /Users/runner/.cargo/registry/src/index.crates.io-1949cf8c6b5b557f/lance-encoding-0.30.0/src/data.rs:453:9:\n",
      "attempt to divide by zero\n",
      "\n",
      "thread 'tokio-runtime-worker' panicked at /Users/runner/.cargo/registry/src/index.crates.io-1949cf8c6b5b557f/lance-encoding-0.30.0/src/data.rs:453:9:\n",
      "attempt to divide by zero\n",
      "\n",
      "thread 'tokio-runtime-worker' panicked at /Users/runner/.cargo/registry/src/index.crates.io-1949cf8c6b5b557f/lance-encoding-0.30.0/src/data.rs:453:9:\n",
      "attempt to divide by zero\n",
      "\n",
      "thread 'tokio-runtime-worker' panicked at /Users/runner/.cargo/registry/src/index.crates.io-1949cf8c6b5b557f/lance-encoding-0.30.0/src/decoder.rs:1508:65:\n",
      "called `Result::unwrap()` on an `Err` value: JoinError::Panic(Id(73119), \"attempt to divide by zero\", ...)\n"
     ]
    },
    {
     "data": {
      "text/html": [
       "<pre style=\"white-space:pre;overflow-x:auto;line-height:normal;font-family:Menlo,'DejaVu Sans Mono',consolas,'Courier New',monospace\"><span style=\"color: #808000; text-decoration-color: #808000\">WARNING </span> Expected embedding dimension <span style=\"color: #008080; text-decoration-color: #008080; font-weight: bold\">4096</span>, but got <span style=\"color: #008080; text-decoration-color: #008080; font-weight: bold\">1024</span>                                                           \n",
       "</pre>\n"
      ],
      "text/plain": [
       "\u001b[33mWARNING \u001b[0m Expected embedding dimension \u001b[1;36m4096\u001b[0m, but got \u001b[1;36m1024\u001b[0m                                                           \n"
      ]
     },
     "metadata": {},
     "output_type": "display_data"
    },
    {
     "name": "stderr",
     "output_type": "stream",
     "text": [
      "\n",
      "thread 'tokio-runtime-worker' panicked at /Users/runner/.cargo/registry/src/index.crates.io-1949cf8c6b5b557f/lance-encoding-0.30.0/src/data.rs:453:9:\n",
      "attempt to divide by zero\n",
      "\n",
      "thread 'tokio-runtime-worker' panicked at /Users/runner/.cargo/registry/src/index.crates.io-1949cf8c6b5b557f/lance-encoding-0.30.0/src/decoder.rs:1508:65:\n",
      "called `Result::unwrap()` on an `Err` value: JoinError::Panic(Id(73277), \"attempt to divide by zero\", ...)\n"
     ]
    },
    {
     "data": {
      "text/html": [
       "<pre style=\"white-space:pre;overflow-x:auto;line-height:normal;font-family:Menlo,'DejaVu Sans Mono',consolas,'Courier New',monospace\"><span style=\"color: #808000; text-decoration-color: #808000\">WARNING </span> Expected embedding dimension <span style=\"color: #008080; text-decoration-color: #008080; font-weight: bold\">4096</span>, but got <span style=\"color: #008080; text-decoration-color: #008080; font-weight: bold\">1024</span>                                                           \n",
       "</pre>\n"
      ],
      "text/plain": [
       "\u001b[33mWARNING \u001b[0m Expected embedding dimension \u001b[1;36m4096\u001b[0m, but got \u001b[1;36m1024\u001b[0m                                                           \n"
      ]
     },
     "metadata": {},
     "output_type": "display_data"
    },
    {
     "name": "stderr",
     "output_type": "stream",
     "text": [
      "\n",
      "thread 'tokio-runtime-worker' panicked at /Users/runner/.cargo/registry/src/index.crates.io-1949cf8c6b5b557f/lance-encoding-0.30.0/src/data.rs:453:9:\n",
      "attempt to divide by zero\n",
      "\n",
      "thread 'tokio-runtime-worker' panicked at /Users/runner/.cargo/registry/src/index.crates.io-1949cf8c6b5b557f/lance-encoding-0.30.0/src/data.rs:453:9:\n",
      "attempt to divide by zero\n",
      "\n",
      "thread 'tokio-runtime-worker' panicked at /Users/runner/.cargo/registry/src/index.crates.io-1949cf8c6b5b557f/lance-encoding-0.30.0/src/data.rs:453:9:\n",
      "attempt to divide by zero\n",
      "\n",
      "thread 'tokio-runtime-worker' panicked at /Users/runner/.cargo/registry/src/index.crates.io-1949cf8c6b5b557f/lance-encoding-0.30.0/src/decoder.rs:1508:65:\n",
      "called `Result::unwrap()` on an `Err` value: JoinError::Panic(Id(73413), \"attempt to divide by zero\", ...)\n",
      "\n",
      "thread 'tokio-runtime-worker' panicked at /Users/runner/.cargo/registry/src/index.crates.io-1949cf8c6b5b557f/lance-encoding-0.30.0/src/data.rs:453:9:\n",
      "attempt to divide by zero\n",
      "\n",
      "thread 'tokio-runtime-worker' panicked at /Users/runner/.cargo/registry/src/index.crates.io-1949cf8c6b5b557f/lance-encoding-0.30.0/src/data.rs:453:9:\n",
      "attempt to divide by zero\n",
      "\n",
      "thread 'tokio-runtime-worker' panicked at /Users/runner/.cargo/registry/src/index.crates.io-1949cf8c6b5b557f/lance-encoding-0.30.0/src/data.rs:453:9:\n",
      "attempt to divide by zero\n"
     ]
    },
    {
     "data": {
      "text/html": [
       "<pre style=\"white-space:pre;overflow-x:auto;line-height:normal;font-family:Menlo,'DejaVu Sans Mono',consolas,'Courier New',monospace\"><span style=\"color: #808000; text-decoration-color: #808000\">WARNING </span> Expected embedding dimension <span style=\"color: #008080; text-decoration-color: #008080; font-weight: bold\">4096</span>, but got <span style=\"color: #008080; text-decoration-color: #008080; font-weight: bold\">1024</span>                                                           \n",
       "</pre>\n"
      ],
      "text/plain": [
       "\u001b[33mWARNING \u001b[0m Expected embedding dimension \u001b[1;36m4096\u001b[0m, but got \u001b[1;36m1024\u001b[0m                                                           \n"
      ]
     },
     "metadata": {},
     "output_type": "display_data"
    },
    {
     "name": "stderr",
     "output_type": "stream",
     "text": [
      "\n",
      "thread 'tokio-runtime-worker' panicked at /Users/runner/.cargo/registry/src/index.crates.io-1949cf8c6b5b557f/lance-encoding-0.30.0/src/data.rs:453:9:\n",
      "attempt to divide by zero\n",
      "\n",
      "thread 'tokio-runtime-worker' panicked at /Users/runner/.cargo/registry/src/index.crates.io-1949cf8c6b5b557f/lance-encoding-0.30.0/src/data.rs:453:9:\n",
      "attempt to divide by zero\n",
      "\n",
      "thread 'tokio-runtime-worker' panicked at /Users/runner/.cargo/registry/src/index.crates.io-1949cf8c6b5b557f/lance-encoding-0.30.0/src/data.rs:453:9:\n",
      "attempt to divide by zero\n",
      "\n",
      "thread 'tokio-runtime-worker' panicked at /Users/runner/.cargo/registry/src/index.crates.io-1949cf8c6b5b557f/lance-encoding-0.30.0/src/decoder.rs:1508:65:\n",
      "called `Result::unwrap()` on an `Err` value: JoinError::Panic(Id(73614), \"attempt to divide by zero\", ...)\n"
     ]
    },
    {
     "data": {
      "text/html": [
       "<pre style=\"white-space:pre;overflow-x:auto;line-height:normal;font-family:Menlo,'DejaVu Sans Mono',consolas,'Courier New',monospace\"><span style=\"color: #808000; text-decoration-color: #808000\">WARNING </span> Expected embedding dimension <span style=\"color: #008080; text-decoration-color: #008080; font-weight: bold\">4096</span>, but got <span style=\"color: #008080; text-decoration-color: #008080; font-weight: bold\">1024</span>                                                           \n",
       "</pre>\n"
      ],
      "text/plain": [
       "\u001b[33mWARNING \u001b[0m Expected embedding dimension \u001b[1;36m4096\u001b[0m, but got \u001b[1;36m1024\u001b[0m                                                           \n"
      ]
     },
     "metadata": {},
     "output_type": "display_data"
    },
    {
     "name": "stderr",
     "output_type": "stream",
     "text": [
      "\n",
      "thread 'tokio-runtime-worker' panicked at /Users/runner/.cargo/registry/src/index.crates.io-1949cf8c6b5b557f/lance-encoding-0.30.0/src/data.rs:453:9:\n",
      "attempt to divide by zero\n",
      "\n",
      "thread 'tokio-runtime-worker' panicked at /Users/runner/.cargo/registry/src/index.crates.io-1949cf8c6b5b557f/lance-encoding-0.30.0/src/data.rs:453:9:\n",
      "attempt to divide by zero\n",
      "\n",
      "thread 'tokio-runtime-worker' panicked at /Users/runner/.cargo/registry/src/index.crates.io-1949cf8c6b5b557f/lance-encoding-0.30.0/src/data.rs:453:9:\n",
      "attempt to divide by zero\n",
      "\n",
      "thread 'tokio-runtime-worker' panicked at /Users/runner/.cargo/registry/src/index.crates.io-1949cf8c6b5b557f/lance-encoding-0.30.0/src/decoder.rs:1508:65:\n",
      "called `Result::unwrap()` on an `Err` value: JoinError::Panic(Id(73778), \"attempt to divide by zero\", ...)\n",
      "\n",
      "thread 'tokio-runtime-worker' panicked at /Users/runner/.cargo/registry/src/index.crates.io-1949cf8c6b5b557f/lance-encoding-0.30.0/src/data.rs:453:9:\n",
      "attempt to divide by zero\n",
      "\n",
      "thread 'tokio-runtime-worker' panicked at /Users/runner/.cargo/registry/src/index.crates.io-1949cf8c6b5b557f/lance-encoding-0.30.0/src/data.rs:453:9:\n",
      "attempt to divide by zero\n",
      "\n",
      "thread 'tokio-runtime-worker' panicked at /Users/runner/.cargo/registry/src/index.crates.io-1949cf8c6b5b557f/lance-encoding-0.30.0/src/data.rs:453:9:\n",
      "attempt to divide by zero\n"
     ]
    },
    {
     "data": {
      "text/html": [
       "<pre style=\"white-space:pre;overflow-x:auto;line-height:normal;font-family:Menlo,'DejaVu Sans Mono',consolas,'Courier New',monospace\"><span style=\"color: #808000; text-decoration-color: #808000\">WARNING </span> Expected embedding dimension <span style=\"color: #008080; text-decoration-color: #008080; font-weight: bold\">4096</span>, but got <span style=\"color: #008080; text-decoration-color: #008080; font-weight: bold\">1024</span>                                                           \n",
       "</pre>\n"
      ],
      "text/plain": [
       "\u001b[33mWARNING \u001b[0m Expected embedding dimension \u001b[1;36m4096\u001b[0m, but got \u001b[1;36m1024\u001b[0m                                                           \n"
      ]
     },
     "metadata": {},
     "output_type": "display_data"
    },
    {
     "name": "stderr",
     "output_type": "stream",
     "text": [
      "\n",
      "thread 'tokio-runtime-worker' panicked at /Users/runner/.cargo/registry/src/index.crates.io-1949cf8c6b5b557f/lance-encoding-0.30.0/src/data.rs:453:9:\n",
      "attempt to divide by zero\n",
      "\n",
      "thread 'tokio-runtime-worker' panicked at /Users/runner/.cargo/registry/src/index.crates.io-1949cf8c6b5b557f/lance-encoding-0.30.0/src/decoder.rs:1508:65:\n",
      "called `Result::unwrap()` on an `Err` value: JoinError::Panic(Id(73946), \"attempt to divide by zero\", ...)\n"
     ]
    },
    {
     "data": {
      "text/html": [
       "<pre style=\"white-space:pre;overflow-x:auto;line-height:normal;font-family:Menlo,'DejaVu Sans Mono',consolas,'Courier New',monospace\"><span style=\"color: #808000; text-decoration-color: #808000\">WARNING </span> Expected embedding dimension <span style=\"color: #008080; text-decoration-color: #008080; font-weight: bold\">4096</span>, but got <span style=\"color: #008080; text-decoration-color: #008080; font-weight: bold\">1024</span>                                                           \n",
       "</pre>\n"
      ],
      "text/plain": [
       "\u001b[33mWARNING \u001b[0m Expected embedding dimension \u001b[1;36m4096\u001b[0m, but got \u001b[1;36m1024\u001b[0m                                                           \n"
      ]
     },
     "metadata": {},
     "output_type": "display_data"
    },
    {
     "name": "stderr",
     "output_type": "stream",
     "text": [
      "\n",
      "thread 'tokio-runtime-worker' panicked at /Users/runner/.cargo/registry/src/index.crates.io-1949cf8c6b5b557f/lance-encoding-0.30.0/src/data.rs:453:9:\n",
      "attempt to divide by zero\n",
      "\n",
      "thread 'tokio-runtime-worker' panicked at /Users/runner/.cargo/registry/src/index.crates.io-1949cf8c6b5b557f/lance-encoding-0.30.0/src/data.rs:453:9:\n",
      "attempt to divide by zero\n",
      "\n",
      "thread 'tokio-runtime-worker' panicked at /Users/runner/.cargo/registry/src/index.crates.io-1949cf8c6b5b557f/lance-encoding-0.30.0/src/data.rs:453:9:\n",
      "attempt to divide by zero\n",
      "\n",
      "thread 'tokio-runtime-worker' panicked at /Users/runner/.cargo/registry/src/index.crates.io-1949cf8c6b5b557f/lance-encoding-0.30.0/src/data.rs:453:9:\n",
      "attempt to divide by zero\n",
      "\n",
      "thread 'tokio-runtime-worker' panicked at /Users/runner/.cargo/registry/src/index.crates.io-1949cf8c6b5b557f/lance-encoding-0.30.0/src/decoder.rs:1508:65:\n",
      "called `Result::unwrap()` on an `Err` value: JoinError::Panic(Id(74094), \"attempt to divide by zero\", ...)\n",
      "\n",
      "thread 'tokio-runtime-worker' panicked at /Users/runner/.cargo/registry/src/index.crates.io-1949cf8c6b5b557f/lance-encoding-0.30.0/src/data.rs:453:9:\n",
      "attempt to divide by zero\n",
      "\n",
      "thread 'tokio-runtime-worker' panicked at /Users/runner/.cargo/registry/src/index.crates.io-1949cf8c6b5b557f/lance-encoding-0.30.0/src/data.rs:453:9:\n",
      "attempt to divide by zero\n"
     ]
    },
    {
     "data": {
      "text/html": [
       "<pre style=\"white-space:pre;overflow-x:auto;line-height:normal;font-family:Menlo,'DejaVu Sans Mono',consolas,'Courier New',monospace\"><span style=\"color: #808000; text-decoration-color: #808000\">WARNING </span> Expected embedding dimension <span style=\"color: #008080; text-decoration-color: #008080; font-weight: bold\">4096</span>, but got <span style=\"color: #008080; text-decoration-color: #008080; font-weight: bold\">1024</span>                                                           \n",
       "</pre>\n"
      ],
      "text/plain": [
       "\u001b[33mWARNING \u001b[0m Expected embedding dimension \u001b[1;36m4096\u001b[0m, but got \u001b[1;36m1024\u001b[0m                                                           \n"
      ]
     },
     "metadata": {},
     "output_type": "display_data"
    },
    {
     "name": "stderr",
     "output_type": "stream",
     "text": [
      "\n",
      "thread 'tokio-runtime-worker' panicked at /Users/runner/.cargo/registry/src/index.crates.io-1949cf8c6b5b557f/lance-encoding-0.30.0/src/data.rs:453:9:\n",
      "attempt to divide by zero\n",
      "\n",
      "thread 'tokio-runtime-worker' panicked at /Users/runner/.cargo/registry/src/index.crates.io-1949cf8c6b5b557f/lance-encoding-0.30.0/src/data.rs:453:9:\n",
      "attempt to divide by zero\n",
      "\n",
      "thread 'tokio-runtime-worker' panicked at /Users/runner/.cargo/registry/src/index.crates.io-1949cf8c6b5b557f/lance-encoding-0.30.0/src/decoder.rs:1508:65:\n",
      "called `Result::unwrap()` on an `Err` value: JoinError::Panic(Id(74264), \"attempt to divide by zero\", ...)\n"
     ]
    },
    {
     "data": {
      "text/html": [
       "<pre style=\"white-space:pre;overflow-x:auto;line-height:normal;font-family:Menlo,'DejaVu Sans Mono',consolas,'Courier New',monospace\"><span style=\"color: #808000; text-decoration-color: #808000\">WARNING </span> Expected embedding dimension <span style=\"color: #008080; text-decoration-color: #008080; font-weight: bold\">4096</span>, but got <span style=\"color: #008080; text-decoration-color: #008080; font-weight: bold\">1024</span>                                                           \n",
       "</pre>\n"
      ],
      "text/plain": [
       "\u001b[33mWARNING \u001b[0m Expected embedding dimension \u001b[1;36m4096\u001b[0m, but got \u001b[1;36m1024\u001b[0m                                                           \n"
      ]
     },
     "metadata": {},
     "output_type": "display_data"
    },
    {
     "data": {
      "text/html": [
       "<pre style=\"white-space:pre;overflow-x:auto;line-height:normal;font-family:Menlo,'DejaVu Sans Mono',consolas,'Courier New',monospace\"><span style=\"color: #000080; text-decoration-color: #000080\">INFO</span> Added <span style=\"color: #008080; text-decoration-color: #008080; font-weight: bold\">92</span> documents to knowledge base                                                                          \n",
       "</pre>\n"
      ],
      "text/plain": [
       "\u001b[34mINFO\u001b[0m Added \u001b[1;36m92\u001b[0m documents to knowledge base                                                                          \n"
      ]
     },
     "metadata": {},
     "output_type": "display_data"
    }
   ],
   "source": [
    "# Comment out after first run as the knowledge base is loaded\n",
    "knowledge_base.load()"
   ]
  },
  {
   "cell_type": "code",
   "execution_count": 5,
   "id": "37858f5b-3c01-41a7-b1aa-df6dd4923b5f",
   "metadata": {},
   "outputs": [
    {
     "data": {
      "application/vnd.jupyter.widget-view+json": {
       "model_id": "f03da742bded4500a5f996454f54e30b",
       "version_major": 2,
       "version_minor": 0
      },
      "text/plain": [
       "Output()"
      ]
     },
     "metadata": {},
     "output_type": "display_data"
    },
    {
     "data": {
      "text/html": [
       "<pre style=\"white-space:pre;overflow-x:auto;line-height:normal;font-family:Menlo,'DejaVu Sans Mono',consolas,'Courier New',monospace\"></pre>\n"
      ],
      "text/plain": []
     },
     "metadata": {},
     "output_type": "display_data"
    }
   ],
   "source": [
    "agent = Agent(\n",
    "    model=OllamaTools(id=\"hermes3:8b-llama3.1-q8_0\", host=OLLAMA_HOST),\n",
    "    markdown=True,\n",
    ")\n",
    "agent.print_response(\"How can LLMs be served on OpenShift AI?\", stream=True)"
   ]
  },
  {
   "cell_type": "markdown",
   "id": "f5d6282c-c10e-4204-b0c7-cf837135dd19",
   "metadata": {},
   "source": [
    "That's ok but not perfect. Can we make it better? Let's include our knowledge base with the RHOAI model serving documentation."
   ]
  },
  {
   "cell_type": "code",
   "execution_count": 6,
   "id": "7c46d357-3846-4f6c-9317-658959df9a80",
   "metadata": {},
   "outputs": [
    {
     "data": {
      "application/vnd.jupyter.widget-view+json": {
       "model_id": "9e0fabe81cb5444b93eb958c3e6f689b",
       "version_major": 2,
       "version_minor": 0
      },
      "text/plain": [
       "Output()"
      ]
     },
     "metadata": {},
     "output_type": "display_data"
    },
    {
     "data": {
      "text/html": [
       "<pre style=\"white-space:pre;overflow-x:auto;line-height:normal;font-family:Menlo,'DejaVu Sans Mono',consolas,'Courier New',monospace\"></pre>\n"
      ],
      "text/plain": []
     },
     "metadata": {},
     "output_type": "display_data"
    }
   ],
   "source": [
    "rag_agent = Agent(\n",
    "    #model=OllamaTools(id=\"granite3-dense:2b-instruct-q8_0\", options={\"num_ctx\": 4096}, host=OLLAMA_HOST),\n",
    "    # It's import to increase the context size from the Ollama default of 2048, otherwise the input will be truncated\n",
    "    model=OllamaTools(id=\"hermes3:8b-llama3.1-q8_0\", options={\"num_ctx\": 4096}, host=OLLAMA_HOST),\n",
    "    instructions=[\"Retrieve relevant OpenShift AI information from the knowledge base\"],\n",
    "    # Add the knowledge base to the agent\n",
    "    knowledge=knowledge_base,\n",
    "    add_references_to_prompt=True,\n",
    "    show_tool_calls=True,\n",
    "    markdown=True,\n",
    ")\n",
    "rag_agent.print_response(\"How can LLMs be served on OpenShift AI?\", stream=True)"
   ]
  },
  {
   "cell_type": "markdown",
   "id": "2ba6abee-4e14-4619-b297-bebb86996c25",
   "metadata": {},
   "source": [
    "That's a much better answer for OpenShift AI."
   ]
  }
 ],
 "metadata": {
  "kernelspec": {
   "display_name": "Python 3 (ipykernel)",
   "language": "python",
   "name": "python3"
  },
  "language_info": {
   "codemirror_mode": {
    "name": "ipython",
    "version": 3
   },
   "file_extension": ".py",
   "mimetype": "text/x-python",
   "name": "python",
   "nbconvert_exporter": "python",
   "pygments_lexer": "ipython3",
   "version": "3.11.10"
  }
 },
 "nbformat": 4,
 "nbformat_minor": 5
}
